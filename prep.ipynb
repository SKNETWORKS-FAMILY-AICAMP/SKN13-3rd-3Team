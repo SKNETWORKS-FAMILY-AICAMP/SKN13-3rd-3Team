{
 "cells": [
  {
   "cell_type": "markdown",
   "id": "e4b38846",
   "metadata": {},
   "source": [
    "# SKN13-3rd-3Team: Data Preprocessing\n",
    "\n",
    "1. Preprocessing\n",
    "\n",
    "2. ~~Sentiment Analysis for metadata~~"
   ]
  },
  {
   "cell_type": "code",
   "execution_count": null,
   "id": "e0dfd1ab",
   "metadata": {},
   "outputs": [
    {
     "name": "stdout",
     "output_type": "stream",
     "text": [
      "<class 'pandas.core.frame.DataFrame'>\n",
      "RangeIndex: 116418 entries, 0 to 116417\n",
      "Data columns (total 19 columns):\n",
      " #   Column         Non-Null Count   Dtype \n",
      "---  ------         --------------   ----- \n",
      " 0   제품명            116418 non-null  object\n",
      " 1   이미지 URL        116418 non-null  object\n",
      " 2   내용물의 용량 또는 중량  116418 non-null  object\n",
      " 3   제품 주요 사양       116418 non-null  object\n",
      " 4   사용기한           116418 non-null  object\n",
      " 5   사용방법           116418 non-null  object\n",
      " 6   제조업자 등         116418 non-null  object\n",
      " 7   제조국            115787 non-null  object\n",
      " 8   성분             115787 non-null  object\n",
      " 9   기능성 여부         115787 non-null  object\n",
      " 10  주의사항           115787 non-null  object\n",
      " 11  품질보증기준         115787 non-null  object\n",
      " 12  소비자상담          115787 non-null  object\n",
      " 13  리뷰 ID          116418 non-null  object\n",
      " 14  별점             116418 non-null  object\n",
      " 15  피부타입           116418 non-null  object\n",
      " 16  피부고민           116418 non-null  object\n",
      " 17  자극도            116418 non-null  object\n",
      " 18  리뷰             116418 non-null  object\n",
      "dtypes: object(19)\n",
      "memory usage: 16.9+ MB\n"
     ]
    }
   ],
   "source": [
    "import pandas as pd\n",
    "\n",
    "df = pd.read_csv('oliveyoung_cream_1_11.csv')\n",
    "df.head()\n",
    "df.info()"
   ]
  },
  {
   "cell_type": "markdown",
   "id": "301c23a3",
   "metadata": {},
   "source": [
    "## Preprocessing: cleansing, outliers, and missing values\n",
    "\n",
    "- 결측치를 제거합니다.\n",
    "- 제품명에 들어간 불필요한 요소를 전처리합니다.\n",
    "    - ‘리필’ 또는 ‘기획’이 들어간 경우 데이터 포인트 자체를 제거합니다.\n",
    "    - 괄호(`[]`, `()` 등)와 괄호 안의 문자열을 제거합니다.\n",
    "    - 제품명에 증정품 관련 문자열이 있는 경우 제거합니다.\n",
    "        > e.g.\n",
    "        >    \n",
    "        >    ‘A사 a 로션 + 토너 50ml’의 경우 ‘ + 토너 50ml’를 제품명에서 제거합니다.\n",
    "            \n",
    "- 리뷰가 100개 미만인 제품은 이상치로 간주하여 제거합니다.\n",
    "- 불필요한 열을 제거합니다. **이 부분은 같이 얘기해봐요**\n",
    "- 리뷰를 문장 단위로 split합니다.\n",
    "    - `kss.split_sentences`\n",
    "    - 분리된 문장만큼 행을 확장합니다\n",
    "        > e.g.\n",
    "        >\n",
    "        > A 제품의 리뷰들 중 k번째 리뷰는 4개의 문장으로 구성되어 있습니다.\n",
    "        >\n",
    "        > 이 리뷰가 차지하는 행은 1개였지만, split이 완료되면 4개가 됩니다."
   ]
  },
  {
   "cell_type": "code",
   "execution_count": null,
   "id": "77bf9df0",
   "metadata": {},
   "outputs": [
    {
     "name": "stdout",
     "output_type": "stream",
     "text": [
      "<class 'pandas.core.frame.DataFrame'>\n",
      "Index: 115787 entries, 0 to 116417\n",
      "Data columns (total 19 columns):\n",
      " #   Column         Non-Null Count   Dtype \n",
      "---  ------         --------------   ----- \n",
      " 0   제품명            115787 non-null  object\n",
      " 1   이미지 URL        115787 non-null  object\n",
      " 2   내용물의 용량 또는 중량  115787 non-null  object\n",
      " 3   제품 주요 사양       115787 non-null  object\n",
      " 4   사용기한           115787 non-null  object\n",
      " 5   사용방법           115787 non-null  object\n",
      " 6   제조업자 등         115787 non-null  object\n",
      " 7   제조국            115787 non-null  object\n",
      " 8   성분             115787 non-null  object\n",
      " 9   기능성 여부         115787 non-null  object\n",
      " 10  주의사항           115787 non-null  object\n",
      " 11  품질보증기준         115787 non-null  object\n",
      " 12  소비자상담          115787 non-null  object\n",
      " 13  리뷰 ID          115787 non-null  object\n",
      " 14  별점             115787 non-null  object\n",
      " 15  피부타입           115787 non-null  object\n",
      " 16  피부고민           115787 non-null  object\n",
      " 17  자극도            115787 non-null  object\n",
      " 18  리뷰             115787 non-null  object\n",
      "dtypes: object(19)\n",
      "memory usage: 17.7+ MB\n"
     ]
    }
   ],
   "source": [
    "df.dropna(inplace=True)\n",
    "df.isna().sum()\n",
    "df.info()"
   ]
  },
  {
   "cell_type": "code",
   "execution_count": null,
   "id": "cf475e5b",
   "metadata": {},
   "outputs": [
    {
     "name": "stdout",
     "output_type": "stream",
     "text": [
      "<class 'pandas.core.frame.DataFrame'>\n",
      "Index: 37638 entries, 0 to 114334\n",
      "Data columns (total 19 columns):\n",
      " #   Column         Non-Null Count  Dtype \n",
      "---  ------         --------------  ----- \n",
      " 0   제품명            37638 non-null  object\n",
      " 1   이미지 URL        37638 non-null  object\n",
      " 2   내용물의 용량 또는 중량  37638 non-null  object\n",
      " 3   제품 주요 사양       37638 non-null  object\n",
      " 4   사용기한           37638 non-null  object\n",
      " 5   사용방법           37638 non-null  object\n",
      " 6   제조업자 등         37638 non-null  object\n",
      " 7   제조국            37638 non-null  object\n",
      " 8   성분             37638 non-null  object\n",
      " 9   기능성 여부         37638 non-null  object\n",
      " 10  주의사항           37638 non-null  object\n",
      " 11  품질보증기준         37638 non-null  object\n",
      " 12  소비자상담          37638 non-null  object\n",
      " 13  리뷰 ID          37638 non-null  object\n",
      " 14  별점             37638 non-null  object\n",
      " 15  피부타입           37638 non-null  object\n",
      " 16  피부고민           37638 non-null  object\n",
      " 17  자극도            37638 non-null  object\n",
      " 18  리뷰             37638 non-null  object\n",
      "dtypes: object(19)\n",
      "memory usage: 5.7+ MB\n"
     ]
    }
   ],
   "source": [
    "df = df[~((df['제품명'].str.contains('리필')) | (df['제품명'].str.contains('기획')))]\n",
    "df.info()"
   ]
  },
  {
   "cell_type": "code",
   "execution_count": null,
   "id": "74e8e3ec",
   "metadata": {},
   "outputs": [
    {
     "name": "stdout",
     "output_type": "stream",
     "text": [
      "<class 'pandas.core.frame.DataFrame'>\n",
      "Index: 35351 entries, 776 to 114334\n",
      "Data columns (total 19 columns):\n",
      " #   Column         Non-Null Count  Dtype \n",
      "---  ------         --------------  ----- \n",
      " 0   제품명            35351 non-null  object\n",
      " 1   이미지 URL        35351 non-null  object\n",
      " 2   내용물의 용량 또는 중량  35351 non-null  object\n",
      " 3   제품 주요 사양       35351 non-null  object\n",
      " 4   사용기한           35351 non-null  object\n",
      " 5   사용방법           35351 non-null  object\n",
      " 6   제조업자 등         35351 non-null  object\n",
      " 7   제조국            35351 non-null  object\n",
      " 8   성분             35351 non-null  object\n",
      " 9   기능성 여부         35351 non-null  object\n",
      " 10  주의사항           35351 non-null  object\n",
      " 11  품질보증기준         35351 non-null  object\n",
      " 12  소비자상담          35351 non-null  object\n",
      " 13  리뷰 ID          35351 non-null  object\n",
      " 14  별점             35351 non-null  object\n",
      " 15  피부타입           35351 non-null  object\n",
      " 16  피부고민           35351 non-null  object\n",
      " 17  자극도            35351 non-null  object\n",
      " 18  리뷰             35351 non-null  object\n",
      "dtypes: object(19)\n",
      "memory usage: 5.4+ MB\n"
     ]
    }
   ],
   "source": [
    "counts = df['제품명'].value_counts()\n",
    "over100 = counts[counts >= 100].index.tolist()\n",
    "df = df[df['제품명'].isin(over100)]\n",
    "df.info()"
   ]
  },
  {
   "cell_type": "code",
   "execution_count": null,
   "id": "5a8a0fc3",
   "metadata": {},
   "outputs": [
    {
     "data": {
      "text/plain": [
       "count      67.000000\n",
       "mean      527.626866\n",
       "std       363.948832\n",
       "min       102.000000\n",
       "25%       154.500000\n",
       "50%       456.000000\n",
       "75%       995.000000\n",
       "max      1000.000000\n",
       "Name: count, dtype: float64"
      ]
     },
     "metadata": {},
     "output_type": "display_data"
    }
   ],
   "source": [
    "df['제품명'].value_counts().describe()"
   ]
  },
  {
   "cell_type": "code",
   "execution_count": null,
   "id": "58c4ee4c",
   "metadata": {},
   "outputs": [
    {
     "data": {
      "application/vnd.jupyter.widget-view+json": {
       "model_id": "1afb9363625441e68082e79c1a31b53f",
       "version_major": 2,
       "version_minor": 0
      },
      "text/plain": [
       "Tokenizing...:   0%|          | 0/35351 [00:00<?, ?it/s]"
      ]
     },
     "metadata": {},
     "output_type": "display_data"
    },
    {
     "name": "stderr",
     "output_type": "stream",
     "text": [
      "[Kss]: Oh! You have mecab in your environment. Kss will take this as a backend! :D\n",
      "\n"
     ]
    },
    {
     "data": {
      "text/html": [
       "<div>\n",
       "<style scoped>\n",
       "    .dataframe tbody tr th:only-of-type {\n",
       "        vertical-align: middle;\n",
       "    }\n",
       "\n",
       "    .dataframe tbody tr th {\n",
       "        vertical-align: top;\n",
       "    }\n",
       "\n",
       "    .dataframe thead th {\n",
       "        text-align: right;\n",
       "    }\n",
       "</style>\n",
       "<table border=\"1\" class=\"dataframe\">\n",
       "  <thead>\n",
       "    <tr style=\"text-align: right;\">\n",
       "      <th></th>\n",
       "      <th>제품명</th>\n",
       "      <th>이미지 URL</th>\n",
       "      <th>내용물의 용량 또는 중량</th>\n",
       "      <th>제품 주요 사양</th>\n",
       "      <th>사용기한</th>\n",
       "      <th>사용방법</th>\n",
       "      <th>제조업자 등</th>\n",
       "      <th>제조국</th>\n",
       "      <th>성분</th>\n",
       "      <th>기능성 여부</th>\n",
       "      <th>주의사항</th>\n",
       "      <th>품질보증기준</th>\n",
       "      <th>소비자상담</th>\n",
       "      <th>리뷰 ID</th>\n",
       "      <th>별점</th>\n",
       "      <th>피부타입</th>\n",
       "      <th>피부고민</th>\n",
       "      <th>자극도</th>\n",
       "      <th>문장</th>\n",
       "    </tr>\n",
       "  </thead>\n",
       "  <tbody>\n",
       "    <tr>\n",
       "      <th>0</th>\n",
       "      <td>[탱글장벽크림/NEW] 퍼셀 픽셀바이옴 히알 콜라겐 스플래쉬 크림 50ml</td>\n",
       "      <td>https://image.oliveyoung.co.kr/cfimages/cf-goo...</td>\n",
       "      <td>50ml</td>\n",
       "      <td>모든 피부 타입</td>\n",
       "      <td>제조일로부터 36개월/개봉 후 12개월</td>\n",
       "      <td>스킨케어 마지막 단계에서 적당량을 덜어 골고루 펴 발라 줍니다.</td>\n",
       "      <td>코스맥스(주) / (주)퍼셀</td>\n",
       "      <td>대한민국</td>\n",
       "      <td>정제수, 비닐다이메티콘, 글리세린, 부틸렌글라이콜, 비피다발효용해물(2.25%), ...</td>\n",
       "      <td>화장품법에 따른 기능성 화장품 심사(또는 보고)를 필함</td>\n",
       "      <td>가. 화장품 사용 시 또는 사용 후 직사광선에 의하여 사용부위가 붉은 반점, 부어오...</td>\n",
       "      <td>본 제품은 공정거래위원회고시 소비자분쟁해결 기준에 의거 교환 또는 보상 받을 수 있...</td>\n",
       "      <td>1833-9544</td>\n",
       "      <td>코더긔</td>\n",
       "      <td>5점만점에 5점</td>\n",
       "      <td>건성에 좋아요</td>\n",
       "      <td>보습에 좋아요</td>\n",
       "      <td>자극없이 순해요</td>\n",
       "      <td>✨ 여름 쿨 라이트 / 21~22호 / 건성, 민감성 피부 ✨\\n\\n🐤 구매 가격\\...</td>\n",
       "    </tr>\n",
       "    <tr>\n",
       "      <th>1</th>\n",
       "      <td>[탱글장벽크림/NEW] 퍼셀 픽셀바이옴 히알 콜라겐 스플래쉬 크림 50ml</td>\n",
       "      <td>https://image.oliveyoung.co.kr/cfimages/cf-goo...</td>\n",
       "      <td>50ml</td>\n",
       "      <td>모든 피부 타입</td>\n",
       "      <td>제조일로부터 36개월/개봉 후 12개월</td>\n",
       "      <td>스킨케어 마지막 단계에서 적당량을 덜어 골고루 펴 발라 줍니다.</td>\n",
       "      <td>코스맥스(주) / (주)퍼셀</td>\n",
       "      <td>대한민국</td>\n",
       "      <td>정제수, 비닐다이메티콘, 글리세린, 부틸렌글라이콜, 비피다발효용해물(2.25%), ...</td>\n",
       "      <td>화장품법에 따른 기능성 화장품 심사(또는 보고)를 필함</td>\n",
       "      <td>가. 화장품 사용 시 또는 사용 후 직사광선에 의하여 사용부위가 붉은 반점, 부어오...</td>\n",
       "      <td>본 제품은 공정거래위원회고시 소비자분쟁해결 기준에 의거 교환 또는 보상 받을 수 있...</td>\n",
       "      <td>1833-9544</td>\n",
       "      <td>코더긔</td>\n",
       "      <td>5점만점에 5점</td>\n",
       "      <td>건성에 좋아요</td>\n",
       "      <td>보습에 좋아요</td>\n",
       "      <td>자극없이 순해요</td>\n",
       "      <td>보통의 겔크림은 살짝은 두께감 있게 피부에 올라가거나 끈적임?</td>\n",
       "    </tr>\n",
       "    <tr>\n",
       "      <th>2</th>\n",
       "      <td>[탱글장벽크림/NEW] 퍼셀 픽셀바이옴 히알 콜라겐 스플래쉬 크림 50ml</td>\n",
       "      <td>https://image.oliveyoung.co.kr/cfimages/cf-goo...</td>\n",
       "      <td>50ml</td>\n",
       "      <td>모든 피부 타입</td>\n",
       "      <td>제조일로부터 36개월/개봉 후 12개월</td>\n",
       "      <td>스킨케어 마지막 단계에서 적당량을 덜어 골고루 펴 발라 줍니다.</td>\n",
       "      <td>코스맥스(주) / (주)퍼셀</td>\n",
       "      <td>대한민국</td>\n",
       "      <td>정제수, 비닐다이메티콘, 글리세린, 부틸렌글라이콜, 비피다발효용해물(2.25%), ...</td>\n",
       "      <td>화장품법에 따른 기능성 화장품 심사(또는 보고)를 필함</td>\n",
       "      <td>가. 화장품 사용 시 또는 사용 후 직사광선에 의하여 사용부위가 붉은 반점, 부어오...</td>\n",
       "      <td>본 제품은 공정거래위원회고시 소비자분쟁해결 기준에 의거 교환 또는 보상 받을 수 있...</td>\n",
       "      <td>1833-9544</td>\n",
       "      <td>코더긔</td>\n",
       "      <td>5점만점에 5점</td>\n",
       "      <td>건성에 좋아요</td>\n",
       "      <td>보습에 좋아요</td>\n",
       "      <td>자극없이 순해요</td>\n",
       "      <td>같은 게 남는데 퍼셀 겔크림은 그런 느낌 전혀 없었어요!</td>\n",
       "    </tr>\n",
       "  </tbody>\n",
       "</table>\n",
       "</div>"
      ],
      "text/plain": [
       "                                         제품명  \\\n",
       "0  [탱글장벽크림/NEW] 퍼셀 픽셀바이옴 히알 콜라겐 스플래쉬 크림 50ml   \n",
       "1  [탱글장벽크림/NEW] 퍼셀 픽셀바이옴 히알 콜라겐 스플래쉬 크림 50ml   \n",
       "2  [탱글장벽크림/NEW] 퍼셀 픽셀바이옴 히알 콜라겐 스플래쉬 크림 50ml   \n",
       "\n",
       "                                             이미지 URL 내용물의 용량 또는 중량  제품 주요 사양  \\\n",
       "0  https://image.oliveyoung.co.kr/cfimages/cf-goo...          50ml  모든 피부 타입   \n",
       "1  https://image.oliveyoung.co.kr/cfimages/cf-goo...          50ml  모든 피부 타입   \n",
       "2  https://image.oliveyoung.co.kr/cfimages/cf-goo...          50ml  모든 피부 타입   \n",
       "\n",
       "                    사용기한                                 사용방법  \\\n",
       "0  제조일로부터 36개월/개봉 후 12개월  스킨케어 마지막 단계에서 적당량을 덜어 골고루 펴 발라 줍니다.   \n",
       "1  제조일로부터 36개월/개봉 후 12개월  스킨케어 마지막 단계에서 적당량을 덜어 골고루 펴 발라 줍니다.   \n",
       "2  제조일로부터 36개월/개봉 후 12개월  스킨케어 마지막 단계에서 적당량을 덜어 골고루 펴 발라 줍니다.   \n",
       "\n",
       "            제조업자 등   제조국                                                 성분  \\\n",
       "0  코스맥스(주) / (주)퍼셀  대한민국  정제수, 비닐다이메티콘, 글리세린, 부틸렌글라이콜, 비피다발효용해물(2.25%), ...   \n",
       "1  코스맥스(주) / (주)퍼셀  대한민국  정제수, 비닐다이메티콘, 글리세린, 부틸렌글라이콜, 비피다발효용해물(2.25%), ...   \n",
       "2  코스맥스(주) / (주)퍼셀  대한민국  정제수, 비닐다이메티콘, 글리세린, 부틸렌글라이콜, 비피다발효용해물(2.25%), ...   \n",
       "\n",
       "                           기능성 여부  \\\n",
       "0  화장품법에 따른 기능성 화장품 심사(또는 보고)를 필함   \n",
       "1  화장품법에 따른 기능성 화장품 심사(또는 보고)를 필함   \n",
       "2  화장품법에 따른 기능성 화장품 심사(또는 보고)를 필함   \n",
       "\n",
       "                                                주의사항  \\\n",
       "0  가. 화장품 사용 시 또는 사용 후 직사광선에 의하여 사용부위가 붉은 반점, 부어오...   \n",
       "1  가. 화장품 사용 시 또는 사용 후 직사광선에 의하여 사용부위가 붉은 반점, 부어오...   \n",
       "2  가. 화장품 사용 시 또는 사용 후 직사광선에 의하여 사용부위가 붉은 반점, 부어오...   \n",
       "\n",
       "                                              품질보증기준      소비자상담 리뷰 ID  \\\n",
       "0  본 제품은 공정거래위원회고시 소비자분쟁해결 기준에 의거 교환 또는 보상 받을 수 있...  1833-9544   코더긔   \n",
       "1  본 제품은 공정거래위원회고시 소비자분쟁해결 기준에 의거 교환 또는 보상 받을 수 있...  1833-9544   코더긔   \n",
       "2  본 제품은 공정거래위원회고시 소비자분쟁해결 기준에 의거 교환 또는 보상 받을 수 있...  1833-9544   코더긔   \n",
       "\n",
       "         별점     피부타입     피부고민       자극도  \\\n",
       "0  5점만점에 5점  건성에 좋아요  보습에 좋아요  자극없이 순해요   \n",
       "1  5점만점에 5점  건성에 좋아요  보습에 좋아요  자극없이 순해요   \n",
       "2  5점만점에 5점  건성에 좋아요  보습에 좋아요  자극없이 순해요   \n",
       "\n",
       "                                                  문장  \n",
       "0  ✨ 여름 쿨 라이트 / 21~22호 / 건성, 민감성 피부 ✨\\n\\n🐤 구매 가격\\...  \n",
       "1                 보통의 겔크림은 살짝은 두께감 있게 피부에 올라가거나 끈적임?  \n",
       "2                    같은 게 남는데 퍼셀 겔크림은 그런 느낌 전혀 없었어요!  "
      ]
     },
     "metadata": {},
     "output_type": "display_data"
    }
   ],
   "source": [
    "import kss\n",
    "from tqdm.auto import tqdm\n",
    "\n",
    "tqdm.pandas(desc='Tokenizing...')\n",
    "df['문장리스트'] = df['리뷰'].progress_apply(kss.split_sentences)\n",
    "df = df.explode('문장리스트', ignore_index=True)\n",
    "df = df.rename(columns={'문장리스트':'문장'})\n",
    "df = df.drop(columns=['리뷰'])\n",
    "df.head(3)"
   ]
  },
  {
   "cell_type": "code",
   "execution_count": null,
   "id": "3f446857",
   "metadata": {},
   "outputs": [
    {
     "data": {
      "text/plain": [
       "0    ✨ 여름 쿨 라이트 / 21~22호 / 건성, 민감성 피부 ✨\\n\\n🐤 구매 가격\\...\n",
       "1                   보통의 겔크림은 살짝은 두께감 있게 피부에 올라가거나 끈적임?\n",
       "2                      같은 게 남는데 퍼셀 겔크림은 그런 느낌 전혀 없었어요!\n",
       "3           초경량 겔크림이라는 말이 바로 와닿을 정도로 가볍게 바를 수 있어 좋았어요!\n",
       "4     흡수도 매우 빠른 편이라 겉도는 느낌이 없어 메이크업 전에 바르기도 좋았어요!\\n\\n🐤\n",
       "5                효과\\n✔️ 퍼셀 픽셀바이옴 원액 잘 맞는 분들께 정말 추천드려요!\n",
       "6    저는 기존에 퍼셀 픽셀바이옴 원액 사용하고 피부결 개선이나 장벽 개선에 정말 도움을...\n",
       "7    아직 사용한지 오래 되진 않아서 콜라겐 효과는 체감하지 못했지만 수분 채워주는 데에...\n",
       "8                  총평\\n✔️ 용량 대비 가격이 다소 비싸다는 느낌이 들었어요 🥹\n",
       "9             한 손에 쏙 들어오는 사이즈인데 할인해서 23,400원..... ㅜㅜㅜㅜ\n",
       "Name: 문장, dtype: object"
      ]
     },
     "metadata": {},
     "output_type": "display_data"
    }
   ],
   "source": [
    "df['문장'][:10]"
   ]
  }
 ],
 "metadata": {
  "kernelspec": {
   "display_name": "base",
   "language": "python",
   "name": "python3"
  },
  "language_info": {
   "codemirror_mode": {
    "name": "ipython",
    "version": 3
   },
   "file_extension": ".py",
   "mimetype": "text/x-python",
   "name": "python",
   "nbconvert_exporter": "python",
   "pygments_lexer": "ipython3",
   "version": "3.12.3"
  }
 },
 "nbformat": 4,
 "nbformat_minor": 5
}
