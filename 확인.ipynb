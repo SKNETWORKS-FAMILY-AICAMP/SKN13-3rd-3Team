{
 "cells": [
  {
   "cell_type": "code",
   "execution_count": 16,
   "id": "827b432d",
   "metadata": {},
   "outputs": [],
   "source": [
    "import pandas as pd\n",
    "\n",
    "# 파일 리스트\n",
    "files = [\n",
    "    'oliveyoung_cream_1_11.csv',\n",
    "    'oliveyoung_cream_12_21.csv',\n",
    "    'oliveyoung_cream_22_31.csv'\n",
    "]\n",
    "\n",
    "# 데이터프레임 리스트로 읽기\n",
    "dfs = [pd.read_csv(file) for file in files]\n",
    "\n",
    "# 이어붙이기\n",
    "merged_df = pd.concat(dfs, ignore_index=True)\n",
    "\n",
    "# 저장\n",
    "merged_df.to_csv('oliveyoung_cream.csv', index=False)\n"
   ]
  },
  {
   "cell_type": "code",
   "execution_count": 17,
   "id": "81c8afda",
   "metadata": {},
   "outputs": [],
   "source": [
    "import pandas as pd\n",
    "\n",
    "# 파일 리스트\n",
    "files = [\n",
    "    'oliveyoung_essence_1_10.csv',\n",
    "    'oliveyoung_essence_11_20.csv',\n",
    "    'oliveyoung_essence_21_30.csv',\n",
    "    'oliveyoung_essence_31_35.csv'\n",
    "]\n",
    "\n",
    "# 데이터프레임 리스트로 읽기\n",
    "dfs = [pd.read_csv(file) for file in files]\n",
    "\n",
    "# 이어붙이기\n",
    "merged_df = pd.concat(dfs, ignore_index=True)\n",
    "\n",
    "# 저장\n",
    "merged_df.to_csv('oliveyoung_essence.csv', index=False)\n"
   ]
  },
  {
   "cell_type": "code",
   "execution_count": 18,
   "id": "91d4bbc3",
   "metadata": {},
   "outputs": [
    {
     "name": "stdout",
     "output_type": "stream",
     "text": [
      "제품명\n",
      "클레어스 블루 EGF 앰플                1000\n",
      "리쥬란 힐러 트리플 래디언스 앰플             567\n",
      "에스트라 에이시카 365 흔적진정세럼 pH4.5    2625\n",
      "라로슈포제 에빠끌라 세럼                 1998\n",
      "토리든 밸런스풀 시카 컨트롤 세럼            1823\n",
      "                              ... \n",
      "허스텔러 리틀 드롭스 카밍 데이즈 앰플          830\n",
      "넘버즈인 4번 탱글푸딩 콜라겐 73% 세럼        574\n",
      "더마펌R4 앰플 &토너 수분진정             1000\n",
      "미구하라 울트라 화이트닝 퍼펙트 앰플           936\n",
      "아임프롬 피그 부스팅 에센스                474\n",
      "Length: 424, dtype: int64\n"
     ]
    }
   ],
   "source": [
    "\n",
    "import pandas as pd\n",
    "\n",
    "# CSV 파일 불러오기\n",
    "df = pd.read_csv(\"oliveyoung_essence_prep.csv\")\n",
    "\n",
    "# 제품명이 나온 순서를 유지하면서 개수 세기\n",
    "product_counts = df.groupby('제품명').size()\n",
    "product_counts = product_counts.loc[df['제품명'].drop_duplicates()]\n",
    "\n",
    "# 출력\n",
    "print(product_counts)\n",
    "\n",
    "# 필요하면 CSV로 저장\n",
    "product_counts.to_csv(\"제품별_리뷰_개수_순서유지.csv\", encoding=\"utf-8-sig\")"
   ]
  },
  {
   "cell_type": "code",
   "execution_count": null,
   "id": "28832e9b",
   "metadata": {},
   "outputs": [
    {
     "name": "stdout",
     "output_type": "stream",
     "text": [
      "제품명\n",
      "클레어스 블루 EGF 앰플 50ml 기획 (+10ml+카밍크림3g+워터크림3g)                       1000\n",
      "[레티놀1%/리프팅] 닥터지 블랙스네일 레티놀 콜라겐 세럼 인텐스 30ml                             3\n",
      "[PDRN브라이트닝/수량한정]리쥬란 힐러 트리플 래디언스 앰플 10ml 더블 기획(+5ml+1ml*3)(2506)     189\n",
      "코스메쉐프 백당고 막걸리 백옥빛 기미앰플 30ml                                           3\n",
      "코스메쉐프 흑당고 진액 영양 주름앰플 30ml                                             5\n",
      "                                                                   ... \n",
      "허브노트 스네일 리페어 앰플 45ml                                                 18\n",
      "아임프롬 피그 부스팅 에센스 150ml                                               474\n",
      "비오템 라이프 플랑크톤 엘릭시어 안티-에이징 세럼 30ml                                     40\n",
      "셀비엔 히알루론산 250ml                                                      54\n",
      "코스알엑스 갈락토미세스 95 톤 밸런싱 에센스 100ml                                      72\n",
      "Length: 774, dtype: int64\n"
     ]
    }
   ],
   "source": [
    "import pandas as pd\n",
    "\n",
    "# CSV 파일 불러오기\n",
    "df = pd.read_csv(\"oliveyoung_essence.csv\")\n",
    "\n",
    "# 제품명이 나온 순서를 유지하면서 개수 세기\n",
    "product_counts = df.groupby('제품명').size()\n",
    "product_counts = product_counts.loc[df['제품명'].drop_duplicates()]\n",
    "\n",
    "# 출력\n",
    "print(product_counts)\n",
    "\n",
    "# 필요하면 CSV로 저장\n",
    "product_counts.to_csv(\"제품별_리뷰_개수_순서유지.csv\", encoding=\"utf-8-sig\")"
   ]
  },
  {
   "cell_type": "code",
   "execution_count": 20,
   "id": "1e9f1b71",
   "metadata": {},
   "outputs": [
    {
     "name": "stdout",
     "output_type": "stream",
     "text": [
      "제품명\n",
      "[NEW/단독선런칭] 바이오던스 포어 퍼펙팅 콜라겐 펩타이드 크림 50ml                  1\n",
      "비원츠 펩타이드 엑스 퍼밍 아이 세럼 스틱  리필기획 (눙눙이 콜라보)                  658\n",
      "[화잘먹 모공크림] 성분에디터 그린토마토 NMN 포어 리프팅 크림 50ml                 73\n",
      "잇츠스킨 시크릿 솔루션 웨딩 드레스 퓨어 크림 100ml                           24\n",
      "더마팩토리 레티날 300ppm크림 30ml                                    5\n",
      "                                                        ... \n",
      "[수분진정] 아크웰 리얼 아쿠아 밸런싱 크림 50ml                            924\n",
      "코스알엑스 퓨어 핏 시카 크림 50ml                                    867\n",
      "[안티에이징/밀착보습막] 셀퓨전씨 레이저 리쥬버네이션 크림 (본품 50ml+20ml 추가 증정)    994\n",
      "코스알엑스 풀핏 프로폴리스 라이트 크림 65ml                               986\n",
      "닥터지 레드블레미쉬 클리어 수딩 스팟밤 30ml                               872\n",
      "Length: 690, dtype: int64\n"
     ]
    }
   ],
   "source": [
    "import pandas as pd\n",
    "\n",
    "# CSV 파일 불러오기\n",
    "df = pd.read_csv(\"oliveyoung_cream.csv\")\n",
    "\n",
    "# 제품명이 나온 순서를 유지하면서 개수 세기\n",
    "product_counts = df.groupby('제품명').size()\n",
    "product_counts = product_counts.loc[df['제품명'].drop_duplicates()]\n",
    "\n",
    "# 출력\n",
    "print(product_counts)\n",
    "\n",
    "# 필요하면 CSV로 저장\n",
    "product_counts.to_csv(\"제품별_리뷰_개수_순서유지.csv\", encoding=\"utf-8-sig\")"
   ]
  },
  {
   "cell_type": "code",
   "execution_count": 21,
   "id": "76e4db06",
   "metadata": {},
   "outputs": [
    {
     "name": "stdout",
     "output_type": "stream",
     "text": [
      "제품명\n",
      "비원츠 펩타이드 엑스 퍼밍 아이 세럼 스틱     788\n",
      "퍼셀 픽셀바이옴 히알 콜라겐 스플래쉬 크림     217\n",
      "라로슈포제 시카플라스트 밤 B5+         1000\n",
      "구달 어성초 히알루론 수딩 크림          2000\n",
      "리얼베리어 워터리 히알 크림            1765\n",
      "                           ... \n",
      "가히 키스틴밤                     112\n",
      "아크웰 리얼 아쿠아 밸런싱 크림           924\n",
      "코스알엑스 퓨어 핏 시카 크림            867\n",
      "코스알엑스 풀핏 프로폴리스 라이트 크림       986\n",
      "닥터지 레드블레미쉬 클리어 수딩 스팟밤       872\n",
      "Length: 404, dtype: int64\n"
     ]
    }
   ],
   "source": [
    "import pandas as pd\n",
    "\n",
    "# CSV 파일 불러오기\n",
    "df = pd.read_csv(\"oliveyoung_cream_prep.csv\")\n",
    "\n",
    "# 제품명이 나온 순서를 유지하면서 개수 세기\n",
    "product_counts = df.groupby('제품명').size()\n",
    "product_counts = product_counts.loc[df['제품명'].drop_duplicates()]\n",
    "\n",
    "# 출력\n",
    "print(product_counts)\n",
    "\n",
    "# 필요하면 CSV로 저장\n",
    "product_counts.to_csv(\"제품별_리뷰_개수_순서유지.csv\", encoding=\"utf-8-sig\")"
   ]
  },
  {
   "cell_type": "code",
   "execution_count": null,
   "id": "fabae8ff",
   "metadata": {},
   "outputs": [],
   "source": []
  }
 ],
 "metadata": {
  "kernelspec": {
   "display_name": ".venv",
   "language": "python",
   "name": "python3"
  },
  "language_info": {
   "codemirror_mode": {
    "name": "ipython",
    "version": 3
   },
   "file_extension": ".py",
   "mimetype": "text/x-python",
   "name": "python",
   "nbconvert_exporter": "python",
   "pygments_lexer": "ipython3",
   "version": "3.13.2"
  }
 },
 "nbformat": 4,
 "nbformat_minor": 5
}
