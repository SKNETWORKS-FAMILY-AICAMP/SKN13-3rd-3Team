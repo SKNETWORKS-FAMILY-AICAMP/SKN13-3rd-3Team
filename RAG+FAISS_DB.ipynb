{
 "cells": [
  {
   "cell_type": "markdown",
   "id": "cd63e0cd",
   "metadata": {},
   "source": [
    "# Vector DB(FAISS_DB) Building"
   ]
  },
  {
   "cell_type": "markdown",
   "id": "be453627",
   "metadata": {},
   "source": [
    "### Requirements "
   ]
  },
  {
   "cell_type": "code",
   "execution_count": null,
   "id": "85466705",
   "metadata": {},
   "outputs": [],
   "source": [
    "# %pip install datasets sentence-transformers faiss-cpu huggingface_hub"
   ]
  },
  {
   "cell_type": "markdown",
   "id": "175d9a51",
   "metadata": {},
   "source": [
    "### 1. To Build in a Local Environment"
   ]
  },
  {
   "cell_type": "code",
   "execution_count": null,
   "id": "3e97379c",
   "metadata": {},
   "outputs": [],
   "source": [
    "from langchain_openai import ChatOpenAI\n",
    "from langchain.prompts import ChatPromptTemplate\n",
    "from langchain.chains import RetrievalQA\n",
    "from langchain.vectorstores import FAISS\n",
    "from langchain_core.output_parsers import StrOutputParser\n",
    "from langchain_core.runnables import RunnablePassthrough\n",
    "from langchain.embeddings import HuggingFaceEmbeddings\n",
    "from langchain_core.documents import Document\n",
    "from datasets import load_dataset\n",
    "\n",
    "\n",
    "embedding = HuggingFaceEmbeddings(model_name=\"jhgan/ko-sbert-nli\")\n",
    "\n",
    "dataset = load_dataset(\"iPad7/SKN13-3rd-3Team-labeled-datasets-with-first-model\", split=\"train\")  \n",
    "print(dataset[0])  # 확인용 출력"
   ]
  },
  {
   "cell_type": "code",
   "execution_count": null,
   "id": "c586d6f3",
   "metadata": {},
   "outputs": [],
   "source": [
    "print(f\"데이터 개수: {len(dataset)}\")\n"
   ]
  },
  {
   "cell_type": "code",
   "execution_count": null,
   "id": "11e18ede",
   "metadata": {},
   "outputs": [],
   "source": [
    "### 2. Document 변환 (LangChain용 문서 객체로)\n",
    "docs = [\n",
    "    Document(\n",
    "        page_content=record[\"리뷰\"], \n",
    "        metadata={\n",
    "            \"brand\": record.get(\"제품명\"),\n",
    "            \"ingredient\": record.get(\"성분\"),\n",
    "            \"score\": record.get(\"별점\"),\n",
    "            \"skin_type\": record.get(\"피부타입\"),\n",
    "            \"concerns\": record.get(\"피부고민\"),\n",
    "            \"irritation\": record.get(\"자극도\"),\n",
    "            \"category\": record.get(\"카테고리\"),\n",
    "            \"emotions\": record.get(\"리뷰_감성\"),\n",
    "        }\n",
    "    )\n",
    "    for record in dataset\n",
    "]"
   ]
  },
  {
   "cell_type": "code",
   "execution_count": null,
   "id": "da4592a4",
   "metadata": {},
   "outputs": [],
   "source": [
    "### 3. 임베딩 모델 설정 (Ko-SBERT)\n",
    "embedding_model = HuggingFaceEmbeddings(model_name=\"jhgan/ko-sbert-nli\")\n",
    "\n",
    "### 4. FAISS 벡터DB 생성\n",
    "vector_db = FAISS.from_documents(docs, embedding_model)\n",
    "vector_db.save_local(\"faiss_oliveyoung_reviews\")"
   ]
  },
  {
   "cell_type": "code",
   "execution_count": null,
   "id": "819ef7f6",
   "metadata": {},
   "outputs": [],
   "source": [
    "# 저장\n",
    "vector_db.save_local(\"my_faiss_index\")\n",
    "\n",
    "# 나중에 로드\n",
    "loaded_db = FAISS.load_local(\"my_faiss_index\", embedding_model)"
   ]
  },
  {
   "cell_type": "markdown",
   "id": "ed538609",
   "metadata": {},
   "source": [
    "### 2. To Upload our FAISS DB to a HuggingFace Hub"
   ]
  },
  {
   "cell_type": "code",
   "execution_count": null,
   "id": "48770868",
   "metadata": {},
   "outputs": [],
   "source": [
    "from huggingface_hub import notebook_login\n",
    "\n",
    "notebook_login() # 실행하면 HuggingFace Api Key를 입력하는 창이 나올 겁니다. 체크박스 해제하고 진행해주세요."
   ]
  },
  {
   "cell_type": "code",
   "execution_count": null,
   "id": "07eb54a8",
   "metadata": {},
   "outputs": [],
   "source": [
    "from huggingface_hub import HFApi\n",
    "\n",
    "file_path = 'To. 유나님: FAISS파일이랑 Pickle 파일 저장되어 있는 파일 경로 입력하시면 됩니다!' \n",
    "repo_id = '허깅페이스아이디/저장하실이름아무렇게나'\n",
    "\n",
    "# Client 객체\n",
    "api = HFApi()\n",
    "\n",
    "api.upload_folder(\n",
    "    folder_path=file_path,\n",
    "    repo_id=repo_id,\n",
    "    repo_type='dataset',\n",
    "    commit_message='To. 유나님: 데이터셋 올렸습니다, 응애 등 작성하고 싶으신 대로 수정해주세요!!'\n",
    ")\n",
    "\n",
    "print(f\"Upload Successful!!\\nYour DB is in 'https://huggingface.co/datasets/{repo_id}\")"
   ]
  },
  {
   "cell_type": "markdown",
   "id": "70eb9b04",
   "metadata": {},
   "source": [
    "### cf. To Load the DB from our HuggingFace Hub"
   ]
  },
  {
   "cell_type": "code",
   "execution_count": null,
   "id": "4920049d",
   "metadata": {},
   "outputs": [],
   "source": [
    "# from huggingface_hub import notebook_login\n",
    "\n",
    "# notebook_login()"
   ]
  },
  {
   "cell_type": "code",
   "execution_count": 2,
   "id": "77ea9a44",
   "metadata": {},
   "outputs": [],
   "source": [
    "from langchain_community.vectorstores import FAISS\n",
    "from langchain_community.embeddings import HuggingFaceEmbeddings\n",
    "from huggingface_hub import snapshot_download\n",
    "import torch"
   ]
  },
  {
   "cell_type": "code",
   "execution_count": null,
   "id": "f5f772f1",
   "metadata": {},
   "outputs": [],
   "source": [
    "# SETUP\n",
    "\n",
    "repo_id = '허깅페이스아이디/저장한레포지토리이름'\n",
    "embedding_model_name = 'jhgan/ko-sbert-nli'  # 저희 처음에 임베딩 이거로 한 거 맞죠?\n",
    "device = 'cuda' if torch.cuda.is_available() else 'mps' if torch.mps.is_available() else 'cpu'\n",
    "print(device)"
   ]
  },
  {
   "cell_type": "code",
   "execution_count": null,
   "id": "e9f699c0",
   "metadata": {},
   "outputs": [],
   "source": [
    "# DOWNLOAD"
   ]
  },
  {
   "cell_type": "code",
   "execution_count": null,
   "id": "0acf85fc",
   "metadata": {},
   "outputs": [],
   "source": [
    "# Path Setting\n",
    "local_index_path = snapshot_download(\n",
    "    repo_id=repo_id,\n",
    "    repo_type='dataset'\n",
    ")"
   ]
  },
  {
   "cell_type": "code",
   "execution_count": null,
   "id": "39421ada",
   "metadata": {},
   "outputs": [],
   "source": [
    "# Load Embedding Model\n",
    "embedding_model = HuggingFaceEmbeddings(\n",
    "    model_name=embedding_model_name,\n",
    "    model_kwargs={'device':device},\n",
    "    encode_kwargs={'normalize_embeddings':True}\n",
    ")"
   ]
  },
  {
   "cell_type": "code",
   "execution_count": null,
   "id": "2da54e1f",
   "metadata": {},
   "outputs": [],
   "source": [
    "# Load index\n",
    "loaded_faiss_index = FAISS.load_local(\n",
    "    folder_path=local_index_path,\n",
    "    embeddings=embedding_model,\n",
    "    allow_dangerous_deserialization=True\n",
    ")"
   ]
  },
  {
   "cell_type": "code",
   "execution_count": null,
   "id": "e08bf8b3",
   "metadata": {},
   "outputs": [],
   "source": [
    "# TEST\n",
    "hf_retriever = loaded_faiss_index.as_retriever(search_kwargs={'k':5})  # 조회할 문서 갯수를 기호에 맞게 설정하세요\n",
    "query = '질문을 입력하세요.'\n",
    "retrieved_docs = hf_retriever.invoke(query)\n",
    "\n",
    "for idx, val in enumerate(retrieved_docs, 1):\n",
    "    print(f\"RESULT {idx}\")\n",
    "    print(f\"CONTENT: {val.page_content}\")\n",
    "    print(f\"METADATA: {val.metadata}\")\n",
    "    print()"
   ]
  },
  {
   "cell_type": "markdown",
   "id": "1470a056",
   "metadata": {},
   "source": [
    "### Beta-test"
   ]
  },
  {
   "cell_type": "code",
   "execution_count": null,
   "id": "8e261caf",
   "metadata": {},
   "outputs": [],
   "source": [
    "query = \"지성 피부에 좋은 토너 제품\"  # 임의의 쿼리\n",
    "results = vector_db.similarity_search(query, k=3)\n",
    "\n",
    "for i, doc in enumerate(results, 1):\n",
    "    print(f\"--- Result {i} ---\")\n",
    "    print(\"내용:\", doc.page_content)\n",
    "    print(\"메타데이터:\", doc.metadata)\n",
    "    print()"
   ]
  },
  {
   "cell_type": "code",
   "execution_count": null,
   "id": "0f33b6c6",
   "metadata": {},
   "outputs": [],
   "source": [
    "# test\n",
    "results = vector_db.similarity_search(\"건성 피부에 좋은 수분 제품\", k=3)\n",
    "\n",
    "for i, doc in enumerate(results, 1):\n",
    "    print(f\"--- Result {i} ---\")\n",
    "    print(\"내용:\", doc.page_content)\n",
    "    print(\"메타데이터:\", doc.metadata)"
   ]
  },
  {
   "cell_type": "code",
   "execution_count": null,
   "id": "c1810e40",
   "metadata": {},
   "outputs": [],
   "source": [
    "from dotenv import load_dotenv\n",
    "load_dotenv()"
   ]
  },
  {
   "cell_type": "code",
   "execution_count": null,
   "id": "523babf8",
   "metadata": {},
   "outputs": [],
   "source": [
    "retriever = vector_db.as_retriever()"
   ]
  },
  {
   "cell_type": "code",
   "execution_count": null,
   "id": "fbbaf528",
   "metadata": {},
   "outputs": [],
   "source": [
    "# LLM 설정\n",
    "llm = ChatOpenAI(temperature=0.7, model=\"gpt-4.1\")\n",
    "\n",
    "# 프롬프트 템플릿\n",
    "prompt_template = ChatPromptTemplate.from_template(\"\"\"\n",
    "      당신은 올리브영 스킨케어 화장품 정보를 전문적으로 안내하는 AI 어시스턴트입니다.\n",
    "      사용자 질문에 따라 카테고리, 성분, 피부타입, 제형, 자극도, 감정 정보 등을 바탕으로 정확한 화장품 정보를 제공합니다.\n",
    "      사용자의 피부 고민과 선호에 맞춰 카테고리에 맞는 화장품을 2~3 가지 추천하고, 관련 리뷰 정보를 요약해주는 것이 주요 역할입니다.\n",
    "\n",
    "      # Instruction(지켜야 할 규칙):\n",
    "      1. 반드시 제공된 문서(context)의 정보만을 기반으로 답변하세요. \n",
    "         문서에 없는 사실을 추측하거나 임의로 생성하지 마세요.\n",
    "      2. 화장품의 이름과 카테고리는 반드시 '카테고리'와 '제품명' 필드를 참고하여 확인하세요. \n",
    "         카테고리는 스킨/토너, 에센스/세럼/앰플, 크림, 로션, 미스트/오일로 구성되어 있습니다.\n",
    "      3. 가능한 한 명확하고 간결하게 답변하세요.\n",
    "      4. 화장품 정보를 안내할 때는 다음 순서를 지키세요: \n",
    "         - 제품명\n",
    "         - 주요 성분 (가능한 경우)\n",
    "         - 평점 또는 긍정 리뷰 요약\n",
    "      5. 문장 스타일은 전문성과 친근함을 겸비한 대화체로 작성하세요. \n",
    "         예: “이 제품은 복합성 피부에 정말 잘 맞는다고 해요!”\n",
    "      6. “문서에 따르면”, “문맥에서 보면”과 같은 표현은 사용하지 마세요. 자연스럽게 설명만 하세요.\n",
    "      7. 질문이 모호하거나 정보가 부족할 경우, 필요한 정보를 정중하게 요청하세요.\n",
    "      8. 출력은 보기 쉽게 줄바꿈을 해서 전달해주세요.\n",
    "      9. 제품 추천 및 설명 마지막에 특징을 잘 나타내는 문서(별점은 제외)들을 세 개 정도 출력해주세요.\n",
    "                                                   \n",
    "      # Context(문서 요약 정보):\n",
    "      {context}\n",
    "\n",
    "      # 질문:\n",
    "      {question}\n",
    "      \"\"\")\n",
    "\n",
    "def format_docs(docs):\n",
    "    return \"\\n\\n\".join(doc.page_content for doc in docs)\n",
    "\n",
    "# RAG 체인 구성\n",
    "rag_chain = (\n",
    "    {\"context\": retriever, \"question\": RunnablePassthrough()}\n",
    "    | prompt_template\n",
    "    | llm\n",
    "    | StrOutputParser()\n",
    ")\n",
    "\n",
    "# 예시 질문\n",
    "question = \"건조한 피부에 좋은 크림 추천해줘\"\n",
    "response = rag_chain.invoke(question)\n",
    "\n",
    "print(\"🧠 응답:\")\n",
    "print(response)"
   ]
  }
 ],
 "metadata": {
  "kernelspec": {
   "display_name": "lang_env",
   "language": "python",
   "name": "python3"
  },
  "language_info": {
   "codemirror_mode": {
    "name": "ipython",
    "version": 3
   },
   "file_extension": ".py",
   "mimetype": "text/x-python",
   "name": "python",
   "nbconvert_exporter": "python",
   "pygments_lexer": "ipython3",
   "version": "3.12.11"
  }
 },
 "nbformat": 4,
 "nbformat_minor": 5
}
