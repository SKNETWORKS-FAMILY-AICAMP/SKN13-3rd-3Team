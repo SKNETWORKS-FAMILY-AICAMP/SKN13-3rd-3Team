{
 "cells": [
  {
   "cell_type": "markdown",
   "id": "d5de19d2",
   "metadata": {},
   "source": [
    "# Fine Tuning\n",
    "\n",
    "* `beomi/kcbert-base` 모델에 올리브영 상품 리뷰 문장과 Sentiment 간의 패턴을 fine-tuning합니다.\n",
    "\n",
    "* 두 개의 fine-tuned 모델을 HuggingFace Hub에 저장하여 운용합니다."
   ]
  },
  {
   "cell_type": "code",
   "execution_count": 1,
   "id": "302cc042-6cb6-4f13-9150-5992e335be32",
   "metadata": {
    "scrolled": true
   },
   "outputs": [
    {
     "name": "stdout",
     "output_type": "stream",
     "text": [
      "Collecting pandas\n",
      "  Downloading pandas-2.3.0-cp311-cp311-manylinux_2_17_x86_64.manylinux2014_x86_64.whl.metadata (91 kB)\n",
      "Collecting transformers\n",
      "  Downloading transformers-4.53.0-py3-none-any.whl.metadata (39 kB)\n",
      "Collecting datasets\n",
      "  Downloading datasets-3.6.0-py3-none-any.whl.metadata (19 kB)\n",
      "Collecting accelerate\n",
      "  Downloading accelerate-1.8.1-py3-none-any.whl.metadata (19 kB)\n",
      "Collecting evaluate\n",
      "  Downloading evaluate-0.4.4-py3-none-any.whl.metadata (9.5 kB)\n",
      "Collecting scikit-learn\n",
      "  Downloading scikit_learn-1.7.0-cp311-cp311-manylinux_2_17_x86_64.manylinux2014_x86_64.whl.metadata (17 kB)\n",
      "Requirement already satisfied: numpy>=1.23.2 in /usr/local/lib/python3.11/dist-packages (from pandas) (2.1.2)\n",
      "Requirement already satisfied: python-dateutil>=2.8.2 in /usr/local/lib/python3.11/dist-packages (from pandas) (2.9.0.post0)\n",
      "Collecting pytz>=2020.1 (from pandas)\n",
      "  Downloading pytz-2025.2-py2.py3-none-any.whl.metadata (22 kB)\n",
      "Collecting tzdata>=2022.7 (from pandas)\n",
      "  Downloading tzdata-2025.2-py2.py3-none-any.whl.metadata (1.4 kB)\n",
      "Requirement already satisfied: filelock in /usr/local/lib/python3.11/dist-packages (from transformers) (3.16.1)\n",
      "Collecting huggingface-hub<1.0,>=0.30.0 (from transformers)\n",
      "  Downloading huggingface_hub-0.33.1-py3-none-any.whl.metadata (14 kB)\n",
      "Requirement already satisfied: packaging>=20.0 in /usr/local/lib/python3.11/dist-packages (from transformers) (24.2)\n",
      "Requirement already satisfied: pyyaml>=5.1 in /usr/local/lib/python3.11/dist-packages (from transformers) (6.0.2)\n",
      "Collecting regex!=2019.12.17 (from transformers)\n",
      "  Downloading regex-2024.11.6-cp311-cp311-manylinux_2_17_x86_64.manylinux2014_x86_64.whl.metadata (40 kB)\n",
      "Requirement already satisfied: requests in /usr/local/lib/python3.11/dist-packages (from transformers) (2.32.3)\n",
      "Collecting tokenizers<0.22,>=0.21 (from transformers)\n",
      "  Downloading tokenizers-0.21.2-cp39-abi3-manylinux_2_17_x86_64.manylinux2014_x86_64.whl.metadata (6.8 kB)\n",
      "Collecting safetensors>=0.4.3 (from transformers)\n",
      "  Downloading safetensors-0.5.3-cp38-abi3-manylinux_2_17_x86_64.manylinux2014_x86_64.whl.metadata (3.8 kB)\n",
      "Collecting tqdm>=4.27 (from transformers)\n",
      "  Downloading tqdm-4.67.1-py3-none-any.whl.metadata (57 kB)\n",
      "Collecting pyarrow>=15.0.0 (from datasets)\n",
      "  Downloading pyarrow-20.0.0-cp311-cp311-manylinux_2_28_x86_64.whl.metadata (3.3 kB)\n",
      "Collecting dill<0.3.9,>=0.3.0 (from datasets)\n",
      "  Downloading dill-0.3.8-py3-none-any.whl.metadata (10 kB)\n",
      "Collecting xxhash (from datasets)\n",
      "  Downloading xxhash-3.5.0-cp311-cp311-manylinux_2_17_x86_64.manylinux2014_x86_64.whl.metadata (12 kB)\n",
      "Collecting multiprocess<0.70.17 (from datasets)\n",
      "  Downloading multiprocess-0.70.16-py311-none-any.whl.metadata (7.2 kB)\n",
      "Requirement already satisfied: fsspec<=2025.3.0,>=2023.1.0 in /usr/local/lib/python3.11/dist-packages (from fsspec[http]<=2025.3.0,>=2023.1.0->datasets) (2024.10.0)\n",
      "Requirement already satisfied: psutil in /usr/local/lib/python3.11/dist-packages (from accelerate) (7.0.0)\n",
      "Requirement already satisfied: torch>=2.0.0 in /usr/local/lib/python3.11/dist-packages (from accelerate) (2.8.0.dev20250319+cu128)\n",
      "Collecting scipy>=1.8.0 (from scikit-learn)\n",
      "  Downloading scipy-1.16.0-cp311-cp311-manylinux2014_x86_64.manylinux_2_17_x86_64.whl.metadata (61 kB)\n",
      "Collecting joblib>=1.2.0 (from scikit-learn)\n",
      "  Downloading joblib-1.5.1-py3-none-any.whl.metadata (5.6 kB)\n",
      "Collecting threadpoolctl>=3.1.0 (from scikit-learn)\n",
      "  Downloading threadpoolctl-3.6.0-py3-none-any.whl.metadata (13 kB)\n",
      "Collecting aiohttp!=4.0.0a0,!=4.0.0a1 (from fsspec[http]<=2025.3.0,>=2023.1.0->datasets)\n",
      "  Downloading aiohttp-3.12.13-cp311-cp311-manylinux_2_17_x86_64.manylinux2014_x86_64.whl.metadata (7.6 kB)\n",
      "Requirement already satisfied: typing-extensions>=3.7.4.3 in /usr/local/lib/python3.11/dist-packages (from huggingface-hub<1.0,>=0.30.0->transformers) (4.12.2)\n",
      "Collecting hf-xet<2.0.0,>=1.1.2 (from huggingface-hub<1.0,>=0.30.0->transformers)\n",
      "  Downloading hf_xet-1.1.5-cp37-abi3-manylinux_2_17_x86_64.manylinux2014_x86_64.whl.metadata (879 bytes)\n",
      "Requirement already satisfied: six>=1.5 in /usr/lib/python3/dist-packages (from python-dateutil>=2.8.2->pandas) (1.16.0)\n",
      "Requirement already satisfied: charset-normalizer<4,>=2 in /usr/local/lib/python3.11/dist-packages (from requests->transformers) (3.4.1)\n",
      "Requirement already satisfied: idna<4,>=2.5 in /usr/local/lib/python3.11/dist-packages (from requests->transformers) (3.10)\n",
      "Requirement already satisfied: urllib3<3,>=1.21.1 in /usr/local/lib/python3.11/dist-packages (from requests->transformers) (2.3.0)\n",
      "Requirement already satisfied: certifi>=2017.4.17 in /usr/local/lib/python3.11/dist-packages (from requests->transformers) (2025.1.31)\n",
      "Requirement already satisfied: sympy>=1.13.3 in /usr/local/lib/python3.11/dist-packages (from torch>=2.0.0->accelerate) (1.13.3)\n",
      "Requirement already satisfied: networkx in /usr/local/lib/python3.11/dist-packages (from torch>=2.0.0->accelerate) (3.4.2)\n",
      "Requirement already satisfied: jinja2 in /usr/local/lib/python3.11/dist-packages (from torch>=2.0.0->accelerate) (3.1.4)\n",
      "Requirement already satisfied: nvidia-cuda-nvrtc-cu12==12.8.61 in /usr/local/lib/python3.11/dist-packages (from torch>=2.0.0->accelerate) (12.8.61)\n",
      "Requirement already satisfied: nvidia-cuda-runtime-cu12==12.8.57 in /usr/local/lib/python3.11/dist-packages (from torch>=2.0.0->accelerate) (12.8.57)\n",
      "Requirement already satisfied: nvidia-cuda-cupti-cu12==12.8.57 in /usr/local/lib/python3.11/dist-packages (from torch>=2.0.0->accelerate) (12.8.57)\n",
      "Requirement already satisfied: nvidia-cudnn-cu12==9.8.0.87 in /usr/local/lib/python3.11/dist-packages (from torch>=2.0.0->accelerate) (9.8.0.87)\n",
      "Requirement already satisfied: nvidia-cublas-cu12==12.8.3.14 in /usr/local/lib/python3.11/dist-packages (from torch>=2.0.0->accelerate) (12.8.3.14)\n",
      "Requirement already satisfied: nvidia-cufft-cu12==11.3.3.41 in /usr/local/lib/python3.11/dist-packages (from torch>=2.0.0->accelerate) (11.3.3.41)\n",
      "Requirement already satisfied: nvidia-curand-cu12==10.3.9.55 in /usr/local/lib/python3.11/dist-packages (from torch>=2.0.0->accelerate) (10.3.9.55)\n",
      "Requirement already satisfied: nvidia-cusolver-cu12==11.7.2.55 in /usr/local/lib/python3.11/dist-packages (from torch>=2.0.0->accelerate) (11.7.2.55)\n",
      "Requirement already satisfied: nvidia-cusparse-cu12==12.5.7.53 in /usr/local/lib/python3.11/dist-packages (from torch>=2.0.0->accelerate) (12.5.7.53)\n",
      "Requirement already satisfied: nvidia-cusparselt-cu12==0.6.3 in /usr/local/lib/python3.11/dist-packages (from torch>=2.0.0->accelerate) (0.6.3)\n",
      "Requirement already satisfied: nvidia-nccl-cu12==2.25.1 in /usr/local/lib/python3.11/dist-packages (from torch>=2.0.0->accelerate) (2.25.1)\n",
      "Requirement already satisfied: nvidia-nvtx-cu12==12.8.55 in /usr/local/lib/python3.11/dist-packages (from torch>=2.0.0->accelerate) (12.8.55)\n",
      "Requirement already satisfied: nvidia-nvjitlink-cu12==12.8.61 in /usr/local/lib/python3.11/dist-packages (from torch>=2.0.0->accelerate) (12.8.61)\n",
      "Requirement already satisfied: nvidia-cufile-cu12==1.13.0.11 in /usr/local/lib/python3.11/dist-packages (from torch>=2.0.0->accelerate) (1.13.0.11)\n",
      "Requirement already satisfied: pytorch-triton==3.3.0+git96316ce5 in /usr/local/lib/python3.11/dist-packages (from torch>=2.0.0->accelerate) (3.3.0+git96316ce5)\n",
      "Requirement already satisfied: setuptools>=40.8.0 in /usr/local/lib/python3.11/dist-packages (from pytorch-triton==3.3.0+git96316ce5->torch>=2.0.0->accelerate) (77.0.1)\n",
      "Collecting aiohappyeyeballs>=2.5.0 (from aiohttp!=4.0.0a0,!=4.0.0a1->fsspec[http]<=2025.3.0,>=2023.1.0->datasets)\n",
      "  Downloading aiohappyeyeballs-2.6.1-py3-none-any.whl.metadata (5.9 kB)\n",
      "Collecting aiosignal>=1.1.2 (from aiohttp!=4.0.0a0,!=4.0.0a1->fsspec[http]<=2025.3.0,>=2023.1.0->datasets)\n",
      "  Downloading aiosignal-1.3.2-py2.py3-none-any.whl.metadata (3.8 kB)\n",
      "Requirement already satisfied: attrs>=17.3.0 in /usr/local/lib/python3.11/dist-packages (from aiohttp!=4.0.0a0,!=4.0.0a1->fsspec[http]<=2025.3.0,>=2023.1.0->datasets) (25.3.0)\n",
      "Collecting frozenlist>=1.1.1 (from aiohttp!=4.0.0a0,!=4.0.0a1->fsspec[http]<=2025.3.0,>=2023.1.0->datasets)\n",
      "  Downloading frozenlist-1.7.0-cp311-cp311-manylinux_2_5_x86_64.manylinux1_x86_64.manylinux_2_17_x86_64.manylinux2014_x86_64.whl.metadata (18 kB)\n",
      "Collecting multidict<7.0,>=4.5 (from aiohttp!=4.0.0a0,!=4.0.0a1->fsspec[http]<=2025.3.0,>=2023.1.0->datasets)\n",
      "  Downloading multidict-6.5.1-cp311-cp311-manylinux2014_x86_64.manylinux_2_17_x86_64.manylinux_2_28_x86_64.whl.metadata (5.3 kB)\n",
      "Collecting propcache>=0.2.0 (from aiohttp!=4.0.0a0,!=4.0.0a1->fsspec[http]<=2025.3.0,>=2023.1.0->datasets)\n",
      "  Downloading propcache-0.3.2-cp311-cp311-manylinux_2_17_x86_64.manylinux2014_x86_64.whl.metadata (12 kB)\n",
      "Collecting yarl<2.0,>=1.17.0 (from aiohttp!=4.0.0a0,!=4.0.0a1->fsspec[http]<=2025.3.0,>=2023.1.0->datasets)\n",
      "  Downloading yarl-1.20.1-cp311-cp311-manylinux_2_17_x86_64.manylinux2014_x86_64.whl.metadata (73 kB)\n",
      "Requirement already satisfied: mpmath<1.4,>=1.1.0 in /usr/local/lib/python3.11/dist-packages (from sympy>=1.13.3->torch>=2.0.0->accelerate) (1.3.0)\n",
      "Requirement already satisfied: MarkupSafe>=2.0 in /usr/local/lib/python3.11/dist-packages (from jinja2->torch>=2.0.0->accelerate) (2.1.5)\n",
      "Downloading pandas-2.3.0-cp311-cp311-manylinux_2_17_x86_64.manylinux2014_x86_64.whl (12.4 MB)\n",
      "\u001b[2K   \u001b[90m━━━━━━━━━━━━━━━━━━━━━━━━━━━━━━━━━━━━━━━━\u001b[0m \u001b[32m12.4/12.4 MB\u001b[0m \u001b[31m56.9 MB/s\u001b[0m eta \u001b[36m0:00:00\u001b[0ma \u001b[36m0:00:01\u001b[0m\n",
      "\u001b[?25hDownloading transformers-4.53.0-py3-none-any.whl (10.8 MB)\n",
      "\u001b[2K   \u001b[90m━━━━━━━━━━━━━━━━━━━━━━━━━━━━━━━━━━━━━━━━\u001b[0m \u001b[32m10.8/10.8 MB\u001b[0m \u001b[31m90.9 MB/s\u001b[0m eta \u001b[36m0:00:00\u001b[0m\n",
      "\u001b[?25hDownloading datasets-3.6.0-py3-none-any.whl (491 kB)\n",
      "Downloading accelerate-1.8.1-py3-none-any.whl (365 kB)\n",
      "Downloading evaluate-0.4.4-py3-none-any.whl (84 kB)\n",
      "Downloading scikit_learn-1.7.0-cp311-cp311-manylinux_2_17_x86_64.manylinux2014_x86_64.whl (12.9 MB)\n",
      "\u001b[2K   \u001b[90m━━━━━━━━━━━━━━━━━━━━━━━━━━━━━━━━━━━━━━━━\u001b[0m \u001b[32m12.9/12.9 MB\u001b[0m \u001b[31m76.3 MB/s\u001b[0m eta \u001b[36m0:00:00\u001b[0m\n",
      "\u001b[?25hDownloading dill-0.3.8-py3-none-any.whl (116 kB)\n",
      "Downloading huggingface_hub-0.33.1-py3-none-any.whl (515 kB)\n",
      "Downloading joblib-1.5.1-py3-none-any.whl (307 kB)\n",
      "Downloading multiprocess-0.70.16-py311-none-any.whl (143 kB)\n",
      "Downloading pyarrow-20.0.0-cp311-cp311-manylinux_2_28_x86_64.whl (42.3 MB)\n",
      "\u001b[2K   \u001b[90m━━━━━━━━━━━━━━━━━━━━━━━━━━━━━━━━━━━━━━━━\u001b[0m \u001b[32m42.3/42.3 MB\u001b[0m \u001b[31m72.0 MB/s\u001b[0m eta \u001b[36m0:00:00\u001b[0ma \u001b[36m0:00:01\u001b[0m\n",
      "\u001b[?25hDownloading pytz-2025.2-py2.py3-none-any.whl (509 kB)\n",
      "Downloading regex-2024.11.6-cp311-cp311-manylinux_2_17_x86_64.manylinux2014_x86_64.whl (792 kB)\n",
      "\u001b[2K   \u001b[90m━━━━━━━━━━━━━━━━━━━━━━━━━━━━━━━━━━━━━━━━\u001b[0m \u001b[32m792.7/792.7 kB\u001b[0m \u001b[31m80.1 MB/s\u001b[0m eta \u001b[36m0:00:00\u001b[0m\n",
      "\u001b[?25hDownloading safetensors-0.5.3-cp38-abi3-manylinux_2_17_x86_64.manylinux2014_x86_64.whl (471 kB)\n",
      "Downloading scipy-1.16.0-cp311-cp311-manylinux2014_x86_64.manylinux_2_17_x86_64.whl (35.3 MB)\n",
      "\u001b[2K   \u001b[90m━━━━━━━━━━━━━━━━━━━━━━━━━━━━━━━━━━━━━━━━\u001b[0m \u001b[32m35.3/35.3 MB\u001b[0m \u001b[31m68.4 MB/s\u001b[0m eta \u001b[36m0:00:00\u001b[0ma \u001b[36m0:00:01\u001b[0m\n",
      "\u001b[?25hDownloading threadpoolctl-3.6.0-py3-none-any.whl (18 kB)\n",
      "Downloading tokenizers-0.21.2-cp39-abi3-manylinux_2_17_x86_64.manylinux2014_x86_64.whl (3.1 MB)\n",
      "\u001b[2K   \u001b[90m━━━━━━━━━━━━━━━━━━━━━━━━━━━━━━━━━━━━━━━━\u001b[0m \u001b[32m3.1/3.1 MB\u001b[0m \u001b[31m166.9 MB/s\u001b[0m eta \u001b[36m0:00:00\u001b[0m\n",
      "\u001b[?25hDownloading tqdm-4.67.1-py3-none-any.whl (78 kB)\n",
      "Downloading tzdata-2025.2-py2.py3-none-any.whl (347 kB)\n",
      "Downloading xxhash-3.5.0-cp311-cp311-manylinux_2_17_x86_64.manylinux2014_x86_64.whl (194 kB)\n",
      "Downloading aiohttp-3.12.13-cp311-cp311-manylinux_2_17_x86_64.manylinux2014_x86_64.whl (1.7 MB)\n",
      "\u001b[2K   \u001b[90m━━━━━━━━━━━━━━━━━━━━━━━━━━━━━━━━━━━━━━━━\u001b[0m \u001b[32m1.7/1.7 MB\u001b[0m \u001b[31m135.9 MB/s\u001b[0m eta \u001b[36m0:00:00\u001b[0m\n",
      "\u001b[?25hDownloading hf_xet-1.1.5-cp37-abi3-manylinux_2_17_x86_64.manylinux2014_x86_64.whl (3.1 MB)\n",
      "\u001b[2K   \u001b[90m━━━━━━━━━━━━━━━━━━━━━━━━━━━━━━━━━━━━━━━━\u001b[0m \u001b[32m3.1/3.1 MB\u001b[0m \u001b[31m164.7 MB/s\u001b[0m eta \u001b[36m0:00:00\u001b[0m\n",
      "\u001b[?25hDownloading aiohappyeyeballs-2.6.1-py3-none-any.whl (15 kB)\n",
      "Downloading aiosignal-1.3.2-py2.py3-none-any.whl (7.6 kB)\n",
      "Downloading frozenlist-1.7.0-cp311-cp311-manylinux_2_5_x86_64.manylinux1_x86_64.manylinux_2_17_x86_64.manylinux2014_x86_64.whl (235 kB)\n",
      "Downloading multidict-6.5.1-cp311-cp311-manylinux2014_x86_64.manylinux_2_17_x86_64.manylinux_2_28_x86_64.whl (251 kB)\n",
      "Downloading propcache-0.3.2-cp311-cp311-manylinux_2_17_x86_64.manylinux2014_x86_64.whl (213 kB)\n",
      "Downloading yarl-1.20.1-cp311-cp311-manylinux_2_17_x86_64.manylinux2014_x86_64.whl (348 kB)\n",
      "Installing collected packages: pytz, xxhash, tzdata, tqdm, threadpoolctl, scipy, safetensors, regex, pyarrow, propcache, multidict, joblib, hf-xet, frozenlist, dill, aiohappyeyeballs, yarl, scikit-learn, pandas, multiprocess, huggingface-hub, aiosignal, tokenizers, aiohttp, transformers, accelerate, datasets, evaluate\n",
      "Successfully installed accelerate-1.8.1 aiohappyeyeballs-2.6.1 aiohttp-3.12.13 aiosignal-1.3.2 datasets-3.6.0 dill-0.3.8 evaluate-0.4.4 frozenlist-1.7.0 hf-xet-1.1.5 huggingface-hub-0.33.1 joblib-1.5.1 multidict-6.5.1 multiprocess-0.70.16 pandas-2.3.0 propcache-0.3.2 pyarrow-20.0.0 pytz-2025.2 regex-2024.11.6 safetensors-0.5.3 scikit-learn-1.7.0 scipy-1.16.0 threadpoolctl-3.6.0 tokenizers-0.21.2 tqdm-4.67.1 transformers-4.53.0 tzdata-2025.2 xxhash-3.5.0 yarl-1.20.1\n",
      "\u001b[33mWARNING: Running pip as the 'root' user can result in broken permissions and conflicting behaviour with the system package manager, possibly rendering your system unusable. It is recommended to use a virtual environment instead: https://pip.pypa.io/warnings/venv. Use the --root-user-action option if you know what you are doing and want to suppress this warning.\u001b[0m\u001b[33m\n",
      "\u001b[0m\n",
      "\u001b[1m[\u001b[0m\u001b[34;49mnotice\u001b[0m\u001b[1;39;49m]\u001b[0m\u001b[39;49m A new release of pip is available: \u001b[0m\u001b[31;49m25.0.1\u001b[0m\u001b[39;49m -> \u001b[0m\u001b[32;49m25.1.1\u001b[0m\n",
      "\u001b[1m[\u001b[0m\u001b[34;49mnotice\u001b[0m\u001b[1;39;49m]\u001b[0m\u001b[39;49m To update, run: \u001b[0m\u001b[32;49mpython -m pip install --upgrade pip\u001b[0m\n"
     ]
    }
   ],
   "source": [
    "!pip install --upgrade pandas transformers datasets accelerate evaluate scikit-learn"
   ]
  },
  {
   "cell_type": "code",
   "execution_count": 12,
   "id": "4b2ba73e-87d3-40e2-9ee4-23c308df24f9",
   "metadata": {},
   "outputs": [],
   "source": [
    "import pandas as pd\n",
    "import numpy as np\n",
    "import torch\n",
    "from datasets import Dataset, DatasetDict, ClassLabel\n",
    "from sklearn.model_selection import train_test_split\n",
    "from transformers import (\n",
    "    AutoTokenizer,\n",
    "    AutoModelForSequenceClassification,\n",
    "    TrainingArguments,\n",
    "    Trainer,\n",
    "    EarlyStoppingCallback,\n",
    "    DataCollatorWithPadding\n",
    ")\n",
    "import evaluate"
   ]
  },
  {
   "cell_type": "code",
   "execution_count": 3,
   "id": "02cb2074-65f6-43de-858c-781bde813ccd",
   "metadata": {},
   "outputs": [
    {
     "name": "stdout",
     "output_type": "stream",
     "text": [
      "<class 'pandas.core.frame.DataFrame'>\n",
      "RangeIndex: 2000 entries, 0 to 1999\n",
      "Data columns (total 8 columns):\n",
      " #   Column  Non-Null Count  Dtype \n",
      "---  ------  --------------  ----- \n",
      " 0   제품명     2000 non-null   object\n",
      " 1   성분      2000 non-null   object\n",
      " 2   별점      2000 non-null   object\n",
      " 3   피부타입    2000 non-null   object\n",
      " 4   피부고민    2000 non-null   object\n",
      " 5   자극도     2000 non-null   object\n",
      " 6   문장      2000 non-null   object\n",
      " 7   label   2000 non-null   object\n",
      "dtypes: object(8)\n",
      "memory usage: 125.1+ KB\n"
     ]
    }
   ],
   "source": [
    "df = pd.read_csv('labeled_sample.csv', encoding='utf-8')\n",
    "df.info()"
   ]
  },
  {
   "cell_type": "code",
   "execution_count": 4,
   "id": "cabf44ae-0bba-4933-a37a-95e89b9a040b",
   "metadata": {},
   "outputs": [],
   "source": [
    "labels = sorted(df['label'].unique().tolist())\n",
    "id2label = {i: label for i, label in enumerate(labels)}\n",
    "label2id = {label: i for i, label in enumerate(labels)}\n",
    "df['labels'] = df['label'].map(label2id)"
   ]
  },
  {
   "cell_type": "code",
   "execution_count": 5,
   "id": "12258b13-cc00-4d3d-8d2a-2a16f5ad80df",
   "metadata": {},
   "outputs": [
    {
     "data": {
      "text/plain": [
       "0       0\n",
       "1       0\n",
       "2       0\n",
       "3       1\n",
       "4       0\n",
       "       ..\n",
       "1995    0\n",
       "1996    1\n",
       "1997    2\n",
       "1998    2\n",
       "1999    2\n",
       "Name: labels, Length: 2000, dtype: int64"
      ]
     },
     "execution_count": 5,
     "metadata": {},
     "output_type": "execute_result"
    }
   ],
   "source": [
    "df['labels']"
   ]
  },
  {
   "cell_type": "code",
   "execution_count": 30,
   "id": "2e643ebb-53e4-4f56-ab32-2140cdac7445",
   "metadata": {},
   "outputs": [
    {
     "data": {
      "application/vnd.jupyter.widget-view+json": {
       "model_id": "57de6ea1e26f439b9a52d4e515ccfe68",
       "version_major": 2,
       "version_minor": 0
      },
      "text/plain": [
       "Casting the dataset:   0%|          | 0/2000 [00:00<?, ? examples/s]"
      ]
     },
     "metadata": {},
     "output_type": "display_data"
    },
    {
     "name": "stdout",
     "output_type": "stream",
     "text": [
      "DatasetDict({\n",
      "    train: Dataset({\n",
      "        features: ['제품명', '성분', '별점', '피부타입', '피부고민', '자극도', '문장', 'label', 'labels'],\n",
      "        num_rows: 1800\n",
      "    })\n",
      "    eval: Dataset({\n",
      "        features: ['제품명', '성분', '별점', '피부타입', '피부고민', '자극도', '문장', 'label', 'labels'],\n",
      "        num_rows: 200\n",
      "    })\n",
      "})\n"
     ]
    }
   ],
   "source": [
    "dataset = Dataset.from_pandas(df)\n",
    "\n",
    "class_label_feature = ClassLabel(num_classes=len(labels), names=labels)\n",
    "dataset = dataset.cast_column(\"labels\", class_label_feature)\n",
    "\n",
    "train_eval_dataset = dataset.train_test_split(test_size=0.1, stratify_by_column='labels')\n",
    "\n",
    "dd = DatasetDict({\n",
    "    'train': train_eval_dataset['train'],\n",
    "    'eval': train_eval_dataset['test']\n",
    "})\n",
    "\n",
    "print(dd)"
   ]
  },
  {
   "cell_type": "code",
   "execution_count": 31,
   "id": "46b38f7b-4b1c-4255-b2bb-a6d3ac44474f",
   "metadata": {},
   "outputs": [],
   "source": [
    "model = \"beomi/kcbert-base\"\n",
    "tokenizer = AutoTokenizer.from_pretrained(model)"
   ]
  },
  {
   "cell_type": "code",
   "execution_count": 32,
   "id": "32ebcf0b-5724-4ac9-a91a-c2605db886df",
   "metadata": {},
   "outputs": [
    {
     "data": {
      "application/vnd.jupyter.widget-view+json": {
       "model_id": "bba131cf7a65421ca6984801321ca2f8",
       "version_major": 2,
       "version_minor": 0
      },
      "text/plain": [
       "Map:   0%|          | 0/1800 [00:00<?, ? examples/s]"
      ]
     },
     "metadata": {},
     "output_type": "display_data"
    },
    {
     "data": {
      "application/vnd.jupyter.widget-view+json": {
       "model_id": "5e46646bddb2471fbf55f48f58543ee2",
       "version_major": 2,
       "version_minor": 0
      },
      "text/plain": [
       "Map:   0%|          | 0/200 [00:00<?, ? examples/s]"
      ]
     },
     "metadata": {},
     "output_type": "display_data"
    }
   ],
   "source": [
    "def tokenize_function(examples):\n",
    "    return tokenizer(examples[\"문장\"], padding=False, truncation=True, max_length=128)\n",
    "\n",
    "tokenized_datasets = dd.map(tokenize_function, batched=True)\n",
    "tokenized_datasets = tokenized_datasets.remove_columns(['문장', 'label'])\n"
   ]
  },
  {
   "cell_type": "code",
   "execution_count": 33,
   "id": "2da8a14f-6e62-453c-8272-4d2d74bddbd5",
   "metadata": {},
   "outputs": [
    {
     "name": "stderr",
     "output_type": "stream",
     "text": [
      "Some weights of BertForSequenceClassification were not initialized from the model checkpoint at beomi/kcbert-base and are newly initialized: ['classifier.bias', 'classifier.weight']\n",
      "You should probably TRAIN this model on a down-stream task to be able to use it for predictions and inference.\n"
     ]
    }
   ],
   "source": [
    "model = AutoModelForSequenceClassification.from_pretrained(\n",
    "    model,\n",
    "    num_labels=len(labels),\n",
    "    id2label=id2label,\n",
    "    label2id=label2id,\n",
    ")"
   ]
  },
  {
   "cell_type": "code",
   "execution_count": 34,
   "id": "45c12e55-f6ea-4ecd-b65b-0d778397bb9b",
   "metadata": {},
   "outputs": [],
   "source": [
    "accuracy_metric = evaluate.load(\"accuracy\")\n",
    "f1_metric = evaluate.load(\"f1\")"
   ]
  },
  {
   "cell_type": "code",
   "execution_count": 35,
   "id": "3bc03015-1344-43fb-a66a-32f0bd1540cb",
   "metadata": {},
   "outputs": [],
   "source": [
    "def compute_metrics(eval_pred):\n",
    "    predictions, labels = eval_pred\n",
    "    predictions = np.argmax(predictions, axis=1)\n",
    "    \n",
    "    accuracy = accuracy_metric.compute(predictions=predictions, references=labels)\n",
    "    f1 = f1_metric.compute(predictions=predictions, references=labels, average=\"weighted\")\n",
    "    \n",
    "    return {\"accuracy\": accuracy[\"accuracy\"], \"f1\": f1[\"f1\"]}"
   ]
  },
  {
   "cell_type": "code",
   "execution_count": 36,
   "id": "c5d20089-441e-4f31-81ae-787b7a15b5de",
   "metadata": {},
   "outputs": [],
   "source": [
    "training_args = TrainingArguments(\n",
    "    output_dir=\"./kcbert_full_finetuned\", \n",
    "    learning_rate=2e-5,\n",
    "    per_device_train_batch_size=16, \n",
    "    per_device_eval_batch_size=16,\n",
    "    num_train_epochs=5,\n",
    "    weight_decay=0.1,\n",
    "    eval_strategy=\"epoch\",\n",
    "    save_strategy=\"epoch\",\n",
    "    load_best_model_at_end=True,\n",
    "    report_to=\"none\",\n",
    ")"
   ]
  },
  {
   "cell_type": "code",
   "execution_count": 37,
   "id": "4abee445-9efb-457d-8185-e43726bdbce6",
   "metadata": {},
   "outputs": [
    {
     "name": "stderr",
     "output_type": "stream",
     "text": [
      "/tmp/ipykernel_325/3622241889.py:1: FutureWarning: `tokenizer` is deprecated and will be removed in version 5.0.0 for `Trainer.__init__`. Use `processing_class` instead.\n",
      "  trainer = Trainer(\n"
     ]
    }
   ],
   "source": [
    "trainer = Trainer(\n",
    "    model=model, \n",
    "    args=training_args,\n",
    "    train_dataset=tokenized_datasets[\"train\"],\n",
    "    eval_dataset=tokenized_datasets[\"eval\"],\n",
    "    tokenizer=tokenizer,\n",
    "    data_collator=DataCollatorWithPadding(tokenizer=tokenizer),\n",
    "    compute_metrics=compute_metrics,\n",
    "    callbacks=[EarlyStoppingCallback(early_stopping_patience=3)]\n",
    ")"
   ]
  },
  {
   "cell_type": "code",
   "execution_count": 38,
   "id": "0d671aa3-4007-440d-b2cd-928269fb9b70",
   "metadata": {
    "scrolled": true
   },
   "outputs": [
    {
     "data": {
      "text/html": [
       "\n",
       "    <div>\n",
       "      \n",
       "      <progress value='565' max='565' style='width:300px; height:20px; vertical-align: middle;'></progress>\n",
       "      [565/565 00:32, Epoch 5/5]\n",
       "    </div>\n",
       "    <table border=\"1\" class=\"dataframe\">\n",
       "  <thead>\n",
       " <tr style=\"text-align: left;\">\n",
       "      <th>Epoch</th>\n",
       "      <th>Training Loss</th>\n",
       "      <th>Validation Loss</th>\n",
       "      <th>Accuracy</th>\n",
       "      <th>F1</th>\n",
       "    </tr>\n",
       "  </thead>\n",
       "  <tbody>\n",
       "    <tr>\n",
       "      <td>1</td>\n",
       "      <td>No log</td>\n",
       "      <td>0.568441</td>\n",
       "      <td>0.775000</td>\n",
       "      <td>0.754612</td>\n",
       "    </tr>\n",
       "    <tr>\n",
       "      <td>2</td>\n",
       "      <td>No log</td>\n",
       "      <td>0.530516</td>\n",
       "      <td>0.775000</td>\n",
       "      <td>0.760908</td>\n",
       "    </tr>\n",
       "    <tr>\n",
       "      <td>3</td>\n",
       "      <td>No log</td>\n",
       "      <td>0.638956</td>\n",
       "      <td>0.815000</td>\n",
       "      <td>0.801893</td>\n",
       "    </tr>\n",
       "    <tr>\n",
       "      <td>4</td>\n",
       "      <td>No log</td>\n",
       "      <td>0.740763</td>\n",
       "      <td>0.790000</td>\n",
       "      <td>0.783022</td>\n",
       "    </tr>\n",
       "    <tr>\n",
       "      <td>5</td>\n",
       "      <td>0.338300</td>\n",
       "      <td>0.754495</td>\n",
       "      <td>0.795000</td>\n",
       "      <td>0.790341</td>\n",
       "    </tr>\n",
       "  </tbody>\n",
       "</table><p>"
      ],
      "text/plain": [
       "<IPython.core.display.HTML object>"
      ]
     },
     "metadata": {},
     "output_type": "display_data"
    },
    {
     "data": {
      "text/plain": [
       "TrainOutput(global_step=565, training_loss=0.30390086638188996, metrics={'train_runtime': 32.6555, 'train_samples_per_second': 275.604, 'train_steps_per_second': 17.302, 'total_flos': 203740230558816.0, 'train_loss': 0.30390086638188996, 'epoch': 5.0})"
      ]
     },
     "execution_count": 38,
     "metadata": {},
     "output_type": "execute_result"
    }
   ],
   "source": [
    "trainer.train()"
   ]
  },
  {
   "cell_type": "code",
   "execution_count": 39,
   "id": "db9e62d6-ac23-4773-a964-841a49694f1f",
   "metadata": {},
   "outputs": [],
   "source": [
    "best_model_path = \"./best_kcbert_full_model_2\"\n",
    "trainer.save_model(best_model_path)"
   ]
  },
  {
   "cell_type": "code",
   "execution_count": 40,
   "id": "22df3a3c-bba7-4773-b3dd-2e736df7705b",
   "metadata": {},
   "outputs": [],
   "source": [
    "def predict_sentiment(text):\n",
    "    inputs = loaded_tokenizer(text, return_tensors=\"pt\").to(device)\n",
    "    with torch.no_grad():\n",
    "        outputs = loaded_model(**inputs)\n",
    "    \n",
    "    logits = outputs.logits\n",
    "    prediction = torch.argmax(logits, dim=-1).item()\n",
    "    return loaded_model.config.id2label[prediction]"
   ]
  },
  {
   "cell_type": "code",
   "execution_count": 26,
   "id": "e74aab6e-ff9c-44d5-a509-e25760c13a1a",
   "metadata": {},
   "outputs": [
    {
     "ename": "UnicodeDecodeError",
     "evalue": "'utf-8' codec can't decode byte 0xec in position 0: unexpected end of data",
     "output_type": "error",
     "traceback": [
      "\u001b[31m---------------------------------------------------------------------------\u001b[39m",
      "\u001b[31mUnicodeDecodeError\u001b[39m                        Traceback (most recent call last)",
      "\u001b[36mCell\u001b[39m\u001b[36m \u001b[39m\u001b[32mIn[26]\u001b[39m\u001b[32m, line 1\u001b[39m\n\u001b[32m----> \u001b[39m\u001b[32m1\u001b[39m test_case = \u001b[43mpd\u001b[49m\u001b[43m.\u001b[49m\u001b[43mread_csv\u001b[49m\u001b[43m(\u001b[49m\u001b[33;43m'\u001b[39;49m\u001b[33;43mtokenized/tokenized_essence_31_35.csv\u001b[39;49m\u001b[33;43m'\u001b[39;49m\u001b[43m)\u001b[49m\n\u001b[32m      2\u001b[39m test_case = \u001b[38;5;28mlist\u001b[39m(test_case[\u001b[33m'\u001b[39m\u001b[33m문장\u001b[39m\u001b[33m'\u001b[39m].sample(\u001b[32m50\u001b[39m).items())\n\u001b[32m      3\u001b[39m test_case\n",
      "\u001b[36mFile \u001b[39m\u001b[32m/usr/local/lib/python3.11/dist-packages/pandas/io/parsers/readers.py:1026\u001b[39m, in \u001b[36mread_csv\u001b[39m\u001b[34m(filepath_or_buffer, sep, delimiter, header, names, index_col, usecols, dtype, engine, converters, true_values, false_values, skipinitialspace, skiprows, skipfooter, nrows, na_values, keep_default_na, na_filter, verbose, skip_blank_lines, parse_dates, infer_datetime_format, keep_date_col, date_parser, date_format, dayfirst, cache_dates, iterator, chunksize, compression, thousands, decimal, lineterminator, quotechar, quoting, doublequote, escapechar, comment, encoding, encoding_errors, dialect, on_bad_lines, delim_whitespace, low_memory, memory_map, float_precision, storage_options, dtype_backend)\u001b[39m\n\u001b[32m   1013\u001b[39m kwds_defaults = _refine_defaults_read(\n\u001b[32m   1014\u001b[39m     dialect,\n\u001b[32m   1015\u001b[39m     delimiter,\n\u001b[32m   (...)\u001b[39m\u001b[32m   1022\u001b[39m     dtype_backend=dtype_backend,\n\u001b[32m   1023\u001b[39m )\n\u001b[32m   1024\u001b[39m kwds.update(kwds_defaults)\n\u001b[32m-> \u001b[39m\u001b[32m1026\u001b[39m \u001b[38;5;28;01mreturn\u001b[39;00m \u001b[43m_read\u001b[49m\u001b[43m(\u001b[49m\u001b[43mfilepath_or_buffer\u001b[49m\u001b[43m,\u001b[49m\u001b[43m \u001b[49m\u001b[43mkwds\u001b[49m\u001b[43m)\u001b[49m\n",
      "\u001b[36mFile \u001b[39m\u001b[32m/usr/local/lib/python3.11/dist-packages/pandas/io/parsers/readers.py:626\u001b[39m, in \u001b[36m_read\u001b[39m\u001b[34m(filepath_or_buffer, kwds)\u001b[39m\n\u001b[32m    623\u001b[39m     \u001b[38;5;28;01mreturn\u001b[39;00m parser\n\u001b[32m    625\u001b[39m \u001b[38;5;28;01mwith\u001b[39;00m parser:\n\u001b[32m--> \u001b[39m\u001b[32m626\u001b[39m     \u001b[38;5;28;01mreturn\u001b[39;00m \u001b[43mparser\u001b[49m\u001b[43m.\u001b[49m\u001b[43mread\u001b[49m\u001b[43m(\u001b[49m\u001b[43mnrows\u001b[49m\u001b[43m)\u001b[49m\n",
      "\u001b[36mFile \u001b[39m\u001b[32m/usr/local/lib/python3.11/dist-packages/pandas/io/parsers/readers.py:1923\u001b[39m, in \u001b[36mTextFileReader.read\u001b[39m\u001b[34m(self, nrows)\u001b[39m\n\u001b[32m   1916\u001b[39m nrows = validate_integer(\u001b[33m\"\u001b[39m\u001b[33mnrows\u001b[39m\u001b[33m\"\u001b[39m, nrows)\n\u001b[32m   1917\u001b[39m \u001b[38;5;28;01mtry\u001b[39;00m:\n\u001b[32m   1918\u001b[39m     \u001b[38;5;66;03m# error: \"ParserBase\" has no attribute \"read\"\u001b[39;00m\n\u001b[32m   1919\u001b[39m     (\n\u001b[32m   1920\u001b[39m         index,\n\u001b[32m   1921\u001b[39m         columns,\n\u001b[32m   1922\u001b[39m         col_dict,\n\u001b[32m-> \u001b[39m\u001b[32m1923\u001b[39m     ) = \u001b[38;5;28;43mself\u001b[39;49m\u001b[43m.\u001b[49m\u001b[43m_engine\u001b[49m\u001b[43m.\u001b[49m\u001b[43mread\u001b[49m\u001b[43m(\u001b[49m\u001b[43m  \u001b[49m\u001b[38;5;66;43;03m# type: ignore[attr-defined]\u001b[39;49;00m\n\u001b[32m   1924\u001b[39m \u001b[43m        \u001b[49m\u001b[43mnrows\u001b[49m\n\u001b[32m   1925\u001b[39m \u001b[43m    \u001b[49m\u001b[43m)\u001b[49m\n\u001b[32m   1926\u001b[39m \u001b[38;5;28;01mexcept\u001b[39;00m \u001b[38;5;167;01mException\u001b[39;00m:\n\u001b[32m   1927\u001b[39m     \u001b[38;5;28mself\u001b[39m.close()\n",
      "\u001b[36mFile \u001b[39m\u001b[32m/usr/local/lib/python3.11/dist-packages/pandas/io/parsers/c_parser_wrapper.py:234\u001b[39m, in \u001b[36mCParserWrapper.read\u001b[39m\u001b[34m(self, nrows)\u001b[39m\n\u001b[32m    232\u001b[39m \u001b[38;5;28;01mtry\u001b[39;00m:\n\u001b[32m    233\u001b[39m     \u001b[38;5;28;01mif\u001b[39;00m \u001b[38;5;28mself\u001b[39m.low_memory:\n\u001b[32m--> \u001b[39m\u001b[32m234\u001b[39m         chunks = \u001b[38;5;28;43mself\u001b[39;49m\u001b[43m.\u001b[49m\u001b[43m_reader\u001b[49m\u001b[43m.\u001b[49m\u001b[43mread_low_memory\u001b[49m\u001b[43m(\u001b[49m\u001b[43mnrows\u001b[49m\u001b[43m)\u001b[49m\n\u001b[32m    235\u001b[39m         \u001b[38;5;66;03m# destructive to chunks\u001b[39;00m\n\u001b[32m    236\u001b[39m         data = _concatenate_chunks(chunks)\n",
      "\u001b[36mFile \u001b[39m\u001b[32mpandas/_libs/parsers.pyx:838\u001b[39m, in \u001b[36mpandas._libs.parsers.TextReader.read_low_memory\u001b[39m\u001b[34m()\u001b[39m\n",
      "\u001b[36mFile \u001b[39m\u001b[32mpandas/_libs/parsers.pyx:905\u001b[39m, in \u001b[36mpandas._libs.parsers.TextReader._read_rows\u001b[39m\u001b[34m()\u001b[39m\n",
      "\u001b[36mFile \u001b[39m\u001b[32mpandas/_libs/parsers.pyx:874\u001b[39m, in \u001b[36mpandas._libs.parsers.TextReader._tokenize_rows\u001b[39m\u001b[34m()\u001b[39m\n",
      "\u001b[36mFile \u001b[39m\u001b[32mpandas/_libs/parsers.pyx:891\u001b[39m, in \u001b[36mpandas._libs.parsers.TextReader._check_tokenize_status\u001b[39m\u001b[34m()\u001b[39m\n",
      "\u001b[36mFile \u001b[39m\u001b[32mpandas/_libs/parsers.pyx:2053\u001b[39m, in \u001b[36mpandas._libs.parsers.raise_parser_error\u001b[39m\u001b[34m()\u001b[39m\n",
      "\u001b[31mUnicodeDecodeError\u001b[39m: 'utf-8' codec can't decode byte 0xec in position 0: unexpected end of data"
     ]
    }
   ],
   "source": [
    "test_case = pd.read_csv('tokenized/tokenized_essence_31_35.csv')\n",
    "test_case = list(test_case['문장'].sample(50).items())\n",
    "test_case"
   ]
  },
  {
   "cell_type": "code",
   "execution_count": 41,
   "id": "fc6c53a8-b8e8-4e40-9937-ad7b3281b83e",
   "metadata": {},
   "outputs": [],
   "source": [
    "test_case = ['이게 막 번들번들한 그런느낌이 아니라 정말 촉촉한 느낌 그대로 유지가 되기때문에 메이크업도 잘 먹구요!',\n",
    " ':)\\n\\n사용한지 오래 되지 않았지만\\n그 동안 사용해보았던 미백 제품들 중에서는\\n단연 제일 맘에 쏙 들어요!!!!!',\n",
    " '향이 너무 상큼하구 잡티+미백+탄력 신경쓰이시는 분들에게 딱인것 같습니다 ㅎㅎ',\n",
    " '이렇게 가격이 저렴한 앰플은 처음봐요',\n",
    " '전 앞으로 이것만 쓰려구용ㅠㅠ\\n첨에 인스타 광고 보고 속는셈치고 사봤는데용..',\n",
    " '많이 바르면 끈적이기는 하지만 한 두방울 섞어서 바르면 건조함을 좀 잡아줘요',\n",
    " '감사합니가 너무 이뻐요',\n",
    " '리들샷 평소에 잘 써서 같이 써보려구 구매햇어용',\n",
    " '그외에 봄 가을 겨울 사용하기 너무 좋아요~',\n",
    " '촉촉하고 쫀쫀하게 마무리되네요.',\n",
    " '저 지성도 건성도 아닌 애매한 사람인데 이거 쫀쫀한 타입이지만 번들거리거나 무겁지 않고 수분감 채워줘서 너무 좋아용 저같은 분들 사용해보세오',\n",
    " '제형은 가벼운 것 같으나 약간 꾸덕한 느낌을 가지고 있어서 흘러내리거나 하진 않고 발림성 좋습니다.',\n",
    " '비타민c 제품이라 차광되는 병때문에 얼마나 남았는지 모르는게 단점이라면 단점이네요ㅠ',\n",
    " '큰 기대 하지 않고 샀는데 정말 맘에 드는 제품입니다 ~',\n",
    " '20대피부로 돌아갈 수는 없지만 내 나이보다는 젊어보여야하잖아요~',\n",
    " '그래도 앰플이 꾸덕하거나 너무 기름지지 않고 그렇다고 또 너무 산뜻하지도 않고 보습감은 있으면서 유분감은 없는것 같아요!',\n",
    " '특히 겨울 보습관리네 좋은 것 같습니다',\n",
    " '잡티 앰플은 자극적인 경우가 많았는데 미백, 잡티 앰플임에도 자극이 없이 순해서 좋아요.',\n",
    " '두통째 사용했습니다!!',\n",
    " '그리고 민감 피부도 안심하고 사용할 수 있는 저자극 에센스라 좋아요.',\n",
    " '맑아진 제 피부를 꿈꾸며 써보겠습니다 ! ㅎㅎ',\n",
    " '흐르는 제형이라 더 수분감이 많이 느껴지는 것 같네요',\n",
    " '좁쌀이랑 다 들어갔어요',\n",
    " '너무 금방 쓰거든요. ㅜㅜ',\n",
    " '끈적한거 엄청 싫어하는데 바르면 실크처럼 부드럽게\\n발려서 너무 좋아요!!',\n",
    " '일단 공식홈페이지에서는 7만9천원에 판매하는데\\n<나이아신아마이드 아데노신>\\n이 두 가지만 들어간 제품이 왜 그리도 비싼 건지..?',\n",
    " '다른 제품을 같이 써서인지는\\n모르겠으나, 어느날부터 광채가 생긴 것 같아요.',\n",
    " '발림성 - 적당한 발림성.\\n＊',\n",
    " '가격이 비싸다고 생각했지만 2달 정도 쓰고 보니까 합리적이라는 생각이 들어요.',\n",
    " '오래가진 않지만 반짝거려요👍',\n",
    " '바르면 수분이 차오른다는 말이 맞는거 같아요',\n",
    " '피부가 건성인분들은 이 제품을 꼭 추천해드리고 싶고 트라이한번 해보세요',\n",
    " '자극이 없고 밀려나오는 제형이 아닌 물제형이라 발림성이 좋네요.',\n",
    " '피부가 쫙 펴지고 탱탱해진 게 딱 느껴졌어요ㅠㅠ',\n",
    " '향 - 저는 향에 좀 예민한 편인데, 호불호없는 향.',\n",
    " '여태껏 인생 써본 앰플중에 최고임',\n",
    " '흡수는 꽤 잘되는편입니다.',\n",
    " '그리고 무엇보다 홍조가 있는편인데 피부가 진정이 되어서 붉은기도 많이 좋아지고 있네요.',\n",
    " '시간이 지남에 따라 제형변화가 있어서 6개월안에 사용하는걸 추천합니다.',\n",
    " '보습 빵빵해요!',\n",
    " '향은 플로럴향이고, 바르면 수분감 채워주면 엄청 약간의 유분기?가 느껴집니다.',\n",
    " '한통 다쓰고 재구매 했습니다',\n",
    " '근데 세상 매끄럽고\\n더 꾸덕하고 촉촉해요.',\n",
    " '여름이라 한두번사용했어요',\n",
    " '요즘 자외선 많이 받다보니까 잡티가 올라오는 느낌이라\\n너무 고민이었거든요',\n",
    " '미샤 비타c잡티 앰플 좋아요',\n",
    " '그리고 구달 청귤세럼 굉장히 잘 사용했지만, 최근 사용했을 때 뭔가 젤같은 느낌때문에 다음단계 바르기가 좀 애매하다고 느꼈던 적이 있었어요.',\n",
    " '사실 좀 신생 브랜드라 좀 꺼려졋긴한데 제가 한번 써보고 한달뒤에 효과가 어땟는지 리뷰쓰러 올께요',\n",
    " '이거 완전 수분감이 엄청나서 아주 맘에 들어요~',\n",
    " '세안하자마자 물기만 닦고 바로 바르는데 피부가 촉촉하고 쫀쫀해져요.']"
   ]
  },
  {
   "cell_type": "code",
   "execution_count": 43,
   "id": "cf1dd00f-9de7-4ed7-91bd-f3876622c166",
   "metadata": {},
   "outputs": [
    {
     "name": "stdout",
     "output_type": "stream",
     "text": [
      "'./best_kcbert_full_model_2'에서 모델과 토크나이저를 성공적으로 로드했습니다.\n",
      "사용 장치: cuda\n"
     ]
    }
   ],
   "source": [
    "device = torch.device(\"cuda\" if torch.cuda.is_available() else \"cpu\")\n",
    "\n",
    "# 저장된 모델과 토크나이저를 메모리로 불러옵니다.\n",
    "# 이 과정에서 loaded_model과 loaded_tokenizer 변수가 생성됩니다.\n",
    "try:\n",
    "    loaded_model = AutoModelForSequenceClassification.from_pretrained(best_model_path)\n",
    "    loaded_tokenizer = AutoTokenizer.from_pretrained(best_model_path)\n",
    "    loaded_model.to(device) # 모델을 GPU로 이동\n",
    "    print(f\"'{best_model_path}'에서 모델과 토크나이저를 성공적으로 로드했습니다.\")\n",
    "    print(f\"사용 장치: {device}\")\n",
    "except OSError:\n",
    "    print(f\"오류: '{best_model_path}' 경로에 모델 파일이 없습니다. 경로를 다시 확인해주세요.\")\n",
    "\n",
    "\n",
    "# --- 2. 추론 함수 정의 ---\n",
    "\n",
    "# loaded_model과 loaded_tokenizer를 사용하는 함수를 다시 한번 정의해줍니다.\n",
    "def predict_sentiment(text):\n",
    "    # 함수 내에서 NameError가 발생하지 않도록, 필요한 변수들이 이 코드 블록 위에 모두 정의되어 있어야 합니다.\n",
    "    inputs = loaded_tokenizer(text, return_tensors=\"pt\").to(device)\n",
    "    with torch.no_grad():\n",
    "        outputs = loaded_model(**inputs)\n",
    "    \n",
    "    logits = outputs.logits\n",
    "    prediction = torch.argmax(logits, dim=-1).item()\n",
    "    return loaded_model.config.id2label[prediction]\n"
   ]
  },
  {
   "cell_type": "code",
   "execution_count": 44,
   "id": "f05f1a12-80b9-4ea7-b281-bff4b2285606",
   "metadata": {},
   "outputs": [
    {
     "name": "stdout",
     "output_type": "stream",
     "text": [
      "문장: 이게 막 번들번들한 그런느낌이 아니라 정말 촉촉한 느낌 그대로 유지가 되기때문에 메이크업도 잘 먹구요!\n",
      "  -> 예측 결과: 긍정\n",
      "\n",
      "문장: :)\n",
      "\n",
      "사용한지 오래 되지 않았지만\n",
      "그 동안 사용해보았던 미백 제품들 중에서는\n",
      "단연 제일 맘에 쏙 들어요!!!!!\n",
      "  -> 예측 결과: 긍정\n",
      "\n",
      "문장: 향이 너무 상큼하구 잡티+미백+탄력 신경쓰이시는 분들에게 딱인것 같습니다 ㅎㅎ\n",
      "  -> 예측 결과: 긍정\n",
      "\n",
      "문장: 이렇게 가격이 저렴한 앰플은 처음봐요\n",
      "  -> 예측 결과: 긍정\n",
      "\n",
      "문장: 전 앞으로 이것만 쓰려구용ㅠㅠ\n",
      "첨에 인스타 광고 보고 속는셈치고 사봤는데용..\n",
      "  -> 예측 결과: 긍정\n",
      "\n",
      "문장: 많이 바르면 끈적이기는 하지만 한 두방울 섞어서 바르면 건조함을 좀 잡아줘요\n",
      "  -> 예측 결과: 중립\n",
      "\n",
      "문장: 감사합니가 너무 이뻐요\n",
      "  -> 예측 결과: 긍정\n",
      "\n",
      "문장: 리들샷 평소에 잘 써서 같이 써보려구 구매햇어용\n",
      "  -> 예측 결과: 긍정\n",
      "\n",
      "문장: 그외에 봄 가을 겨울 사용하기 너무 좋아요~\n",
      "  -> 예측 결과: 긍정\n",
      "\n",
      "문장: 촉촉하고 쫀쫀하게 마무리되네요.\n",
      "  -> 예측 결과: 긍정\n",
      "\n",
      "문장: 저 지성도 건성도 아닌 애매한 사람인데 이거 쫀쫀한 타입이지만 번들거리거나 무겁지 않고 수분감 채워줘서 너무 좋아용 저같은 분들 사용해보세오\n",
      "  -> 예측 결과: 긍정\n",
      "\n",
      "문장: 제형은 가벼운 것 같으나 약간 꾸덕한 느낌을 가지고 있어서 흘러내리거나 하진 않고 발림성 좋습니다.\n",
      "  -> 예측 결과: 부정\n",
      "\n",
      "문장: 비타민c 제품이라 차광되는 병때문에 얼마나 남았는지 모르는게 단점이라면 단점이네요ㅠ\n",
      "  -> 예측 결과: 부정\n",
      "\n",
      "문장: 큰 기대 하지 않고 샀는데 정말 맘에 드는 제품입니다 ~\n",
      "  -> 예측 결과: 긍정\n",
      "\n",
      "문장: 20대피부로 돌아갈 수는 없지만 내 나이보다는 젊어보여야하잖아요~\n",
      "  -> 예측 결과: 긍정\n",
      "\n",
      "문장: 그래도 앰플이 꾸덕하거나 너무 기름지지 않고 그렇다고 또 너무 산뜻하지도 않고 보습감은 있으면서 유분감은 없는것 같아요!\n",
      "  -> 예측 결과: 긍정\n",
      "\n",
      "문장: 특히 겨울 보습관리네 좋은 것 같습니다\n",
      "  -> 예측 결과: 긍정\n",
      "\n",
      "문장: 잡티 앰플은 자극적인 경우가 많았는데 미백, 잡티 앰플임에도 자극이 없이 순해서 좋아요.\n",
      "  -> 예측 결과: 긍정\n",
      "\n",
      "문장: 두통째 사용했습니다!!\n",
      "  -> 예측 결과: 긍정\n",
      "\n",
      "문장: 그리고 민감 피부도 안심하고 사용할 수 있는 저자극 에센스라 좋아요.\n",
      "  -> 예측 결과: 긍정\n",
      "\n",
      "문장: 맑아진 제 피부를 꿈꾸며 써보겠습니다 ! ㅎㅎ\n",
      "  -> 예측 결과: 긍정\n",
      "\n",
      "문장: 흐르는 제형이라 더 수분감이 많이 느껴지는 것 같네요\n",
      "  -> 예측 결과: 긍정\n",
      "\n",
      "문장: 좁쌀이랑 다 들어갔어요\n",
      "  -> 예측 결과: 긍정\n",
      "\n",
      "문장: 너무 금방 쓰거든요. ㅜㅜ\n",
      "  -> 예측 결과: 부정\n",
      "\n",
      "문장: 끈적한거 엄청 싫어하는데 바르면 실크처럼 부드럽게\n",
      "발려서 너무 좋아요!!\n",
      "  -> 예측 결과: 긍정\n",
      "\n",
      "문장: 일단 공식홈페이지에서는 7만9천원에 판매하는데\n",
      "<나이아신아마이드 아데노신>\n",
      "이 두 가지만 들어간 제품이 왜 그리도 비싼 건지..?\n",
      "  -> 예측 결과: 부정\n",
      "\n",
      "문장: 다른 제품을 같이 써서인지는\n",
      "모르겠으나, 어느날부터 광채가 생긴 것 같아요.\n",
      "  -> 예측 결과: 긍정\n",
      "\n",
      "문장: 발림성 - 적당한 발림성.\n",
      "＊\n",
      "  -> 예측 결과: 중립\n",
      "\n",
      "문장: 가격이 비싸다고 생각했지만 2달 정도 쓰고 보니까 합리적이라는 생각이 들어요.\n",
      "  -> 예측 결과: 긍정\n",
      "\n",
      "문장: 오래가진 않지만 반짝거려요👍\n",
      "  -> 예측 결과: 긍정\n",
      "\n",
      "문장: 바르면 수분이 차오른다는 말이 맞는거 같아요\n",
      "  -> 예측 결과: 긍정\n",
      "\n",
      "문장: 피부가 건성인분들은 이 제품을 꼭 추천해드리고 싶고 트라이한번 해보세요\n",
      "  -> 예측 결과: 긍정\n",
      "\n",
      "문장: 자극이 없고 밀려나오는 제형이 아닌 물제형이라 발림성이 좋네요.\n",
      "  -> 예측 결과: 긍정\n",
      "\n",
      "문장: 피부가 쫙 펴지고 탱탱해진 게 딱 느껴졌어요ㅠㅠ\n",
      "  -> 예측 결과: 긍정\n",
      "\n",
      "문장: 향 - 저는 향에 좀 예민한 편인데, 호불호없는 향.\n",
      "  -> 예측 결과: 중립\n",
      "\n",
      "문장: 여태껏 인생 써본 앰플중에 최고임\n",
      "  -> 예측 결과: 긍정\n",
      "\n",
      "문장: 흡수는 꽤 잘되는편입니다.\n",
      "  -> 예측 결과: 긍정\n",
      "\n",
      "문장: 그리고 무엇보다 홍조가 있는편인데 피부가 진정이 되어서 붉은기도 많이 좋아지고 있네요.\n",
      "  -> 예측 결과: 긍정\n",
      "\n",
      "문장: 시간이 지남에 따라 제형변화가 있어서 6개월안에 사용하는걸 추천합니다.\n",
      "  -> 예측 결과: 중립\n",
      "\n",
      "문장: 보습 빵빵해요!\n",
      "  -> 예측 결과: 긍정\n",
      "\n",
      "문장: 향은 플로럴향이고, 바르면 수분감 채워주면 엄청 약간의 유분기?가 느껴집니다.\n",
      "  -> 예측 결과: 중립\n",
      "\n",
      "문장: 한통 다쓰고 재구매 했습니다\n",
      "  -> 예측 결과: 긍정\n",
      "\n",
      "문장: 근데 세상 매끄럽고\n",
      "더 꾸덕하고 촉촉해요.\n",
      "  -> 예측 결과: 긍정\n",
      "\n",
      "문장: 여름이라 한두번사용했어요\n",
      "  -> 예측 결과: 중립\n",
      "\n",
      "문장: 요즘 자외선 많이 받다보니까 잡티가 올라오는 느낌이라\n",
      "너무 고민이었거든요\n",
      "  -> 예측 결과: 부정\n",
      "\n",
      "문장: 미샤 비타c잡티 앰플 좋아요\n",
      "  -> 예측 결과: 긍정\n",
      "\n",
      "문장: 그리고 구달 청귤세럼 굉장히 잘 사용했지만, 최근 사용했을 때 뭔가 젤같은 느낌때문에 다음단계 바르기가 좀 애매하다고 느꼈던 적이 있었어요.\n",
      "  -> 예측 결과: 부정\n",
      "\n",
      "문장: 사실 좀 신생 브랜드라 좀 꺼려졋긴한데 제가 한번 써보고 한달뒤에 효과가 어땟는지 리뷰쓰러 올께요\n",
      "  -> 예측 결과: 중립\n",
      "\n",
      "문장: 이거 완전 수분감이 엄청나서 아주 맘에 들어요~\n",
      "  -> 예측 결과: 긍정\n",
      "\n",
      "문장: 세안하자마자 물기만 닦고 바로 바르는데 피부가 촉촉하고 쫀쫀해져요.\n",
      "  -> 예측 결과: 긍정\n",
      "\n"
     ]
    }
   ],
   "source": [
    "for sentence in test_case:\n",
    "    predicted_label = predict_sentiment(sentence)\n",
    "    \n",
    "    print(f\"문장: {sentence}\")\n",
    "    print(f\"  -> 예측 결과: {predicted_label}\\n\")"
   ]
  },
  {
   "cell_type": "code",
   "execution_count": 45,
   "id": "985a1909-1032-4646-bd61-ebe6de50aeae",
   "metadata": {},
   "outputs": [
    {
     "data": {
      "application/vnd.jupyter.widget-view+json": {
       "model_id": "2a5b6acb47d04f409ca4ff0533ff17ce",
       "version_major": 2,
       "version_minor": 0
      },
      "text/plain": [
       "VBox(children=(HTML(value='<center> <img\\nsrc=https://huggingface.co/front/assets/huggingface_logo-noborder.sv…"
      ]
     },
     "metadata": {},
     "output_type": "display_data"
    }
   ],
   "source": [
    "from huggingface_hub import notebook_login\n",
    "\n",
    "notebook_login()"
   ]
  },
  {
   "cell_type": "code",
   "execution_count": null,
   "id": "7e9cf233-6efd-417d-97c0-e040de66c67e",
   "metadata": {},
   "outputs": [
    {
     "data": {
      "application/vnd.jupyter.widget-view+json": {
       "model_id": "55d7f92454424db5831df54ea5156ff0",
       "version_major": 2,
       "version_minor": 0
      },
      "text/plain": [
       "Uploading...:   0%|          | 0.00/436M [00:00<?, ?B/s]"
      ]
     },
     "metadata": {},
     "output_type": "display_data"
    }
   ],
   "source": [
    "checkpoint_path = './kcbert_full_finetuned/checkpoint-339'\n",
    "\n",
    "from transformers import TrainingArguments, AutoModelForSequenceClassification, AutoTokenizer\n",
    "\n",
    "model_id = 'iPad7/kcbert-base-rsa-e3'\n",
    "model = AutoModelForSequenceClassification.from_pretrained(checkpoint_path)\n",
    "tokenizer = AutoTokenizer.from_pretrained(checkpoint_path)\n",
    "\n",
    "model.push_to_hub(model_id, commit_message='Pushed model for epoch 3 model')\n",
    "tokenizer.push_tu_hub(model_id, commit_message='Pushed tokenizer for epoch 3 model')\n",
    "\n",
    "# trainer.push_to_hub(commit_message=\"Initial model training complete\")\n",
    "print(f\"모델이 '{model_id}' 저장소에 성공적으로 푸시되었습니다.\")"
   ]
  }
 ],
 "metadata": {
  "kernelspec": {
   "display_name": "Python 3 (ipykernel)",
   "language": "python",
   "name": "python3"
  },
  "language_info": {
   "codemirror_mode": {
    "name": "ipython",
    "version": 3
   },
   "file_extension": ".py",
   "mimetype": "text/x-python",
   "name": "python",
   "nbconvert_exporter": "python",
   "pygments_lexer": "ipython3",
   "version": "3.11.11"
  }
 },
 "nbformat": 4,
 "nbformat_minor": 5
}
