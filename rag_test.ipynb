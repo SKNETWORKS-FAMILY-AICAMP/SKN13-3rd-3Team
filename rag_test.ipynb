{
 "cells": [
  {
   "cell_type": "code",
   "execution_count": 17,
   "id": "ef5e8ed9",
   "metadata": {},
   "outputs": [
    {
     "name": "stdout",
     "output_type": "stream",
     "text": [
      "<class 'pandas.core.frame.DataFrame'>\n",
      "RangeIndex: 234981 entries, 0 to 234980\n",
      "Data columns (total 9 columns):\n",
      " #   Column  Non-Null Count   Dtype \n",
      "---  ------  --------------   ----- \n",
      " 0   제품명     234981 non-null  object\n",
      " 1   성분      234981 non-null  object\n",
      " 2   별점      234981 non-null  int64 \n",
      " 3   피부타입    234981 non-null  object\n",
      " 4   피부고민    234981 non-null  object\n",
      " 5   자극도     234981 non-null  object\n",
      " 6   카테고리    234981 non-null  object\n",
      " 7   리뷰      234981 non-null  object\n",
      " 8   리뷰_감성   234981 non-null  object\n",
      "dtypes: int64(1), object(8)\n",
      "memory usage: 16.1+ MB\n"
     ]
    }
   ],
   "source": [
    "from sentence_transformers import SentenceTransformer\n",
    "import pandas as pd\n",
    "\n",
    "model = SentenceTransformer(\"jhgan/ko-sbert-nli\")  # 한글 리뷰에 적합\n",
    "\n",
    "# 파일명 수정해주세용\n",
    "df = pd.read_csv('labeled/oliveyoung_lotion_labels.csv')\n",
    "df.info()\n"
   ]
  },
  {
   "cell_type": "code",
   "execution_count": null,
   "id": "86dff750",
   "metadata": {},
   "outputs": [],
   "source": [
    "# 유저 질문 분석 함수\n",
    "def extract_fields_from_question(question: str) -> list:\n",
    "    field_keywords = {\n",
    "        \"제품명\": [\"제품명\", \"이름\", \"상품\", \"제품\"],\n",
    "        \"카테고리\": [\"카테고리\", \"스킨\", \"토너\", \"에센스\" ,\"세럼\", \"앰플\", \"크림\", \"로션\", \"미스트\", \"오일\"],\n",
    "        \"성분\": [\"성분\", \"히알루론산\", \"비타민\", \"AHA\", \"BHA\", \"나이아신아마이드\"],\n",
    "        \"피부타입\": [\"건성\", \"지성\", \"복합성\", \"수부지\", \"수분부족지성\", \"극지성\", \"극건성\", \"속건조\", \"피부타입\"],\n",
    "        \"피부고민\": [\"보습\", \"주름\", \"여드름\", \"미백\", \"흉터\", \"진정\", \"잡티\", \"흔적\", \"피부 고민\"],\n",
    "        \"감정\": [\"좋았어요\", \"최악\", \"후회\", \"별점\", \"만족\", \"불만\", \"감정\", \"긍정\", \"부정\", \"중립\"],\n",
    "        \"제형\": [\"제형\", \"찐득\", \"흡수\", \"쫀득\", \"미끌\", \"텍스처\", \"끈적\", \"마무리감\", \"마무리\", \"부드럽다\"],\n",
    "        \"자극도\": [\"순해요\", \"트러블\", \"자극\", \"뾰루지\", \"뒤집어짐\"]\n",
    "    }\n",
    "    result = []\n",
    "    for field, keywords in field_keywords.items():\n",
    "        if any(kw in question for kw in keywords):\n",
    "            result.append(field)\n",
    "    return result if result else [\"제품명\"]"
   ]
  },
  {
   "cell_type": "code",
   "execution_count": null,
   "id": "8aa6a9d2",
   "metadata": {},
   "outputs": [],
   "source": [
    "# from langchain.schema import Document\n",
    "# from langchain_huggingface import HuggingFaceEmbeddings\n",
    "# from langchain_chroma import Chroma\n",
    "# from langchain_openai import ChatOpenAI\n",
    "# from langchain.prompts import ChatPromptTemplate\n",
    "# from langchain.chains import RetrievalQA\n",
    "# from langchain_core.output_parsers import StrOutputParser\n",
    "# from langchain_core.runnables import RunnablePassthrough\n",
    "\n",
    "# # 메타데이터 (원하는 컬럼만 선택)\n",
    "# meta_columns = [\"제품명\", \"성분\", \"별점\", \"피부타입\", \"피부고민\", \"자극도\", \"리뷰_감성\"]\n",
    "\n",
    "# # Document 리스트 생성\n",
    "# documents = [\n",
    "#     Document(\n",
    "#         page_content=row[\"리뷰\"],  # 리뷰 본문을 page_content로\n",
    "#         metadata={col: row[col] for col in meta_columns}  # 필요한 메타데이터만\n",
    "#     )\n",
    "#     for _, row in df.iterrows()\n",
    "# ]\n",
    "\n",
    "# # LangChain HuggingFace 임베딩 객체 (다시 이걸로 임베딩)\n",
    "# embedding = HuggingFaceEmbeddings(model_name=\"jhgan/ko-sbert-nli\")\n",
    "\n",
    "# # Chroma DB 생성 및 저장\n",
    "# db = Chroma.from_documents(\n",
    "#     documents=documents,\n",
    "#     embedding=embedding,\n",
    "#     persist_directory=\"chroma_oliveyoung\"\n",
    "# )"
   ]
  },
  {
   "cell_type": "code",
   "execution_count": 18,
   "id": "3ce09f8f",
   "metadata": {},
   "outputs": [],
   "source": [
    "from langchain_openai import ChatOpenAI\n",
    "from langchain.prompts import ChatPromptTemplate\n",
    "from langchain.chains import RetrievalQA\n",
    "from langchain_core.output_parsers import StrOutputParser\n",
    "from langchain_core.runnables import RunnablePassthrough\n",
    "from langchain.schema import Document\n",
    "from langchain_huggingface import HuggingFaceEmbeddings\n",
    "from langchain_chroma import Chroma\n",
    "import uuid"
   ]
  },
  {
   "cell_type": "code",
   "execution_count": 21,
   "id": "16004f2d",
   "metadata": {},
   "outputs": [
    {
     "ename": "InternalError",
     "evalue": "ValueError: Batch size of 234981 is greater than max batch size of 5461",
     "output_type": "error",
     "traceback": [
      "\u001b[31m---------------------------------------------------------------------------\u001b[39m",
      "\u001b[31mInternalError\u001b[39m                             Traceback (most recent call last)",
      "\u001b[36mCell\u001b[39m\u001b[36m \u001b[39m\u001b[32mIn[21]\u001b[39m\u001b[32m, line 24\u001b[39m\n\u001b[32m     18\u001b[39m db = Chroma(\n\u001b[32m     19\u001b[39m     persist_directory=\u001b[33m\"\u001b[39m\u001b[33m./chroma_oliveyoung_reviews\u001b[39m\u001b[33m\"\u001b[39m,\n\u001b[32m     20\u001b[39m     embedding_function=embedding_model\n\u001b[32m     21\u001b[39m )\n\u001b[32m     23\u001b[39m \u001b[38;5;66;03m# 5. 벡터 DB에 추가\u001b[39;00m\n\u001b[32m---> \u001b[39m\u001b[32m24\u001b[39m \u001b[43mdb\u001b[49m\u001b[43m.\u001b[49m\u001b[43madd_documents\u001b[49m\u001b[43m(\u001b[49m\n\u001b[32m     25\u001b[39m \u001b[43m    \u001b[49m\u001b[43mdocuments\u001b[49m\u001b[43m=\u001b[49m\u001b[43mdocuments_new\u001b[49m\u001b[43m,\u001b[49m\n\u001b[32m     26\u001b[39m \u001b[43m    \u001b[49m\u001b[43mids\u001b[49m\u001b[43m=\u001b[49m\u001b[43m[\u001b[49m\u001b[38;5;28;43mstr\u001b[39;49m\u001b[43m(\u001b[49m\u001b[43muuid\u001b[49m\u001b[43m.\u001b[49m\u001b[43muuid4\u001b[49m\u001b[43m(\u001b[49m\u001b[43m)\u001b[49m\u001b[43m)\u001b[49m\u001b[43m \u001b[49m\u001b[38;5;28;43;01mfor\u001b[39;49;00m\u001b[43m \u001b[49m\u001b[43m_\u001b[49m\u001b[43m \u001b[49m\u001b[38;5;129;43;01min\u001b[39;49;00m\u001b[43m \u001b[49m\u001b[43mdocuments_new\u001b[49m\u001b[43m]\u001b[49m\n\u001b[32m     27\u001b[39m \u001b[43m)\u001b[49m\n",
      "\u001b[36mFile \u001b[39m\u001b[32mc:\\Users\\Playdata\\miniconda3\\envs\\my_env\\Lib\\site-packages\\langchain_core\\vectorstores\\base.py:288\u001b[39m, in \u001b[36mVectorStore.add_documents\u001b[39m\u001b[34m(self, documents, **kwargs)\u001b[39m\n\u001b[32m    286\u001b[39m     texts = [doc.page_content \u001b[38;5;28;01mfor\u001b[39;00m doc \u001b[38;5;129;01min\u001b[39;00m documents]\n\u001b[32m    287\u001b[39m     metadatas = [doc.metadata \u001b[38;5;28;01mfor\u001b[39;00m doc \u001b[38;5;129;01min\u001b[39;00m documents]\n\u001b[32m--> \u001b[39m\u001b[32m288\u001b[39m     \u001b[38;5;28;01mreturn\u001b[39;00m \u001b[38;5;28;43mself\u001b[39;49m\u001b[43m.\u001b[49m\u001b[43madd_texts\u001b[49m\u001b[43m(\u001b[49m\u001b[43mtexts\u001b[49m\u001b[43m,\u001b[49m\u001b[43m \u001b[49m\u001b[43mmetadatas\u001b[49m\u001b[43m,\u001b[49m\u001b[43m \u001b[49m\u001b[43m*\u001b[49m\u001b[43m*\u001b[49m\u001b[43mkwargs\u001b[49m\u001b[43m)\u001b[49m\n\u001b[32m    289\u001b[39m msg = (\n\u001b[32m    290\u001b[39m     \u001b[33mf\u001b[39m\u001b[33m\"\u001b[39m\u001b[33m`add_documents` and `add_texts` has not been implemented \u001b[39m\u001b[33m\"\u001b[39m\n\u001b[32m    291\u001b[39m     \u001b[33mf\u001b[39m\u001b[33m\"\u001b[39m\u001b[33mfor \u001b[39m\u001b[38;5;132;01m{\u001b[39;00m\u001b[38;5;28mself\u001b[39m.\u001b[34m__class__\u001b[39m.\u001b[34m__name__\u001b[39m\u001b[38;5;132;01m}\u001b[39;00m\u001b[33m \u001b[39m\u001b[33m\"\u001b[39m\n\u001b[32m    292\u001b[39m )\n\u001b[32m    293\u001b[39m \u001b[38;5;28;01mraise\u001b[39;00m \u001b[38;5;167;01mNotImplementedError\u001b[39;00m(msg)\n",
      "\u001b[36mFile \u001b[39m\u001b[32mc:\\Users\\Playdata\\miniconda3\\envs\\my_env\\Lib\\site-packages\\langchain_chroma\\vectorstores.py:551\u001b[39m, in \u001b[36mChroma.add_texts\u001b[39m\u001b[34m(self, texts, metadatas, ids, **kwargs)\u001b[39m\n\u001b[32m    549\u001b[39m ids_with_metadata = [ids[idx] \u001b[38;5;28;01mfor\u001b[39;00m idx \u001b[38;5;129;01min\u001b[39;00m non_empty_ids]\n\u001b[32m    550\u001b[39m \u001b[38;5;28;01mtry\u001b[39;00m:\n\u001b[32m--> \u001b[39m\u001b[32m551\u001b[39m     \u001b[38;5;28;43mself\u001b[39;49m\u001b[43m.\u001b[49m\u001b[43m_collection\u001b[49m\u001b[43m.\u001b[49m\u001b[43mupsert\u001b[49m\u001b[43m(\u001b[49m\n\u001b[32m    552\u001b[39m \u001b[43m        \u001b[49m\u001b[43mmetadatas\u001b[49m\u001b[43m=\u001b[49m\u001b[43mmetadatas\u001b[49m\u001b[43m,\u001b[49m\u001b[43m  \u001b[49m\u001b[38;5;66;43;03m# type: ignore\u001b[39;49;00m\n\u001b[32m    553\u001b[39m \u001b[43m        \u001b[49m\u001b[43membeddings\u001b[49m\u001b[43m=\u001b[49m\u001b[43membeddings_with_metadatas\u001b[49m\u001b[43m,\u001b[49m\u001b[43m  \u001b[49m\u001b[38;5;66;43;03m# type: ignore\u001b[39;49;00m\n\u001b[32m    554\u001b[39m \u001b[43m        \u001b[49m\u001b[43mdocuments\u001b[49m\u001b[43m=\u001b[49m\u001b[43mtexts_with_metadatas\u001b[49m\u001b[43m,\u001b[49m\n\u001b[32m    555\u001b[39m \u001b[43m        \u001b[49m\u001b[43mids\u001b[49m\u001b[43m=\u001b[49m\u001b[43mids_with_metadata\u001b[49m\u001b[43m,\u001b[49m\n\u001b[32m    556\u001b[39m \u001b[43m    \u001b[49m\u001b[43m)\u001b[49m\n\u001b[32m    557\u001b[39m \u001b[38;5;28;01mexcept\u001b[39;00m \u001b[38;5;167;01mValueError\u001b[39;00m \u001b[38;5;28;01mas\u001b[39;00m e:\n\u001b[32m    558\u001b[39m     \u001b[38;5;28;01mif\u001b[39;00m \u001b[33m\"\u001b[39m\u001b[33mExpected metadata value to be\u001b[39m\u001b[33m\"\u001b[39m \u001b[38;5;129;01min\u001b[39;00m \u001b[38;5;28mstr\u001b[39m(e):\n",
      "\u001b[36mFile \u001b[39m\u001b[32mc:\\Users\\Playdata\\miniconda3\\envs\\my_env\\Lib\\site-packages\\chromadb\\api\\models\\Collection.py:374\u001b[39m, in \u001b[36mCollection.upsert\u001b[39m\u001b[34m(self, ids, embeddings, metadatas, documents, images, uris)\u001b[39m\n\u001b[32m    354\u001b[39m \u001b[38;5;250m\u001b[39m\u001b[33;03m\"\"\"Update the embeddings, metadatas or documents for provided ids, or create them if they don't exist.\u001b[39;00m\n\u001b[32m    355\u001b[39m \n\u001b[32m    356\u001b[39m \u001b[33;03mArgs:\u001b[39;00m\n\u001b[32m   (...)\u001b[39m\u001b[32m    363\u001b[39m \u001b[33;03m    None\u001b[39;00m\n\u001b[32m    364\u001b[39m \u001b[33;03m\"\"\"\u001b[39;00m\n\u001b[32m    365\u001b[39m upsert_request = \u001b[38;5;28mself\u001b[39m._validate_and_prepare_upsert_request(\n\u001b[32m    366\u001b[39m     ids=ids,\n\u001b[32m    367\u001b[39m     embeddings=embeddings,\n\u001b[32m   (...)\u001b[39m\u001b[32m    371\u001b[39m     uris=uris,\n\u001b[32m    372\u001b[39m )\n\u001b[32m--> \u001b[39m\u001b[32m374\u001b[39m \u001b[38;5;28;43mself\u001b[39;49m\u001b[43m.\u001b[49m\u001b[43m_client\u001b[49m\u001b[43m.\u001b[49m\u001b[43m_upsert\u001b[49m\u001b[43m(\u001b[49m\n\u001b[32m    375\u001b[39m \u001b[43m    \u001b[49m\u001b[43mcollection_id\u001b[49m\u001b[43m=\u001b[49m\u001b[38;5;28;43mself\u001b[39;49m\u001b[43m.\u001b[49m\u001b[43mid\u001b[49m\u001b[43m,\u001b[49m\n\u001b[32m    376\u001b[39m \u001b[43m    \u001b[49m\u001b[43mids\u001b[49m\u001b[43m=\u001b[49m\u001b[43mupsert_request\u001b[49m\u001b[43m[\u001b[49m\u001b[33;43m\"\u001b[39;49m\u001b[33;43mids\u001b[39;49m\u001b[33;43m\"\u001b[39;49m\u001b[43m]\u001b[49m\u001b[43m,\u001b[49m\n\u001b[32m    377\u001b[39m \u001b[43m    \u001b[49m\u001b[43membeddings\u001b[49m\u001b[43m=\u001b[49m\u001b[43mupsert_request\u001b[49m\u001b[43m[\u001b[49m\u001b[33;43m\"\u001b[39;49m\u001b[33;43membeddings\u001b[39;49m\u001b[33;43m\"\u001b[39;49m\u001b[43m]\u001b[49m\u001b[43m,\u001b[49m\n\u001b[32m    378\u001b[39m \u001b[43m    \u001b[49m\u001b[43mmetadatas\u001b[49m\u001b[43m=\u001b[49m\u001b[43mupsert_request\u001b[49m\u001b[43m[\u001b[49m\u001b[33;43m\"\u001b[39;49m\u001b[33;43mmetadatas\u001b[39;49m\u001b[33;43m\"\u001b[39;49m\u001b[43m]\u001b[49m\u001b[43m,\u001b[49m\n\u001b[32m    379\u001b[39m \u001b[43m    \u001b[49m\u001b[43mdocuments\u001b[49m\u001b[43m=\u001b[49m\u001b[43mupsert_request\u001b[49m\u001b[43m[\u001b[49m\u001b[33;43m\"\u001b[39;49m\u001b[33;43mdocuments\u001b[39;49m\u001b[33;43m\"\u001b[39;49m\u001b[43m]\u001b[49m\u001b[43m,\u001b[49m\n\u001b[32m    380\u001b[39m \u001b[43m    \u001b[49m\u001b[43muris\u001b[49m\u001b[43m=\u001b[49m\u001b[43mupsert_request\u001b[49m\u001b[43m[\u001b[49m\u001b[33;43m\"\u001b[39;49m\u001b[33;43muris\u001b[39;49m\u001b[33;43m\"\u001b[39;49m\u001b[43m]\u001b[49m\u001b[43m,\u001b[49m\n\u001b[32m    381\u001b[39m \u001b[43m    \u001b[49m\u001b[43mtenant\u001b[49m\u001b[43m=\u001b[49m\u001b[38;5;28;43mself\u001b[39;49m\u001b[43m.\u001b[49m\u001b[43mtenant\u001b[49m\u001b[43m,\u001b[49m\n\u001b[32m    382\u001b[39m \u001b[43m    \u001b[49m\u001b[43mdatabase\u001b[49m\u001b[43m=\u001b[49m\u001b[38;5;28;43mself\u001b[39;49m\u001b[43m.\u001b[49m\u001b[43mdatabase\u001b[49m\u001b[43m,\u001b[49m\n\u001b[32m    383\u001b[39m \u001b[43m\u001b[49m\u001b[43m)\u001b[49m\n",
      "\u001b[36mFile \u001b[39m\u001b[32mc:\\Users\\Playdata\\miniconda3\\envs\\my_env\\Lib\\site-packages\\chromadb\\api\\rust.py:464\u001b[39m, in \u001b[36mRustBindingsAPI._upsert\u001b[39m\u001b[34m(self, collection_id, ids, embeddings, metadatas, documents, uris, tenant, database)\u001b[39m\n\u001b[32m    452\u001b[39m \u001b[38;5;129m@override\u001b[39m\n\u001b[32m    453\u001b[39m \u001b[38;5;28;01mdef\u001b[39;00m\u001b[38;5;250m \u001b[39m\u001b[34m_upsert\u001b[39m(\n\u001b[32m    454\u001b[39m     \u001b[38;5;28mself\u001b[39m,\n\u001b[32m   (...)\u001b[39m\u001b[32m    462\u001b[39m     database: \u001b[38;5;28mstr\u001b[39m = DEFAULT_DATABASE,\n\u001b[32m    463\u001b[39m ) -> \u001b[38;5;28mbool\u001b[39m:\n\u001b[32m--> \u001b[39m\u001b[32m464\u001b[39m     \u001b[38;5;28;01mreturn\u001b[39;00m \u001b[38;5;28;43mself\u001b[39;49m\u001b[43m.\u001b[49m\u001b[43mbindings\u001b[49m\u001b[43m.\u001b[49m\u001b[43mupsert\u001b[49m\u001b[43m(\u001b[49m\n\u001b[32m    465\u001b[39m \u001b[43m        \u001b[49m\u001b[38;5;28;43mstr\u001b[39;49m\u001b[43m(\u001b[49m\u001b[43mcollection_id\u001b[49m\u001b[43m)\u001b[49m\u001b[43m,\u001b[49m\n\u001b[32m    466\u001b[39m \u001b[43m        \u001b[49m\u001b[43mids\u001b[49m\u001b[43m,\u001b[49m\n\u001b[32m    467\u001b[39m \u001b[43m        \u001b[49m\u001b[43membeddings\u001b[49m\u001b[43m,\u001b[49m\n\u001b[32m    468\u001b[39m \u001b[43m        \u001b[49m\u001b[43mmetadatas\u001b[49m\u001b[43m,\u001b[49m\n\u001b[32m    469\u001b[39m \u001b[43m        \u001b[49m\u001b[43mdocuments\u001b[49m\u001b[43m,\u001b[49m\n\u001b[32m    470\u001b[39m \u001b[43m        \u001b[49m\u001b[43muris\u001b[49m\u001b[43m,\u001b[49m\n\u001b[32m    471\u001b[39m \u001b[43m        \u001b[49m\u001b[43mtenant\u001b[49m\u001b[43m,\u001b[49m\n\u001b[32m    472\u001b[39m \u001b[43m        \u001b[49m\u001b[43mdatabase\u001b[49m\u001b[43m,\u001b[49m\n\u001b[32m    473\u001b[39m \u001b[43m    \u001b[49m\u001b[43m)\u001b[49m\n",
      "\u001b[31mInternalError\u001b[39m: ValueError: Batch size of 234981 is greater than max batch size of 5461"
     ]
    }
   ],
   "source": [
    "# 1. 새 파일 불러오기\n",
    "new_df = pd.read_csv(\"labeled/oliveyoung_lotion_labels.csv\")  # ← 여기서 새 파일 불러오기\n",
    "\n",
    "# 2. 필요한 컬럼만 추출\n",
    "meta_columns = [\"제품명\", \"성분\", \"별점\", \"피부타입\", \"피부고민\", \"자극도\", \"리뷰_감성\"]\n",
    "\n",
    "# 3. Document 리스트 생성\n",
    "documents_new = [\n",
    "    Document(\n",
    "        page_content=row[\"리뷰\"],  # 본문 텍스트\n",
    "        metadata={col: row[col] for col in meta_columns}\n",
    "    )\n",
    "    for _, row in new_df.iterrows()\n",
    "]\n",
    "\n",
    "# 4. 기존 Chroma DB 불러오기\n",
    "embedding_model = HuggingFaceEmbeddings(model_name=\"jhgan/ko-sbert-nli\")\n",
    "db = Chroma(\n",
    "    persist_directory=\"./chroma_oliveyoung_reviews\",\n",
    "    embedding_function=embedding_model\n",
    ")\n",
    "\n",
    "# 5. 벡터 DB에 추가\n",
    "db.add_documents(\n",
    "    documents=documents_new,\n",
    "    ids=[str(uuid.uuid4()) for _ in documents_new]\n",
    ")"
   ]
  },
  {
   "cell_type": "code",
   "execution_count": 5,
   "id": "c586d6f3",
   "metadata": {},
   "outputs": [
    {
     "name": "stdout",
     "output_type": "stream",
     "text": [
      "저장된 문서 개수: 119556\n"
     ]
    }
   ],
   "source": [
    "print(f\"저장된 문서 개수: {db._collection.count()}\")"
   ]
  },
  {
   "cell_type": "code",
   "execution_count": 8,
   "id": "0f33b6c6",
   "metadata": {},
   "outputs": [
    {
     "name": "stdout",
     "output_type": "stream",
     "text": [
      "--- Result 1 ---\n",
      "내용: 요즘 피부가 너무 건조해서 미스트 구매했아요\n",
      "메타데이터: {'리뷰_감성': '중립', '성분': '버지니아풍년화추출물,부틸렌글라이콜,다이프로필렌글라이콜,글리세린,폴리글리세릴-10라우레이트, 폴리글리세릴-10미리스테이트,카프릴릴글라이콜,1,2-헥산다이올,스타아니스추출물,라벤더오일,다이 소듐이디티에이,다이포타슘글리시리제이트,알란토인,자일리톨,베타인,병풀추출물,쇠비름추출물,뽕 나무껍질추출물,시트릭애씨드,리날룰', '자극도': '보통이에요', '피부고민': '보습에 좋아요', '피부타입': '복합성에 좋아요', '제품명': '그라운드플랜 미스트', '별점': 5}\n",
      "--- Result 2 ---\n",
      "내용: 요즘같이 피부가 너무 건조할때 뿌리기 좋은 미스트에요\n",
      "메타데이터: {'별점': 5, '제품명': '그라운드플랜 미스트', '성분': '버지니아풍년화추출물,부틸렌글라이콜,다이프로필렌글라이콜,글리세린,폴리글리세릴-10라우레이트, 폴리글리세릴-10미리스테이트,카프릴릴글라이콜,1,2-헥산다이올,스타아니스추출물,라벤더오일,다이 소듐이디티에이,다이포타슘글리시리제이트,알란토인,자일리톨,베타인,병풀추출물,쇠비름추출물,뽕 나무껍질추출물,시트릭애씨드,리날룰', '피부고민': '보습에 좋아요', '리뷰_감성': '긍정', '피부타입': '건성에 좋아요', '자극도': '자극없이 순해요'}\n",
      "--- Result 3 ---\n",
      "내용: 피부가 너무 건조해서 미스트를 하나 구매했어요.\n",
      "메타데이터: {'제품명': '메디톡스 뉴라덤 카밍 오로라 미스트', '별점': 5, '자극도': '자극없이 순해요', '성분': '정제수, 다이프로필렌글라이콜, 글리세린, 1,2-헥산다이올, 부틸렌글라이콜, 판테놀, 하이드로제네이티드레시틴, 세테아릴알코올, 솔비탄스테아레이트, 글리세릴스테아레이트, 자일리톨, 세라마이드엔피, 쇠비름추출물, 아데노신, 향료, 포스페이트버퍼드셀라인, 자일리틸글루코사이드, 안하이드로자일리톨, 인카르나타시계꽃전초추출물, 아르니카 몬타나꽃추출물, 참당귀뿌리추출물, 알파-글루칸올리고사카라이드, 에델바이스캘러스배양추출물, 겔리듐 카르틸라기네움추출물, 아세틸올리고펩타이드-99아마이드, 두충나무껍질추출물, 스테아릭애씨드, 당호박씨추출물, 당호박추출물, 세라마이드엔에스, 피토스핑고신, 카퍼트라이펩타이드-1, 콜레스테롤, 세라마이드에이에스, 세라마이드에이피, 트라이펩타이드-1, 팔미토일펜타펩타이드-4, 올리고펩타이드-1, 다이펩타이드-2, 세라마이드이오피', '리뷰_감성': '중립', '피부고민': '보습에 좋아요', '피부타입': '복합성에 좋아요'}\n"
     ]
    }
   ],
   "source": [
    "# test\n",
    "results = db.similarity_search(\"피부가 너무 건조한데, 미스트 제품 추천해줘\", k=3)\n",
    "\n",
    "for i, doc in enumerate(results, 1):\n",
    "    print(f\"--- Result {i} ---\")\n",
    "    print(\"내용:\", doc.page_content)\n",
    "    print(\"메타데이터:\", doc.metadata)"
   ]
  },
  {
   "cell_type": "code",
   "execution_count": null,
   "id": "fbbaf528",
   "metadata": {},
   "outputs": [],
   "source": [
    "# LLM 설정\n",
    "llm = ChatOpenAI(temperature=0.7, model=\"gpt-4\")\n",
    "\n",
    "# 프롬프트 템플릿\n",
    "prompt_template = ChatPromptTemplate.from_template(\"\"\"\n",
    "      당신은 올리브영 스킨케어 화장품 정보를 전문적으로 안내하는 AI 어시스턴트입니다.\n",
    "      사용자 질문에 따라 카테고리, 성분, 피부타입, 제형, 자극도, 감정 정보 등을 바탕으로 정확한 화장품 정보를 제공합니다.\n",
    "      사용자의 피부 고민과 선호에 맞춰 카테고리에 맞는 화장품을 2~3 가지 추천하고, 관련 리뷰 정보를 요약해주는 것이 주요 역할입니다.\n",
    "\n",
    "      # Instruction(지켜야 할 규칙):\n",
    "      1. 반드시 제공된 문서(context)의 정보만을 기반으로 답변하세요. \n",
    "         문서에 없는 사실을 추측하거나 임의로 생성하지 마세요.\n",
    "      2. 화장품의 이름과 카테고리는 반드시 '카테고리'와 '제품명' 필드를 참고하여 확인하세요. \n",
    "         카테고리는 스킨/토너, 에센스/세럼/앰플, 크림, 로션, 미스트/오일로 구성되어 있습니다.\n",
    "      3. 가능한 한 명확하고 간결하게 답변하세요.\n",
    "      4. 화장품 정보를 안내할 때는 다음 순서를 지키세요: \n",
    "         - 제품명\n",
    "         - 주요 성분 (가능한 경우)\n",
    "         - 평점 또는 긍정 리뷰 요약\n",
    "      5. 문장 스타일은 전문성과 친근함을 겸비한 대화체로 작성하세요. \n",
    "         예: “이 제품은 복합성 피부에 정말 잘 맞는다고 해요!”\n",
    "      6. “문서에 따르면”, “문맥에서 보면”과 같은 표현은 사용하지 마세요. 자연스럽게 설명만 하세요.\n",
    "      7. 질문이 모호하거나 정보가 부족할 경우, 필요한 정보를 정중하게 요청하세요.\n",
    "      8. 출력은 보기 쉽게 줄바꿈을 해서 전달해주세요.\n",
    "      9. 제품 추천 및 설명 마지막에 특징을 잘 나타내는 문서(별점은 제외)들을 세 개 정도 출력해주세요.\n",
    "                                                   \n",
    "      # Context(문서 요약 정보):\n",
    "      {context}\n",
    "\n",
    "      # 질문:\n",
    "      {question}\n",
    "      \"\"\")\n",
    "\n",
    "def format_docs(docs):\n",
    "    return \"\\n\\n\".join(doc.page_content for doc in docs)\n",
    "\n",
    "retriever = db.as_retriever()\n",
    "# RAG 체인 구성\n",
    "rag_chain = (\n",
    "    {\"context\": retriever, \"question\": RunnablePassthrough()}\n",
    "    | prompt_template\n",
    "    | llm\n",
    "    | StrOutputParser()\n",
    ")"
   ]
  },
  {
   "cell_type": "code",
   "execution_count": null,
   "id": "9a116e7b",
   "metadata": {},
   "outputs": [
    {
     "name": "stdout",
     "output_type": "stream",
     "text": [
      "🧠 응답:\n",
      "차앤박(CNP) 프로폴리스 에너지 앰플 미스트는 건성 피부에게 꽤 좋은 평가를 받았습니다. \n",
      "\n",
      "주요 성분으로는 프로폴리스 추출물과 하이알루로닉애씨드가 들어있는데, 이런 성분들은 피부에 충분한 보습을 제공하며, 피부를 유연하게 유지하는데 도움을 줍니다. \n",
      "\n",
      "이 제품에 대한 사용 후기는 '자극 없이 순하다'며 피부에 부드럽게 적용되고 보습에 효과적이라는 평가를 받았습니다. 별점은 5점 만점에 5점을 받았습니다. \n",
      "\n",
      "이 제품에 대한 다른 사용 후기를 확인하시려면 아래의 문서를 참고하세요: \n",
      "- Document ID: '0d5e895b-72b0-46eb-8b05-3541b04707e8' \n",
      "- Document ID: '018a13d4-0f21-45dc-bd4c-5fc2009e5a29' \n",
      "- Document ID: '7b55fc4b-512b-4d9f-93b1-e687831a3094' \n",
      "- Document ID: '49db2645-2b14-4ea8-8e99-1c17bf794143'\n"
     ]
    }
   ],
   "source": [
    "# 예시 질문\n",
    "question = \"속건조에 좋은 미스트 3개만 알려주세요.\"\n",
    "response = rag_chain.invoke(question)\n",
    "\n",
    "print(\"🧠 응답:\")\n",
    "print(response)"
   ]
  },
  {
   "cell_type": "code",
   "execution_count": null,
   "id": "95ad29db",
   "metadata": {},
   "outputs": [],
   "source": []
  }
 ],
 "metadata": {
  "kernelspec": {
   "display_name": "my_env",
   "language": "python",
   "name": "python3"
  },
  "language_info": {
   "codemirror_mode": {
    "name": "ipython",
    "version": 3
   },
   "file_extension": ".py",
   "mimetype": "text/x-python",
   "name": "python",
   "nbconvert_exporter": "python",
   "pygments_lexer": "ipython3",
   "version": "3.11.11"
  }
 },
 "nbformat": 4,
 "nbformat_minor": 5
}
