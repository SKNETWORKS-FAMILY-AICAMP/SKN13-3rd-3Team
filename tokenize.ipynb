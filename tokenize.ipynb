{
 "cells": [
  {
   "cell_type": "markdown",
   "id": "e4b38846",
   "metadata": {},
   "source": [
    "# SKN13-3rd-3Team: Data Preprocessing\n",
    "\n",
    "1. Preprocessing\n",
    "\n",
    "2. ~~Sentiment Analysis for metadata~~"
   ]
  },
  {
   "cell_type": "code",
   "execution_count": 2,
   "id": "e0dfd1ab",
   "metadata": {},
   "outputs": [
    {
     "name": "stdout",
     "output_type": "stream",
     "text": [
      "<class 'pandas.core.frame.DataFrame'>\n",
      "RangeIndex: 75085 entries, 0 to 75084\n",
      "Data columns (total 8 columns):\n",
      " #   Column  Non-Null Count  Dtype \n",
      "---  ------  --------------  ----- \n",
      " 0   제품명     75085 non-null  object\n",
      " 1   성분      75085 non-null  object\n",
      " 2   별점      75085 non-null  int64 \n",
      " 3   피부타입    75085 non-null  object\n",
      " 4   피부고민    75085 non-null  object\n",
      " 5   자극도     75085 non-null  object\n",
      " 6   리뷰      75085 non-null  object\n",
      " 7   카테고리    75085 non-null  object\n",
      "dtypes: int64(1), object(7)\n",
      "memory usage: 4.6+ MB\n"
     ]
    }
   ],
   "source": [
    "import pandas as pd\n",
    "\n",
    "# 각자 파일 경로에 맞게 적용해주세요 :)\n",
    "df = pd.read_csv('oliveyoung_lotion_prep.csv')\n",
    "df.head()\n",
    "df.info()"
   ]
  },
  {
   "cell_type": "markdown",
   "id": "301c23a3",
   "metadata": {},
   "source": [
    "## Preprocessing: cleansing, outliers, and missing values\n",
    "\n",
    "- 결측치를 제거합니다.\n",
    "- 제품명에 들어간 불필요한 요소를 전처리합니다.\n",
    "    - ‘리필’ 또는 ‘기획’이 들어간 경우 데이터 포인트 자체를 제거합니다.\n",
    "    - 괄호(`[]`, `()` 등)와 괄호 안의 문자열을 제거합니다.\n",
    "    - 제품명에 증정품 관련 문자열이 있는 경우 제거합니다.\n",
    "        > e.g.\n",
    "        >    \n",
    "        >    ‘A사 a 로션 + 토너 50ml’의 경우 ‘ + 토너 50ml’를 제품명에서 제거합니다.\n",
    "            \n",
    "- 리뷰가 100개 미만인 제품은 이상치로 간주하여 제거합니다.\n",
    "- 불필요한 열을 제거합니다. **이 부분은 같이 얘기해봐요**\n",
    "- 리뷰를 문장 단위로 split합니다.\n",
    "    - `kss.split_sentences`\n",
    "    - 분리된 문장만큼 행을 확장합니다\n",
    "        > e.g.\n",
    "        >\n",
    "        > A 제품의 리뷰들 중 k번째 리뷰는 4개의 문장으로 구성되어 있습니다.\n",
    "        >\n",
    "        > 이 리뷰가 차지하는 행은 1개였지만, split이 완료되면 4개가 됩니다."
   ]
  },
  {
   "cell_type": "code",
   "execution_count": 3,
   "id": "978b7ee0",
   "metadata": {},
   "outputs": [
    {
     "data": {
      "text/plain": [
       "제품명     0\n",
       "성분      0\n",
       "별점      0\n",
       "피부타입    0\n",
       "피부고민    0\n",
       "자극도     0\n",
       "리뷰      0\n",
       "카테고리    0\n",
       "dtype: int64"
      ]
     },
     "execution_count": 3,
     "metadata": {},
     "output_type": "execute_result"
    }
   ],
   "source": [
    "# 일부 csv 파일들은 결측치가 남아있습니다.\n",
    "df.isna().sum()"
   ]
  },
  {
   "cell_type": "code",
   "execution_count": 4,
   "id": "0e17717e",
   "metadata": {},
   "outputs": [],
   "source": [
    "# 결측치 대체 후 잘 대체됐는지 확인하기 위해 인덱스를 저장해둡니다.\n",
    "na_index = df[df['성분'].isna()].index"
   ]
  },
  {
   "cell_type": "code",
   "execution_count": 5,
   "id": "77bf9df0",
   "metadata": {},
   "outputs": [
    {
     "data": {
      "text/html": [
       "<div>\n",
       "<style scoped>\n",
       "    .dataframe tbody tr th:only-of-type {\n",
       "        vertical-align: middle;\n",
       "    }\n",
       "\n",
       "    .dataframe tbody tr th {\n",
       "        vertical-align: top;\n",
       "    }\n",
       "\n",
       "    .dataframe thead th {\n",
       "        text-align: right;\n",
       "    }\n",
       "</style>\n",
       "<table border=\"1\" class=\"dataframe\">\n",
       "  <thead>\n",
       "    <tr style=\"text-align: right;\">\n",
       "      <th></th>\n",
       "      <th>제품명</th>\n",
       "      <th>성분</th>\n",
       "      <th>별점</th>\n",
       "      <th>피부타입</th>\n",
       "      <th>피부고민</th>\n",
       "      <th>자극도</th>\n",
       "      <th>리뷰</th>\n",
       "      <th>카테고리</th>\n",
       "    </tr>\n",
       "  </thead>\n",
       "  <tbody>\n",
       "  </tbody>\n",
       "</table>\n",
       "</div>"
      ],
      "text/plain": [
       "Empty DataFrame\n",
       "Columns: [제품명, 성분, 별점, 피부타입, 피부고민, 자극도, 리뷰, 카테고리]\n",
       "Index: []"
      ]
     },
     "execution_count": 5,
     "metadata": {},
     "output_type": "execute_result"
    }
   ],
   "source": [
    "df = df.fillna('정보없음')\n",
    "\n",
    "# 저장해둔 인덱스로 조회해서 확인합니다.\n",
    "df.iloc[na_index,:]"
   ]
  },
  {
   "cell_type": "code",
   "execution_count": 8,
   "id": "023965a2",
   "metadata": {},
   "outputs": [
    {
     "name": "stdout",
     "output_type": "stream",
     "text": [
      "<class 'pandas.core.frame.DataFrame'>\n",
      "Index: 74988 entries, 0 to 75084\n",
      "Data columns (total 8 columns):\n",
      " #   Column  Non-Null Count  Dtype \n",
      "---  ------  --------------  ----- \n",
      " 0   제품명     74988 non-null  object\n",
      " 1   성분      74988 non-null  object\n",
      " 2   별점      74988 non-null  int64 \n",
      " 3   피부타입    74988 non-null  object\n",
      " 4   피부고민    74988 non-null  object\n",
      " 5   자극도     74988 non-null  object\n",
      " 6   리뷰      74988 non-null  object\n",
      " 7   카테고리    74988 non-null  object\n",
      "dtypes: int64(1), object(7)\n",
      "memory usage: 5.1+ MB\n"
     ]
    }
   ],
   "source": [
    "df.info()"
   ]
  },
  {
   "cell_type": "code",
   "execution_count": 6,
   "id": "74e8e3ec",
   "metadata": {},
   "outputs": [
    {
     "name": "stdout",
     "output_type": "stream",
     "text": [
      "<class 'pandas.core.frame.DataFrame'>\n",
      "Index: 74988 entries, 0 to 75084\n",
      "Data columns (total 8 columns):\n",
      " #   Column  Non-Null Count  Dtype \n",
      "---  ------  --------------  ----- \n",
      " 0   제품명     74988 non-null  object\n",
      " 1   성분      74988 non-null  object\n",
      " 2   별점      74988 non-null  int64 \n",
      " 3   피부타입    74988 non-null  object\n",
      " 4   피부고민    74988 non-null  object\n",
      " 5   자극도     74988 non-null  object\n",
      " 6   리뷰      74988 non-null  object\n",
      " 7   카테고리    74988 non-null  object\n",
      "dtypes: int64(1), object(7)\n",
      "memory usage: 5.1+ MB\n"
     ]
    }
   ],
   "source": [
    "# 일부 csv 파일에 리뷰가 100개 미만인 제품이 남아있어 해당 제품을 이상치로 간주하고 제거합니다.\n",
    "counts = df['제품명'].value_counts()\n",
    "over100 = counts[counts >= 100].index.tolist()\n",
    "df = df[df['제품명'].isin(over100)]\n",
    "df.info()"
   ]
  },
  {
   "cell_type": "code",
   "execution_count": 7,
   "id": "5a8a0fc3",
   "metadata": {},
   "outputs": [
    {
     "data": {
      "text/plain": [
       "count     115.000000\n",
       "mean      652.069565\n",
       "std       517.067859\n",
       "min       104.000000\n",
       "25%       240.000000\n",
       "50%       510.000000\n",
       "75%       981.000000\n",
       "max      3274.000000\n",
       "Name: count, dtype: float64"
      ]
     },
     "execution_count": 7,
     "metadata": {},
     "output_type": "execute_result"
    }
   ],
   "source": [
    "df['제품명'].value_counts().describe()"
   ]
  },
  {
   "cell_type": "code",
   "execution_count": 9,
   "id": "58c4ee4c",
   "metadata": {},
   "outputs": [
    {
     "data": {
      "application/vnd.jupyter.widget-view+json": {
       "model_id": "24b53b98073d48afa9cb38e094d5c0a6",
       "version_major": 2,
       "version_minor": 0
      },
      "text/plain": [
       "Tokenizing...:   0%|          | 0/74988 [00:00<?, ?it/s]"
      ]
     },
     "metadata": {},
     "output_type": "display_data"
    },
    {
     "name": "stderr",
     "output_type": "stream",
     "text": [
      "[Kss]: Oh! You have mecab in your environment. Kss will take this as a backend! :D\n",
      "\n"
     ]
    },
    {
     "data": {
      "text/html": [
       "<div>\n",
       "<style scoped>\n",
       "    .dataframe tbody tr th:only-of-type {\n",
       "        vertical-align: middle;\n",
       "    }\n",
       "\n",
       "    .dataframe tbody tr th {\n",
       "        vertical-align: top;\n",
       "    }\n",
       "\n",
       "    .dataframe thead th {\n",
       "        text-align: right;\n",
       "    }\n",
       "</style>\n",
       "<table border=\"1\" class=\"dataframe\">\n",
       "  <thead>\n",
       "    <tr style=\"text-align: right;\">\n",
       "      <th></th>\n",
       "      <th>제품명</th>\n",
       "      <th>성분</th>\n",
       "      <th>별점</th>\n",
       "      <th>피부타입</th>\n",
       "      <th>피부고민</th>\n",
       "      <th>자극도</th>\n",
       "      <th>카테고리</th>\n",
       "      <th>리뷰</th>\n",
       "    </tr>\n",
       "  </thead>\n",
       "  <tbody>\n",
       "    <tr>\n",
       "      <th>0</th>\n",
       "      <td>아이디얼포맨 퍼펙트 올인원</td>\n",
       "      <td>[퍼펙트올인원]\\n정제수,글리세린,에틸헥실스테아레이트,1,2-헥산다이올,메틸프로판다...</td>\n",
       "      <td>5</td>\n",
       "      <td>복합성에 좋아요</td>\n",
       "      <td>보습에 좋아요</td>\n",
       "      <td>자극없이 순해요</td>\n",
       "      <td>로션</td>\n",
       "      <td>제품 구성이 괜찮아서 지인 선물용으로 재구매했어요.</td>\n",
       "    </tr>\n",
       "    <tr>\n",
       "      <th>1</th>\n",
       "      <td>아이디얼포맨 퍼펙트 올인원</td>\n",
       "      <td>[퍼펙트올인원]\\n정제수,글리세린,에틸헥실스테아레이트,1,2-헥산다이올,메틸프로판다...</td>\n",
       "      <td>5</td>\n",
       "      <td>복합성에 좋아요</td>\n",
       "      <td>보습에 좋아요</td>\n",
       "      <td>자극없이 순해요</td>\n",
       "      <td>로션</td>\n",
       "      <td>클렌징품이 선크림까지 지워지는 제품이라서 좋아요.</td>\n",
       "    </tr>\n",
       "    <tr>\n",
       "      <th>2</th>\n",
       "      <td>아이디얼포맨 퍼펙트 올인원</td>\n",
       "      <td>[퍼펙트올인원]\\n정제수,글리세린,에틸헥실스테아레이트,1,2-헥산다이올,메틸프로판다...</td>\n",
       "      <td>5</td>\n",
       "      <td>복합성에 좋아요</td>\n",
       "      <td>보습에 좋아요</td>\n",
       "      <td>자극없이 순해요</td>\n",
       "      <td>로션</td>\n",
       "      <td>피부 보습이나 전체적인 사용감이 괜찮아서 지인 선물용으로 종종 구매해요.</td>\n",
       "    </tr>\n",
       "  </tbody>\n",
       "</table>\n",
       "</div>"
      ],
      "text/plain": [
       "              제품명                                                 성분  별점  \\\n",
       "0  아이디얼포맨 퍼펙트 올인원  [퍼펙트올인원]\\n정제수,글리세린,에틸헥실스테아레이트,1,2-헥산다이올,메틸프로판다...   5   \n",
       "1  아이디얼포맨 퍼펙트 올인원  [퍼펙트올인원]\\n정제수,글리세린,에틸헥실스테아레이트,1,2-헥산다이올,메틸프로판다...   5   \n",
       "2  아이디얼포맨 퍼펙트 올인원  [퍼펙트올인원]\\n정제수,글리세린,에틸헥실스테아레이트,1,2-헥산다이올,메틸프로판다...   5   \n",
       "\n",
       "       피부타입     피부고민       자극도 카테고리                                        리뷰  \n",
       "0  복합성에 좋아요  보습에 좋아요  자극없이 순해요   로션              제품 구성이 괜찮아서 지인 선물용으로 재구매했어요.  \n",
       "1  복합성에 좋아요  보습에 좋아요  자극없이 순해요   로션               클렌징품이 선크림까지 지워지는 제품이라서 좋아요.  \n",
       "2  복합성에 좋아요  보습에 좋아요  자극없이 순해요   로션  피부 보습이나 전체적인 사용감이 괜찮아서 지인 선물용으로 종종 구매해요.  "
      ]
     },
     "execution_count": 9,
     "metadata": {},
     "output_type": "execute_result"
    }
   ],
   "source": [
    "import kss\n",
    "from tqdm.auto import tqdm\n",
    "\n",
    "# 문장단위로 \n",
    "tqdm.pandas(desc='Tokenizing...')\n",
    "df['문장리스트'] = df['리뷰'].progress_apply(kss.split_sentences)\n",
    "df = df.explode('문장리스트', ignore_index=True)\n",
    "df = df.drop(columns=['리뷰'])\n",
    "df = df.rename(columns={'문장리스트':'리뷰'})\n",
    "df.head(3)"
   ]
  },
  {
   "cell_type": "code",
   "execution_count": 10,
   "id": "3f446857",
   "metadata": {},
   "outputs": [
    {
     "name": "stdout",
     "output_type": "stream",
     "text": [
      "(234981, 8)\n"
     ]
    },
    {
     "data": {
      "text/plain": [
       "0                제품 구성이 괜찮아서 지인 선물용으로 재구매했어요.\n",
       "1                 클렌징품이 선크림까지 지워지는 제품이라서 좋아요.\n",
       "2    피부 보습이나 전체적인 사용감이 괜찮아서 지인 선물용으로 종종 구매해요.\n",
       "3                     올인원이라 사용 간편하고 괜찮은것 같아요!\n",
       "4                          가볍게 쓰기 좋은 남자화장품이에요\n",
       "5             남성분들이 쓰기에 무난한 제품이라 재재재구매한 제품입니다\n",
       "6           할아버지 사드렸는데 무난하게 잘 사용하고 계신 것 같아요 !\n",
       "7                    연령대 상관없이 잘 쓸 수 있는 것 같습니당\n",
       "8                              촉촉하이 깔끔하고 좋네예~\n",
       "9                          근데 면도한데 바른게 따끔거리예~\n",
       "Name: 리뷰, dtype: object"
      ]
     },
     "execution_count": 10,
     "metadata": {},
     "output_type": "execute_result"
    }
   ],
   "source": [
    "# 확인용\n",
    "print(df.shape)\n",
    "df['리뷰'][:10]"
   ]
  },
  {
   "cell_type": "markdown",
   "id": "47a59bb4",
   "metadata": {},
   "source": [
    "### 문장 단위로 split된 DataFrame을 'oliveyoung_카테고리명_chunked.csv'로 저장해주세요. 고맙습니다!"
   ]
  },
  {
   "cell_type": "code",
   "execution_count": null,
   "id": "3c1486a6",
   "metadata": {},
   "outputs": [],
   "source": [
    "df.to_csv('oliveyoung_lotion_tokenized.csv', index=False, encoding='utf-8')"
   ]
  }
 ],
 "metadata": {
  "kernelspec": {
   "display_name": "my_env",
   "language": "python",
   "name": "python3"
  },
  "language_info": {
   "codemirror_mode": {
    "name": "ipython",
    "version": 3
   },
   "file_extension": ".py",
   "mimetype": "text/x-python",
   "name": "python",
   "nbconvert_exporter": "python",
   "pygments_lexer": "ipython3",
   "version": "3.11.11"
  }
 },
 "nbformat": 4,
 "nbformat_minor": 5
}
