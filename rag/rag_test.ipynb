{
 "cells": [
  {
   "cell_type": "code",
   "execution_count": 2,
   "id": "ef5e8ed9",
   "metadata": {},
   "outputs": [
    {
     "name": "stdout",
     "output_type": "stream",
     "text": [
      "<class 'pandas.core.frame.DataFrame'>\n",
      "RangeIndex: 119556 entries, 0 to 119555\n",
      "Data columns (total 9 columns):\n",
      " #   Column  Non-Null Count   Dtype \n",
      "---  ------  --------------   ----- \n",
      " 0   제품명     119556 non-null  object\n",
      " 1   성분      119556 non-null  object\n",
      " 2   별점      119556 non-null  int64 \n",
      " 3   피부타입    119556 non-null  object\n",
      " 4   피부고민    119556 non-null  object\n",
      " 5   자극도     119556 non-null  object\n",
      " 6   카테고리    119556 non-null  object\n",
      " 7   리뷰      119556 non-null  object\n",
      " 8   리뷰_감성   119556 non-null  object\n",
      "dtypes: int64(1), object(8)\n",
      "memory usage: 8.2+ MB\n"
     ]
    }
   ],
   "source": [
    "from sentence_transformers import SentenceTransformer\n",
    "import pandas as pd\n",
    "\n",
    "model = SentenceTransformer(\"jhgan/ko-sbert-nli\")  # 한글 리뷰에 적합\n",
    "\n",
    "# 파일명 수정해주세용\n",
    "df = pd.read_csv('labeled/oliveyoung_mist_labels.csv')\n",
    "df.info()\n"
   ]
  },
  {
   "cell_type": "code",
   "execution_count": 3,
   "id": "86dff750",
   "metadata": {},
   "outputs": [],
   "source": [
    "# 유저 질문 분석 함수\n",
    "def extract_fields_from_question(question: str) -> list:\n",
    "    field_keywords = {\n",
    "        \"제품명\": [\"제품명\", \"이름\", \"상품\", \"제품\"],\n",
    "        \"카테고리\": [\"카테고리\", \"스킨\", \"토너\", \"에센스\" ,\"세럼\", \"앰플\", \"크림\", \"로션\", \"미스트\", \"오일\"],\n",
    "        \"성분\": [\"성분\", \"히알루론산\", \"비타민\", \"AHA\", \"BHA\", \"나이아신아마이드\"],\n",
    "        \"피부타입\": [\"건성\", \"지성\", \"복합성\", \"수부지\", \"수분부족지성\", \"극지성\", \"극건성\", \"속건조\", \"피부타입\"],\n",
    "        \"피부고민\": [\"보습\", \"주름\", \"여드름\", \"미백\", \"흉터\", \"진정\", \"잡티\", \"흔적\", \"피부 고민\"],\n",
    "        \"감정\": [\"좋았어요\", \"최악\", \"후회\", \"별점\", \"만족\", \"불만\", \"감정\", \"긍정\", \"부정\", \"중립\"],\n",
    "        \"제형\": [\"제형\", \"찐득\", \"흡수\", \"쫀득\", \"미끌\", \"텍스처\", \"끈적\", \"마무리감\", \"마무리\", \"부드럽다\"],\n",
    "        \"자극도\": [\"순해요\", \"트러블\", \"자극\", \"뾰루지\", \"뒤집어짐\"]\n",
    "    }\n",
    "    result = []\n",
    "    for field, keywords in field_keywords.items():\n",
    "        if any(kw in question for kw in keywords):\n",
    "            result.append(field)\n",
    "    return result if result else [\"제품명\"]"
   ]
  },
  {
   "cell_type": "code",
   "execution_count": 4,
   "id": "8aa6a9d2",
   "metadata": {},
   "outputs": [],
   "source": [
    "# from langchain.schema import Document\n",
    "# from langchain_huggingface import HuggingFaceEmbeddings\n",
    "# from langchain_chroma import Chroma\n",
    "# from langchain_openai import ChatOpenAI\n",
    "# from langchain.prompts import ChatPromptTemplate\n",
    "# from langchain.chains import RetrievalQA\n",
    "# from langchain_core.output_parsers import StrOutputParser\n",
    "# from langchain_core.runnables import RunnablePassthrough\n",
    "\n",
    "# # 메타데이터 (원하는 컬럼만 선택)\n",
    "# meta_columns = [\"제품명\", \"성분\", \"별점\", \"피부타입\", \"피부고민\", \"자극도\", \"리뷰_감성\"]\n",
    "\n",
    "# # Document 리스트 생성\n",
    "# documents = [\n",
    "#     Document(\n",
    "#         page_content=row[\"리뷰\"],  # 리뷰 본문을 page_content로\n",
    "#         metadata={col: row[col] for col in meta_columns}  # 필요한 메타데이터만\n",
    "#     )\n",
    "#     for _, row in df.iterrows()\n",
    "# ]\n",
    "\n",
    "# # LangChain HuggingFace 임베딩 객체 (다시 이걸로 임베딩)\n",
    "# embedding = HuggingFaceEmbeddings(model_name=\"jhgan/ko-sbert-nli\")\n",
    "\n",
    "# # Chroma DB 생성 및 저장\n",
    "# db = Chroma.from_documents(\n",
    "#     documents=documents,\n",
    "#     embedding=embedding,\n",
    "#     persist_directory=\"chroma_oliveyoung\"\n",
    "# )"
   ]
  },
  {
   "cell_type": "code",
   "execution_count": 5,
   "id": "3ce09f8f",
   "metadata": {},
   "outputs": [],
   "source": [
    "from langchain_openai import ChatOpenAI\n",
    "from langchain.prompts import ChatPromptTemplate\n",
    "from langchain.chains import RetrievalQA\n",
    "from langchain_core.output_parsers import StrOutputParser\n",
    "from langchain_core.runnables import RunnablePassthrough\n",
    "from langchain.schema import Document\n",
    "from langchain_huggingface import HuggingFaceEmbeddings\n",
    "from langchain_chroma import Chroma\n",
    "import uuid"
   ]
  },
  {
   "cell_type": "code",
   "execution_count": null,
   "id": "16004f2d",
   "metadata": {},
   "outputs": [
    {
     "ename": "FileNotFoundError",
     "evalue": "[Errno 2] No such file or directory: 'labeled/oliveyoung_lotion_labels.csv'",
     "output_type": "error",
     "traceback": [
      "\u001b[31m---------------------------------------------------------------------------\u001b[39m",
      "\u001b[31mFileNotFoundError\u001b[39m                         Traceback (most recent call last)",
      "\u001b[36mCell\u001b[39m\u001b[36m \u001b[39m\u001b[32mIn[6]\u001b[39m\u001b[32m, line 2\u001b[39m\n\u001b[32m      1\u001b[39m \u001b[38;5;66;03m# 1. 새 파일 불러오기\u001b[39;00m\n\u001b[32m----> \u001b[39m\u001b[32m2\u001b[39m new_df = \u001b[43mpd\u001b[49m\u001b[43m.\u001b[49m\u001b[43mread_csv\u001b[49m\u001b[43m(\u001b[49m\u001b[33;43m\"\u001b[39;49m\u001b[33;43mlabeled/oliveyoung_lotion_labels.csv\u001b[39;49m\u001b[33;43m\"\u001b[39;49m\u001b[43m)\u001b[49m  \u001b[38;5;66;03m# ← 여기서 새 파일 불러오기\u001b[39;00m\n\u001b[32m      4\u001b[39m \u001b[38;5;66;03m# 2. 필요한 컬럼만 추출\u001b[39;00m\n\u001b[32m      5\u001b[39m meta_columns = [\u001b[33m\"\u001b[39m\u001b[33m제품명\u001b[39m\u001b[33m\"\u001b[39m, \u001b[33m\"\u001b[39m\u001b[33m성분\u001b[39m\u001b[33m\"\u001b[39m, \u001b[33m\"\u001b[39m\u001b[33m별점\u001b[39m\u001b[33m\"\u001b[39m, \u001b[33m\"\u001b[39m\u001b[33m피부타입\u001b[39m\u001b[33m\"\u001b[39m, \u001b[33m\"\u001b[39m\u001b[33m피부고민\u001b[39m\u001b[33m\"\u001b[39m, \u001b[33m\"\u001b[39m\u001b[33m자극도\u001b[39m\u001b[33m\"\u001b[39m, \u001b[33m\"\u001b[39m\u001b[33m리뷰_감성\u001b[39m\u001b[33m\"\u001b[39m]\n",
      "\u001b[36mFile \u001b[39m\u001b[32mc:\\Users\\Playdata\\miniconda3\\envs\\my_env\\Lib\\site-packages\\pandas\\io\\parsers\\readers.py:1026\u001b[39m, in \u001b[36mread_csv\u001b[39m\u001b[34m(filepath_or_buffer, sep, delimiter, header, names, index_col, usecols, dtype, engine, converters, true_values, false_values, skipinitialspace, skiprows, skipfooter, nrows, na_values, keep_default_na, na_filter, verbose, skip_blank_lines, parse_dates, infer_datetime_format, keep_date_col, date_parser, date_format, dayfirst, cache_dates, iterator, chunksize, compression, thousands, decimal, lineterminator, quotechar, quoting, doublequote, escapechar, comment, encoding, encoding_errors, dialect, on_bad_lines, delim_whitespace, low_memory, memory_map, float_precision, storage_options, dtype_backend)\u001b[39m\n\u001b[32m   1013\u001b[39m kwds_defaults = _refine_defaults_read(\n\u001b[32m   1014\u001b[39m     dialect,\n\u001b[32m   1015\u001b[39m     delimiter,\n\u001b[32m   (...)\u001b[39m\u001b[32m   1022\u001b[39m     dtype_backend=dtype_backend,\n\u001b[32m   1023\u001b[39m )\n\u001b[32m   1024\u001b[39m kwds.update(kwds_defaults)\n\u001b[32m-> \u001b[39m\u001b[32m1026\u001b[39m \u001b[38;5;28;01mreturn\u001b[39;00m \u001b[43m_read\u001b[49m\u001b[43m(\u001b[49m\u001b[43mfilepath_or_buffer\u001b[49m\u001b[43m,\u001b[49m\u001b[43m \u001b[49m\u001b[43mkwds\u001b[49m\u001b[43m)\u001b[49m\n",
      "\u001b[36mFile \u001b[39m\u001b[32mc:\\Users\\Playdata\\miniconda3\\envs\\my_env\\Lib\\site-packages\\pandas\\io\\parsers\\readers.py:620\u001b[39m, in \u001b[36m_read\u001b[39m\u001b[34m(filepath_or_buffer, kwds)\u001b[39m\n\u001b[32m    617\u001b[39m _validate_names(kwds.get(\u001b[33m\"\u001b[39m\u001b[33mnames\u001b[39m\u001b[33m\"\u001b[39m, \u001b[38;5;28;01mNone\u001b[39;00m))\n\u001b[32m    619\u001b[39m \u001b[38;5;66;03m# Create the parser.\u001b[39;00m\n\u001b[32m--> \u001b[39m\u001b[32m620\u001b[39m parser = \u001b[43mTextFileReader\u001b[49m\u001b[43m(\u001b[49m\u001b[43mfilepath_or_buffer\u001b[49m\u001b[43m,\u001b[49m\u001b[43m \u001b[49m\u001b[43m*\u001b[49m\u001b[43m*\u001b[49m\u001b[43mkwds\u001b[49m\u001b[43m)\u001b[49m\n\u001b[32m    622\u001b[39m \u001b[38;5;28;01mif\u001b[39;00m chunksize \u001b[38;5;129;01mor\u001b[39;00m iterator:\n\u001b[32m    623\u001b[39m     \u001b[38;5;28;01mreturn\u001b[39;00m parser\n",
      "\u001b[36mFile \u001b[39m\u001b[32mc:\\Users\\Playdata\\miniconda3\\envs\\my_env\\Lib\\site-packages\\pandas\\io\\parsers\\readers.py:1620\u001b[39m, in \u001b[36mTextFileReader.__init__\u001b[39m\u001b[34m(self, f, engine, **kwds)\u001b[39m\n\u001b[32m   1617\u001b[39m     \u001b[38;5;28mself\u001b[39m.options[\u001b[33m\"\u001b[39m\u001b[33mhas_index_names\u001b[39m\u001b[33m\"\u001b[39m] = kwds[\u001b[33m\"\u001b[39m\u001b[33mhas_index_names\u001b[39m\u001b[33m\"\u001b[39m]\n\u001b[32m   1619\u001b[39m \u001b[38;5;28mself\u001b[39m.handles: IOHandles | \u001b[38;5;28;01mNone\u001b[39;00m = \u001b[38;5;28;01mNone\u001b[39;00m\n\u001b[32m-> \u001b[39m\u001b[32m1620\u001b[39m \u001b[38;5;28mself\u001b[39m._engine = \u001b[38;5;28;43mself\u001b[39;49m\u001b[43m.\u001b[49m\u001b[43m_make_engine\u001b[49m\u001b[43m(\u001b[49m\u001b[43mf\u001b[49m\u001b[43m,\u001b[49m\u001b[43m \u001b[49m\u001b[38;5;28;43mself\u001b[39;49m\u001b[43m.\u001b[49m\u001b[43mengine\u001b[49m\u001b[43m)\u001b[49m\n",
      "\u001b[36mFile \u001b[39m\u001b[32mc:\\Users\\Playdata\\miniconda3\\envs\\my_env\\Lib\\site-packages\\pandas\\io\\parsers\\readers.py:1880\u001b[39m, in \u001b[36mTextFileReader._make_engine\u001b[39m\u001b[34m(self, f, engine)\u001b[39m\n\u001b[32m   1878\u001b[39m     \u001b[38;5;28;01mif\u001b[39;00m \u001b[33m\"\u001b[39m\u001b[33mb\u001b[39m\u001b[33m\"\u001b[39m \u001b[38;5;129;01mnot\u001b[39;00m \u001b[38;5;129;01min\u001b[39;00m mode:\n\u001b[32m   1879\u001b[39m         mode += \u001b[33m\"\u001b[39m\u001b[33mb\u001b[39m\u001b[33m\"\u001b[39m\n\u001b[32m-> \u001b[39m\u001b[32m1880\u001b[39m \u001b[38;5;28mself\u001b[39m.handles = \u001b[43mget_handle\u001b[49m\u001b[43m(\u001b[49m\n\u001b[32m   1881\u001b[39m \u001b[43m    \u001b[49m\u001b[43mf\u001b[49m\u001b[43m,\u001b[49m\n\u001b[32m   1882\u001b[39m \u001b[43m    \u001b[49m\u001b[43mmode\u001b[49m\u001b[43m,\u001b[49m\n\u001b[32m   1883\u001b[39m \u001b[43m    \u001b[49m\u001b[43mencoding\u001b[49m\u001b[43m=\u001b[49m\u001b[38;5;28;43mself\u001b[39;49m\u001b[43m.\u001b[49m\u001b[43moptions\u001b[49m\u001b[43m.\u001b[49m\u001b[43mget\u001b[49m\u001b[43m(\u001b[49m\u001b[33;43m\"\u001b[39;49m\u001b[33;43mencoding\u001b[39;49m\u001b[33;43m\"\u001b[39;49m\u001b[43m,\u001b[49m\u001b[43m \u001b[49m\u001b[38;5;28;43;01mNone\u001b[39;49;00m\u001b[43m)\u001b[49m\u001b[43m,\u001b[49m\n\u001b[32m   1884\u001b[39m \u001b[43m    \u001b[49m\u001b[43mcompression\u001b[49m\u001b[43m=\u001b[49m\u001b[38;5;28;43mself\u001b[39;49m\u001b[43m.\u001b[49m\u001b[43moptions\u001b[49m\u001b[43m.\u001b[49m\u001b[43mget\u001b[49m\u001b[43m(\u001b[49m\u001b[33;43m\"\u001b[39;49m\u001b[33;43mcompression\u001b[39;49m\u001b[33;43m\"\u001b[39;49m\u001b[43m,\u001b[49m\u001b[43m \u001b[49m\u001b[38;5;28;43;01mNone\u001b[39;49;00m\u001b[43m)\u001b[49m\u001b[43m,\u001b[49m\n\u001b[32m   1885\u001b[39m \u001b[43m    \u001b[49m\u001b[43mmemory_map\u001b[49m\u001b[43m=\u001b[49m\u001b[38;5;28;43mself\u001b[39;49m\u001b[43m.\u001b[49m\u001b[43moptions\u001b[49m\u001b[43m.\u001b[49m\u001b[43mget\u001b[49m\u001b[43m(\u001b[49m\u001b[33;43m\"\u001b[39;49m\u001b[33;43mmemory_map\u001b[39;49m\u001b[33;43m\"\u001b[39;49m\u001b[43m,\u001b[49m\u001b[43m \u001b[49m\u001b[38;5;28;43;01mFalse\u001b[39;49;00m\u001b[43m)\u001b[49m\u001b[43m,\u001b[49m\n\u001b[32m   1886\u001b[39m \u001b[43m    \u001b[49m\u001b[43mis_text\u001b[49m\u001b[43m=\u001b[49m\u001b[43mis_text\u001b[49m\u001b[43m,\u001b[49m\n\u001b[32m   1887\u001b[39m \u001b[43m    \u001b[49m\u001b[43merrors\u001b[49m\u001b[43m=\u001b[49m\u001b[38;5;28;43mself\u001b[39;49m\u001b[43m.\u001b[49m\u001b[43moptions\u001b[49m\u001b[43m.\u001b[49m\u001b[43mget\u001b[49m\u001b[43m(\u001b[49m\u001b[33;43m\"\u001b[39;49m\u001b[33;43mencoding_errors\u001b[39;49m\u001b[33;43m\"\u001b[39;49m\u001b[43m,\u001b[49m\u001b[43m \u001b[49m\u001b[33;43m\"\u001b[39;49m\u001b[33;43mstrict\u001b[39;49m\u001b[33;43m\"\u001b[39;49m\u001b[43m)\u001b[49m\u001b[43m,\u001b[49m\n\u001b[32m   1888\u001b[39m \u001b[43m    \u001b[49m\u001b[43mstorage_options\u001b[49m\u001b[43m=\u001b[49m\u001b[38;5;28;43mself\u001b[39;49m\u001b[43m.\u001b[49m\u001b[43moptions\u001b[49m\u001b[43m.\u001b[49m\u001b[43mget\u001b[49m\u001b[43m(\u001b[49m\u001b[33;43m\"\u001b[39;49m\u001b[33;43mstorage_options\u001b[39;49m\u001b[33;43m\"\u001b[39;49m\u001b[43m,\u001b[49m\u001b[43m \u001b[49m\u001b[38;5;28;43;01mNone\u001b[39;49;00m\u001b[43m)\u001b[49m\u001b[43m,\u001b[49m\n\u001b[32m   1889\u001b[39m \u001b[43m\u001b[49m\u001b[43m)\u001b[49m\n\u001b[32m   1890\u001b[39m \u001b[38;5;28;01massert\u001b[39;00m \u001b[38;5;28mself\u001b[39m.handles \u001b[38;5;129;01mis\u001b[39;00m \u001b[38;5;129;01mnot\u001b[39;00m \u001b[38;5;28;01mNone\u001b[39;00m\n\u001b[32m   1891\u001b[39m f = \u001b[38;5;28mself\u001b[39m.handles.handle\n",
      "\u001b[36mFile \u001b[39m\u001b[32mc:\\Users\\Playdata\\miniconda3\\envs\\my_env\\Lib\\site-packages\\pandas\\io\\common.py:873\u001b[39m, in \u001b[36mget_handle\u001b[39m\u001b[34m(path_or_buf, mode, encoding, compression, memory_map, is_text, errors, storage_options)\u001b[39m\n\u001b[32m    868\u001b[39m \u001b[38;5;28;01melif\u001b[39;00m \u001b[38;5;28misinstance\u001b[39m(handle, \u001b[38;5;28mstr\u001b[39m):\n\u001b[32m    869\u001b[39m     \u001b[38;5;66;03m# Check whether the filename is to be opened in binary mode.\u001b[39;00m\n\u001b[32m    870\u001b[39m     \u001b[38;5;66;03m# Binary mode does not support 'encoding' and 'newline'.\u001b[39;00m\n\u001b[32m    871\u001b[39m     \u001b[38;5;28;01mif\u001b[39;00m ioargs.encoding \u001b[38;5;129;01mand\u001b[39;00m \u001b[33m\"\u001b[39m\u001b[33mb\u001b[39m\u001b[33m\"\u001b[39m \u001b[38;5;129;01mnot\u001b[39;00m \u001b[38;5;129;01min\u001b[39;00m ioargs.mode:\n\u001b[32m    872\u001b[39m         \u001b[38;5;66;03m# Encoding\u001b[39;00m\n\u001b[32m--> \u001b[39m\u001b[32m873\u001b[39m         handle = \u001b[38;5;28;43mopen\u001b[39;49m\u001b[43m(\u001b[49m\n\u001b[32m    874\u001b[39m \u001b[43m            \u001b[49m\u001b[43mhandle\u001b[49m\u001b[43m,\u001b[49m\n\u001b[32m    875\u001b[39m \u001b[43m            \u001b[49m\u001b[43mioargs\u001b[49m\u001b[43m.\u001b[49m\u001b[43mmode\u001b[49m\u001b[43m,\u001b[49m\n\u001b[32m    876\u001b[39m \u001b[43m            \u001b[49m\u001b[43mencoding\u001b[49m\u001b[43m=\u001b[49m\u001b[43mioargs\u001b[49m\u001b[43m.\u001b[49m\u001b[43mencoding\u001b[49m\u001b[43m,\u001b[49m\n\u001b[32m    877\u001b[39m \u001b[43m            \u001b[49m\u001b[43merrors\u001b[49m\u001b[43m=\u001b[49m\u001b[43merrors\u001b[49m\u001b[43m,\u001b[49m\n\u001b[32m    878\u001b[39m \u001b[43m            \u001b[49m\u001b[43mnewline\u001b[49m\u001b[43m=\u001b[49m\u001b[33;43m\"\u001b[39;49m\u001b[33;43m\"\u001b[39;49m\u001b[43m,\u001b[49m\n\u001b[32m    879\u001b[39m \u001b[43m        \u001b[49m\u001b[43m)\u001b[49m\n\u001b[32m    880\u001b[39m     \u001b[38;5;28;01melse\u001b[39;00m:\n\u001b[32m    881\u001b[39m         \u001b[38;5;66;03m# Binary mode\u001b[39;00m\n\u001b[32m    882\u001b[39m         handle = \u001b[38;5;28mopen\u001b[39m(handle, ioargs.mode)\n",
      "\u001b[31mFileNotFoundError\u001b[39m: [Errno 2] No such file or directory: 'labeled/oliveyoung_lotion_labels.csv'"
     ]
    }
   ],
   "source": [
    "# 1. 새 파일 불러오기\n",
    "new_df = pd.read_csv(\"labeled/oliveyoung_lotion_labels.csv\")  # ← 여기서 새 파일 불러오기\n",
    "\n",
    "# 2. 필요한 컬럼만 추출\n",
    "meta_columns = [\"제품명\", \"성분\", \"별점\", \"피부타입\", \"피부고민\", \"자극도\", \"리뷰_감성\"]\n",
    "\n",
    "# 3. Document 리스트 생성\n",
    "documents_new = [\n",
    "    Document(\n",
    "        page_content=row[\"리뷰\"],  # 본문 텍스트\n",
    "        metadata={col: row[col] for col in meta_columns}\n",
    "    )\n",
    "    for _, row in new_df.iterrows()\n",
    "]\n",
    "\n",
    "# 4. 기존 Chroma DB 불러오기\n",
    "embedding_model = HuggingFaceEmbeddings(model_name=\"jhgan/ko-sbert-nli\")\n",
    "db = Chroma(\n",
    "    persist_directory=\"./chroma_oliveyoung_reviews\",\n",
    "    embedding_function=embedding_model\n",
    ")\n",
    "\n",
    "# 5. 벡터 DB에 추가\n",
    "db.add_documents(\n",
    "    documents=documents_new,\n",
    "    ids=[str(uuid.uuid4()) for _ in documents_new]\n",
    ")"
   ]
  },
  {
   "cell_type": "code",
   "execution_count": 9,
   "id": "d567a58a",
   "metadata": {},
   "outputs": [],
   "source": [
    "# 4. 기존 Chroma DB 불러오기\n",
    "embedding_model = HuggingFaceEmbeddings(model_name=\"jhgan/ko-sbert-nli\")\n",
    "db = Chroma(\n",
    "    persist_directory=\"./chroma_oliveyoung_reviews\",\n",
    "    embedding_function=embedding_model\n",
    ")"
   ]
  },
  {
   "cell_type": "code",
   "execution_count": 10,
   "id": "c586d6f3",
   "metadata": {},
   "outputs": [
    {
     "name": "stdout",
     "output_type": "stream",
     "text": [
      "저장된 문서 개수: 468398\n"
     ]
    }
   ],
   "source": [
    "print(f\"저장된 문서 개수: {db._collection.count()}\")"
   ]
  },
  {
   "cell_type": "code",
   "execution_count": 11,
   "id": "0f33b6c6",
   "metadata": {},
   "outputs": [
    {
     "name": "stdout",
     "output_type": "stream",
     "text": [
      "--- Result 1 ---\n",
      "내용: 요즘 피부가 너무 건조해서 수분크림 찾다가 구매했어요.\n",
      "메타데이터: {'피부고민': '보습에 좋아요', '자극도': '자극없이 순해요', '성분': '케일잎추출물, 글리세린, 바질잎수, 2,3-부탄다이올, 나이아신아마이드, C13-15알케인, 정제수, 아보카도열매추출물, 브로콜리추출물, 아스파라거스추출물, 파슬리추출물, 포도추출물, 파파야열매추출물, 사과추출물, 매실추출물, 오크라열매추출물, 판테놀, 베타-글루칸, 베타인, 카프릴릭/카프릭트라이글리세라이드, 폴리글리세릴-2스테아레이트, 암모늄아크릴로일다이메틸타우레이트/브이피코폴리머, 글리세릴스테아레이트, 레시틴, 알지닌, 아크릴레이트/C10-30알킬아크릴레이트크로스폴리머, 잔탄검, 알란토인, 시트릭애씨드, 토코페롤, 다이포타슘글리시리제이트, 아데노신, 소듐파이테이트, 소듐아크릴레이트코폴리머, 1,2-헥산다이올, 스테아릴알코올, 인도멀구슬나무잎추출물, 에틸헥실글리세린, 인도멀구슬나무꽃추출물, 판토락톤, 소듐시트레이트', '별점': '5점만점에 5점', '제품명': '[NEW] 허스텔러 원더 베지 하이드레이팅 젤 크림 50ml', '피부타입': '건성에 좋아요'}\n",
      "--- Result 2 ---\n",
      "내용: 요즘 피부가 너무 건조해서 수분크림 찾다가 구매했어요.\n",
      "메타데이터: {'자극도': '자극없이 순해요', '제품명': '[NEW] 허스텔러 원더 베지 하이드레이팅 젤 크림 50ml', '피부타입': '건성에 좋아요', '별점': '5점만점에 5점', '성분': '케일잎추출물, 글리세린, 바질잎수, 2,3-부탄다이올, 나이아신아마이드, C13-15알케인, 정제수, 아보카도열매추출물, 브로콜리추출물, 아스파라거스추출물, 파슬리추출물, 포도추출물, 파파야열매추출물, 사과추출물, 매실추출물, 오크라열매추출물, 판테놀, 베타-글루칸, 베타인, 카프릴릭/카프릭트라이글리세라이드, 폴리글리세릴-2스테아레이트, 암모늄아크릴로일다이메틸타우레이트/브이피코폴리머, 글리세릴스테아레이트, 레시틴, 알지닌, 아크릴레이트/C10-30알킬아크릴레이트크로스폴리머, 잔탄검, 알란토인, 시트릭애씨드, 토코페롤, 다이포타슘글리시리제이트, 아데노신, 소듐파이테이트, 소듐아크릴레이트코폴리머, 1,2-헥산다이올, 스테아릴알코올, 인도멀구슬나무잎추출물, 에틸헥실글리세린, 인도멀구슬나무꽃추출물, 판토락톤, 소듐시트레이트', '피부고민': '보습에 좋아요'}\n",
      "--- Result 3 ---\n",
      "내용: 요즘 피부가 너무 건조해서 수분크림 찾다가 구매했어요.\n",
      "메타데이터: {'제품명': '[NEW] 허스텔러 원더 베지 하이드레이팅 젤 크림 50ml', '피부타입': '건성에 좋아요', '별점': '5점만점에 5점', '성분': '케일잎추출물, 글리세린, 바질잎수, 2,3-부탄다이올, 나이아신아마이드, C13-15알케인, 정제수, 아보카도열매추출물, 브로콜리추출물, 아스파라거스추출물, 파슬리추출물, 포도추출물, 파파야열매추출물, 사과추출물, 매실추출물, 오크라열매추출물, 판테놀, 베타-글루칸, 베타인, 카프릴릭/카프릭트라이글리세라이드, 폴리글리세릴-2스테아레이트, 암모늄아크릴로일다이메틸타우레이트/브이피코폴리머, 글리세릴스테아레이트, 레시틴, 알지닌, 아크릴레이트/C10-30알킬아크릴레이트크로스폴리머, 잔탄검, 알란토인, 시트릭애씨드, 토코페롤, 다이포타슘글리시리제이트, 아데노신, 소듐파이테이트, 소듐아크릴레이트코폴리머, 1,2-헥산다이올, 스테아릴알코올, 인도멀구슬나무잎추출물, 에틸헥실글리세린, 인도멀구슬나무꽃추출물, 판토락톤, 소듐시트레이트', '피부고민': '보습에 좋아요', '자극도': '자극없이 순해요'}\n"
     ]
    }
   ],
   "source": [
    "# test\n",
    "results = db.similarity_search(\"피부가 너무 건조한데, 미스트 제품 추천해줘\", k=3)\n",
    "\n",
    "for i, doc in enumerate(results, 1):\n",
    "    print(f\"--- Result {i} ---\")\n",
    "    print(\"내용:\", doc.page_content)\n",
    "    print(\"메타데이터:\", doc.metadata)"
   ]
  },
  {
   "cell_type": "code",
   "execution_count": null,
   "id": "fbbaf528",
   "metadata": {},
   "outputs": [
    {
     "ename": "OpenAIError",
     "evalue": "The api_key client option must be set either by passing api_key to the client or by setting the OPENAI_API_KEY environment variable",
     "output_type": "error",
     "traceback": [
      "\u001b[31m---------------------------------------------------------------------------\u001b[39m",
      "\u001b[31mOpenAIError\u001b[39m                               Traceback (most recent call last)",
      "\u001b[36mCell\u001b[39m\u001b[36m \u001b[39m\u001b[32mIn[12]\u001b[39m\u001b[32m, line 2\u001b[39m\n\u001b[32m      1\u001b[39m \u001b[38;5;66;03m# LLM 설정\u001b[39;00m\n\u001b[32m----> \u001b[39m\u001b[32m2\u001b[39m llm = \u001b[43mChatOpenAI\u001b[49m\u001b[43m(\u001b[49m\u001b[43mtemperature\u001b[49m\u001b[43m=\u001b[49m\u001b[32;43m0.7\u001b[39;49m\u001b[43m,\u001b[49m\u001b[43m \u001b[49m\u001b[43mmodel\u001b[49m\u001b[43m=\u001b[49m\u001b[33;43m\"\u001b[39;49m\u001b[33;43mgpt-4\u001b[39;49m\u001b[33;43m\"\u001b[39;49m\u001b[43m)\u001b[49m\n\u001b[32m      4\u001b[39m \u001b[38;5;66;03m# 프롬프트 템플릿\u001b[39;00m\n\u001b[32m      5\u001b[39m prompt_template = ChatPromptTemplate.from_template(\u001b[33m\"\"\"\u001b[39m\n\u001b[32m      6\u001b[39m \u001b[33m      당신은 올리브영 스킨케어 화장품 정보를 전문적으로 안내하는 AI 어시스턴트입니다.\u001b[39m\n\u001b[32m      7\u001b[39m \u001b[33m      사용자 질문에 따라 카테고리, 성분, 피부타입, 제형, 자극도, 감정 정보 등을 바탕으로 정확한 화장품 정보를 제공합니다.\u001b[39m\n\u001b[32m   (...)\u001b[39m\u001b[32m     31\u001b[39m \u001b[33m      \u001b[39m\u001b[38;5;132;01m{question}\u001b[39;00m\n\u001b[32m     32\u001b[39m \u001b[33m      \u001b[39m\u001b[33m\"\"\"\u001b[39m)\n",
      "\u001b[36mFile \u001b[39m\u001b[32mc:\\Users\\Playdata\\miniconda3\\envs\\my_env\\Lib\\site-packages\\langchain_core\\load\\serializable.py:130\u001b[39m, in \u001b[36mSerializable.__init__\u001b[39m\u001b[34m(self, *args, **kwargs)\u001b[39m\n\u001b[32m    128\u001b[39m \u001b[38;5;28;01mdef\u001b[39;00m\u001b[38;5;250m \u001b[39m\u001b[34m__init__\u001b[39m(\u001b[38;5;28mself\u001b[39m, *args: Any, **kwargs: Any) -> \u001b[38;5;28;01mNone\u001b[39;00m:\n\u001b[32m    129\u001b[39m \u001b[38;5;250m    \u001b[39m\u001b[33;03m\"\"\"\"\"\"\u001b[39;00m  \u001b[38;5;66;03m# noqa: D419\u001b[39;00m\n\u001b[32m--> \u001b[39m\u001b[32m130\u001b[39m     \u001b[38;5;28;43msuper\u001b[39;49m\u001b[43m(\u001b[49m\u001b[43m)\u001b[49m\u001b[43m.\u001b[49m\u001b[34;43m__init__\u001b[39;49m\u001b[43m(\u001b[49m\u001b[43m*\u001b[49m\u001b[43margs\u001b[49m\u001b[43m,\u001b[49m\u001b[43m \u001b[49m\u001b[43m*\u001b[49m\u001b[43m*\u001b[49m\u001b[43mkwargs\u001b[49m\u001b[43m)\u001b[49m\n",
      "    \u001b[31m[... skipping hidden 1 frame]\u001b[39m\n",
      "\u001b[36mFile \u001b[39m\u001b[32mc:\\Users\\Playdata\\miniconda3\\envs\\my_env\\Lib\\site-packages\\langchain_openai\\chat_models\\base.py:690\u001b[39m, in \u001b[36mBaseChatOpenAI.validate_environment\u001b[39m\u001b[34m(self)\u001b[39m\n\u001b[32m    683\u001b[39m         \u001b[38;5;28mself\u001b[39m.http_client = httpx.Client(\n\u001b[32m    684\u001b[39m             proxy=\u001b[38;5;28mself\u001b[39m.openai_proxy, verify=global_ssl_context\n\u001b[32m    685\u001b[39m         )\n\u001b[32m    686\u001b[39m     sync_specific = {\n\u001b[32m    687\u001b[39m         \u001b[33m\"\u001b[39m\u001b[33mhttp_client\u001b[39m\u001b[33m\"\u001b[39m: \u001b[38;5;28mself\u001b[39m.http_client\n\u001b[32m    688\u001b[39m         \u001b[38;5;129;01mor\u001b[39;00m _get_default_httpx_client(\u001b[38;5;28mself\u001b[39m.openai_api_base, \u001b[38;5;28mself\u001b[39m.request_timeout)\n\u001b[32m    689\u001b[39m     }\n\u001b[32m--> \u001b[39m\u001b[32m690\u001b[39m     \u001b[38;5;28mself\u001b[39m.root_client = \u001b[43mopenai\u001b[49m\u001b[43m.\u001b[49m\u001b[43mOpenAI\u001b[49m\u001b[43m(\u001b[49m\u001b[43m*\u001b[49m\u001b[43m*\u001b[49m\u001b[43mclient_params\u001b[49m\u001b[43m,\u001b[49m\u001b[43m \u001b[49m\u001b[43m*\u001b[49m\u001b[43m*\u001b[49m\u001b[43msync_specific\u001b[49m\u001b[43m)\u001b[49m  \u001b[38;5;66;03m# type: ignore[arg-type]\u001b[39;00m\n\u001b[32m    691\u001b[39m     \u001b[38;5;28mself\u001b[39m.client = \u001b[38;5;28mself\u001b[39m.root_client.chat.completions\n\u001b[32m    692\u001b[39m \u001b[38;5;28;01mif\u001b[39;00m \u001b[38;5;129;01mnot\u001b[39;00m \u001b[38;5;28mself\u001b[39m.async_client:\n",
      "\u001b[36mFile \u001b[39m\u001b[32mc:\\Users\\Playdata\\miniconda3\\envs\\my_env\\Lib\\site-packages\\openai\\_client.py:126\u001b[39m, in \u001b[36mOpenAI.__init__\u001b[39m\u001b[34m(self, api_key, organization, project, base_url, websocket_base_url, timeout, max_retries, default_headers, default_query, http_client, _strict_response_validation)\u001b[39m\n\u001b[32m    124\u001b[39m     api_key = os.environ.get(\u001b[33m\"\u001b[39m\u001b[33mOPENAI_API_KEY\u001b[39m\u001b[33m\"\u001b[39m)\n\u001b[32m    125\u001b[39m \u001b[38;5;28;01mif\u001b[39;00m api_key \u001b[38;5;129;01mis\u001b[39;00m \u001b[38;5;28;01mNone\u001b[39;00m:\n\u001b[32m--> \u001b[39m\u001b[32m126\u001b[39m     \u001b[38;5;28;01mraise\u001b[39;00m OpenAIError(\n\u001b[32m    127\u001b[39m         \u001b[33m\"\u001b[39m\u001b[33mThe api_key client option must be set either by passing api_key to the client or by setting the OPENAI_API_KEY environment variable\u001b[39m\u001b[33m\"\u001b[39m\n\u001b[32m    128\u001b[39m     )\n\u001b[32m    129\u001b[39m \u001b[38;5;28mself\u001b[39m.api_key = api_key\n\u001b[32m    131\u001b[39m \u001b[38;5;28;01mif\u001b[39;00m organization \u001b[38;5;129;01mis\u001b[39;00m \u001b[38;5;28;01mNone\u001b[39;00m:\n",
      "\u001b[31mOpenAIError\u001b[39m: The api_key client option must be set either by passing api_key to the client or by setting the OPENAI_API_KEY environment variable"
     ]
    }
   ],
   "source": [
    "# LLM 설정\n",
    "llm = ChatOpenAI(temperature=0.7, model=\"gpt-4.1\")\n",
    "\n",
    "# 프롬프트 템플릿\n",
    "prompt_template = ChatPromptTemplate.from_template(\"\"\"\n",
    "      당신은 올리브영 스킨케어 화장품 정보를 전문적으로 안내하는 AI 어시스턴트입니다.\n",
    "      사용자 질문에 따라 카테고리, 성분, 피부타입, 제형, 자극도, 감정 정보 등을 바탕으로 정확한 화장품 정보를 제공합니다.\n",
    "      사용자의 피부 고민과 선호에 맞춰 카테고리에 맞는 화장품을 2~3 가지 추천하고, 관련 리뷰 정보를 요약해주는 것이 주요 역할입니다.\n",
    "\n",
    "      # Instruction(지켜야 할 규칙):\n",
    "      1. 반드시 제공된 문서(context)의 정보만을 기반으로 답변하세요. \n",
    "         문서에 없는 사실을 추측하거나 임의로 생성하지 마세요.\n",
    "      2. 화장품의 이름과 카테고리는 반드시 '카테고리'와 '제품명' 필드를 참고하여 확인하세요. \n",
    "         카테고리는 스킨/토너, 에센스/세럼/앰플, 크림, 로션, 미스트/오일로 구성되어 있습니다.\n",
    "      3. 가능한 한 명확하고 간결하게 답변하세요.\n",
    "      4. 화장품 정보를 안내할 때는 다음 순서를 지키세요: \n",
    "         - 제품명\n",
    "         - 주요 성분 (가능한 경우)\n",
    "         - 평점 또는 긍정 리뷰 요약\n",
    "      5. 문장 스타일은 전문성과 친근함을 겸비한 대화체로 작성하세요. \n",
    "         예: “이 제품은 복합성 피부에 정말 잘 맞는다고 해요!”\n",
    "      6. “문서에 따르면”, “문맥에서 보면”과 같은 표현은 사용하지 마세요. 자연스럽게 설명만 하세요.\n",
    "      7. 질문이 모호하거나 정보가 부족할 경우, 필요한 정보를 정중하게 요청하세요.\n",
    "      8. 출력은 보기 쉽게 줄바꿈을 해서 전달해주세요.\n",
    "      9. 제품 추천 및 설명 마지막에 특징을 잘 나타내는 문서(별점은 제외)들을 세 개 정도 출력해주세요.\n",
    "                                                   \n",
    "      # Context(문서 요약 정보):\n",
    "      {context}\n",
    "\n",
    "      # 질문:\n",
    "      {question}\n",
    "      \"\"\")\n",
    "\n",
    "def format_docs(docs):\n",
    "    return \"\\n\\n\".join(doc.page_content for doc in docs)\n",
    "\n",
    "retriever = db.as_retriever()\n",
    "# RAG 체인 구성\n",
    "rag_chain = (\n",
    "    {\"context\": retriever, \"question\": RunnablePassthrough()}\n",
    "    | prompt_template\n",
    "    | llm\n",
    "    | StrOutputParser()\n",
    ")"
   ]
  },
  {
   "cell_type": "code",
   "execution_count": null,
   "id": "9a116e7b",
   "metadata": {},
   "outputs": [
    {
     "name": "stdout",
     "output_type": "stream",
     "text": [
      "🧠 응답:\n",
      "차앤박(CNP) 프로폴리스 에너지 앰플 미스트는 건성 피부에게 꽤 좋은 평가를 받았습니다. \n",
      "\n",
      "주요 성분으로는 프로폴리스 추출물과 하이알루로닉애씨드가 들어있는데, 이런 성분들은 피부에 충분한 보습을 제공하며, 피부를 유연하게 유지하는데 도움을 줍니다. \n",
      "\n",
      "이 제품에 대한 사용 후기는 '자극 없이 순하다'며 피부에 부드럽게 적용되고 보습에 효과적이라는 평가를 받았습니다. 별점은 5점 만점에 5점을 받았습니다. \n",
      "\n",
      "이 제품에 대한 다른 사용 후기를 확인하시려면 아래의 문서를 참고하세요: \n",
      "- Document ID: '0d5e895b-72b0-46eb-8b05-3541b04707e8' \n",
      "- Document ID: '018a13d4-0f21-45dc-bd4c-5fc2009e5a29' \n",
      "- Document ID: '7b55fc4b-512b-4d9f-93b1-e687831a3094' \n",
      "- Document ID: '49db2645-2b14-4ea8-8e99-1c17bf794143'\n"
     ]
    }
   ],
   "source": [
    "# 예시 질문\n",
    "question = \"속건조에 좋은 미스트 3개만 알려주세요.\"\n",
    "response = rag_chain.invoke(question)\n",
    "\n",
    "print(\"🧠 응답:\")\n",
    "print(response)"
   ]
  },
  {
   "cell_type": "code",
   "execution_count": null,
   "id": "95ad29db",
   "metadata": {},
   "outputs": [],
   "source": []
  }
 ],
 "metadata": {
  "kernelspec": {
   "display_name": "my_env",
   "language": "python",
   "name": "python3"
  },
  "language_info": {
   "codemirror_mode": {
    "name": "ipython",
    "version": 3
   },
   "file_extension": ".py",
   "mimetype": "text/x-python",
   "name": "python",
   "nbconvert_exporter": "python",
   "pygments_lexer": "ipython3",
   "version": "3.11.11"
  }
 },
 "nbformat": 4,
 "nbformat_minor": 5
}
